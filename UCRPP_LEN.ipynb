{
 "cells": [
  {
   "cell_type": "code",
   "execution_count": 1,
   "metadata": {
    "tags": []
   },
   "outputs": [],
   "source": [
    "import os\n",
    "import csv\n",
    "import time\n",
    "import pickle\n",
    "import numpy as np\n",
    "import pandas as pd\n",
    "from fABBA import fABBA\n",
    "from source.jabba import fastQABBA\n",
    "from tqdm import tqdm\n",
    "import matplotlib.pyplot as plt\n",
    "from source.figdefault import figdefault\n",
    "from tslearn.metrics import dtw as dtw\n",
    "from fABBA import inverse_compress\n",
    "from fABBA import inverse_digitize\n",
    "from sklearn.metrics import mean_squared_error as mse\n",
    "from source.jabba.qabba import compute_storage\n",
    "import warnings\n",
    "warnings.filterwarnings(\"ignore\")"
   ]
  },
  {
   "cell_type": "code",
   "execution_count": 2,
   "metadata": {},
   "outputs": [
    {
     "name": "stdout",
     "output_type": "stream",
     "text": [
      "Number of time series: 201761\n"
     ]
    }
   ],
   "source": [
    "class Error(Exception):\n",
    "    \"\"\"Base class for other exceptions\"\"\"\n",
    "    pass\n",
    "\n",
    "class TimeSeriesTooShort(Error):\n",
    "    \"\"\"Raised when time series is too short\"\"\"\n",
    "    pass\n",
    "\n",
    "class NotEnoughPieces(Error):\n",
    "    \"\"\"Raised when not enough pieces\"\"\"\n",
    "    pass\n",
    "\n",
    "class CompressionTolHigh(Error):\n",
    "    \"\"\"Raised when not enough pieces\"\"\"\n",
    "    pass\n",
    "\n",
    "class VariantsError(Error):\n",
    "    \"\"\"Raised when not enough unique pieces\"\"\"\n",
    "    # Making assumption Ckmeans is available and suitable tol and scl is given.\n",
    "    pass\n",
    "\n",
    "class UnknownError(Error):\n",
    "    \"\"\"Raised when not enough unique pieces\"\"\"\n",
    "    # Making assumption Ckmeans is available and suitable tol and scl is given.\n",
    "    pass\n",
    "\n",
    "\n",
    "class QABBA1Error(Error):\n",
    "    # Error arising from QABBA\n",
    "    pass\n",
    "\n",
    "class QABBA2Error(Error):\n",
    "    # Error arising from QABBA\n",
    "    pass\n",
    "\n",
    "class QABBA3Error(Error):\n",
    "    # Error arising from QABBA\n",
    "    pass\n",
    "\n",
    "class QABBA4Error(Error):\n",
    "    # Error arising from QABBA\n",
    "    pass\n",
    "\n",
    "class QABBA5Error(Error):\n",
    "    # Error arising from QABBA\n",
    "    pass\n",
    "\n",
    "class QABBA6Error(Error):\n",
    "    # Error arising from QABBA\n",
    "    pass\n",
    "\n",
    "class QABBA7Error(Error):\n",
    "    # Error arising from QABBA\n",
    "    pass\n",
    "\n",
    "class QABBA8Error(Error):\n",
    "    # Error arising from QABBA\n",
    "    pass\n",
    "\n",
    "class fABBAError(Error):\n",
    "    # Error arising from fABBA\n",
    "    pass\n",
    "\n",
    "\n",
    "\n",
    "datadir = 'UCR2018/'\n",
    "# tolerances\n",
    "tol = [0.05*i for i in range(1,11)]\n",
    "\n",
    "# If pickle file does not exist, make it.\n",
    "# if not os.path.exists('scl'+str(scl)+'.pkl'):\n",
    "\n",
    "# Calculate number of time series, to provide progess information.\n",
    "ts_count = 0\n",
    "for root, dirs, files in os.walk(datadir):\n",
    "    for file in files:\n",
    "        if file.endswith('tsv'):\n",
    "            with open(os.path.join(root, file)) as f:\n",
    "                content = f.readlines()\n",
    "                ts_count += len(content)\n",
    "                \n",
    "print('Number of time series:', ts_count)\n",
    "\n",
    "\n",
    "# Construct list of NaNs\n",
    "D_fABBA_2 = ts_count*[np.NaN]\n",
    "D_QABBA1_2 = ts_count*[np.NaN]\n",
    "D_QABBA1_2 = ts_count*[np.NaN]\n",
    "D_QABBA2_2 = ts_count*[np.NaN]\n",
    "D_QABBA3_2 = ts_count*[np.NaN]\n",
    "D_QABBA4_2 = ts_count*[np.NaN]\n",
    "D_QABBA5_2 = ts_count*[np.NaN]\n",
    "D_QABBA6_2 = ts_count*[np.NaN]\n",
    "D_QABBA7_2 = ts_count*[np.NaN]\n",
    "D_QABBA8_2 = ts_count*[np.NaN]\n",
    "\n",
    "D_fABBA_DTW = ts_count*[np.NaN]\n",
    "D_QABBA1_DTW = ts_count*[np.NaN]\n",
    "D_QABBA2_DTW = ts_count*[np.NaN]\n",
    "D_QABBA3_DTW = ts_count*[np.NaN]\n",
    "D_QABBA4_DTW = ts_count*[np.NaN]\n",
    "D_QABBA5_DTW = ts_count*[np.NaN]\n",
    "D_QABBA6_DTW = ts_count*[np.NaN]\n",
    "D_QABBA7_DTW = ts_count*[np.NaN]\n",
    "D_QABBA8_DTW = ts_count*[np.NaN]\n",
    "\n",
    "D_fABBA_2_diff = ts_count*[np.NaN]\n",
    "D_QABBA1_2_diff = ts_count*[np.NaN]\n",
    "D_QABBA2_2_diff = ts_count*[np.NaN]\n",
    "D_QABBA3_2_diff = ts_count*[np.NaN]\n",
    "D_QABBA4_2_diff = ts_count*[np.NaN]\n",
    "D_QABBA5_2_diff = ts_count*[np.NaN]\n",
    "D_QABBA6_2_diff = ts_count*[np.NaN]\n",
    "D_QABBA7_2_diff = ts_count*[np.NaN]\n",
    "D_QABBA8_2_diff = ts_count*[np.NaN]\n",
    "\n",
    "D_fABBA_DTW_diff = ts_count*[np.NaN]\n",
    "D_QABBA1_DTW_diff = ts_count*[np.NaN]\n",
    "D_QABBA2_DTW_diff = ts_count*[np.NaN]\n",
    "D_QABBA3_DTW_diff = ts_count*[np.NaN]\n",
    "D_QABBA4_DTW_diff = ts_count*[np.NaN]\n",
    "D_QABBA5_DTW_diff = ts_count*[np.NaN]\n",
    "D_QABBA6_DTW_diff = ts_count*[np.NaN]\n",
    "D_QABBA7_DTW_diff = ts_count*[np.NaN]\n",
    "D_QABBA8_DTW_diff = ts_count*[np.NaN]\n",
    "\n",
    "ts_name = ts_count*[''] # time series name for debugging\n",
    "count = ts_count*[0]\n",
    "compression = ts_count*[np.NaN] # Store amount of compression\n",
    "tol_used = ts_count*[np.NaN] # Store tol used\n",
    "error = ts_count*[0] # track errors\n",
    "\n",
    "csymbolicNum = list()\n",
    "cpiecesNum = list()\n",
    "ctsname = list()\n",
    "ctolist = list()"
   ]
  },
  {
   "cell_type": "code",
   "execution_count": 3,
   "metadata": {},
   "outputs": [
    {
     "name": "stdout",
     "output_type": "stream",
     "text": [
      "file: DodgerLoopWeekend_TRAIN.tsv\n"
     ]
    },
    {
     "name": "stderr",
     "output_type": "stream",
     "text": [
      "20it [00:02,  9.57it/s]\n"
     ]
    },
    {
     "name": "stdout",
     "output_type": "stream",
     "text": [
      "file: DodgerLoopWeekend_TEST.tsv\n"
     ]
    },
    {
     "name": "stderr",
     "output_type": "stream",
     "text": [
      "138it [00:07, 18.17it/s]\n"
     ]
    },
    {
     "name": "stdout",
     "output_type": "stream",
     "text": [
      "file: Wine_TRAIN.tsv\n"
     ]
    },
    {
     "name": "stderr",
     "output_type": "stream",
     "text": [
      "57it [00:02, 25.77it/s]\n"
     ]
    },
    {
     "name": "stdout",
     "output_type": "stream",
     "text": [
      "file: Wine_TEST.tsv\n"
     ]
    },
    {
     "name": "stderr",
     "output_type": "stream",
     "text": [
      "54it [00:02, 22.62it/s]\n"
     ]
    },
    {
     "name": "stdout",
     "output_type": "stream",
     "text": [
      "file: Strawberry_TRAIN.tsv\n"
     ]
    },
    {
     "name": "stderr",
     "output_type": "stream",
     "text": [
      "613it [00:24, 24.79it/s]\n"
     ]
    },
    {
     "name": "stdout",
     "output_type": "stream",
     "text": [
      "file: Strawberry_TEST.tsv\n"
     ]
    },
    {
     "name": "stderr",
     "output_type": "stream",
     "text": [
      "370it [00:14, 25.72it/s]\n"
     ]
    },
    {
     "name": "stdout",
     "output_type": "stream",
     "text": [
      "file: ItalyPowerDemand_TRAIN.tsv\n"
     ]
    },
    {
     "name": "stderr",
     "output_type": "stream",
     "text": [
      "67it [00:00, 10188.84it/s]\n"
     ]
    },
    {
     "name": "stdout",
     "output_type": "stream",
     "text": [
      "file: ItalyPowerDemand_TEST.tsv\n"
     ]
    },
    {
     "name": "stderr",
     "output_type": "stream",
     "text": [
      "1029it [00:00, 11047.90it/s]\n"
     ]
    },
    {
     "name": "stdout",
     "output_type": "stream",
     "text": [
      "file: PLAID_TRAIN.tsv\n"
     ]
    },
    {
     "name": "stderr",
     "output_type": "stream",
     "text": [
      "537it [00:22, 23.79it/s] \n"
     ]
    },
    {
     "name": "stdout",
     "output_type": "stream",
     "text": [
      "file: PLAID_TEST.tsv\n"
     ]
    },
    {
     "name": "stderr",
     "output_type": "stream",
     "text": [
      "537it [00:22, 23.91it/s] \n"
     ]
    },
    {
     "name": "stdout",
     "output_type": "stream",
     "text": [
      "file: BirdChicken_TEST.tsv\n"
     ]
    },
    {
     "name": "stderr",
     "output_type": "stream",
     "text": [
      "20it [00:01, 13.45it/s]\n"
     ]
    },
    {
     "name": "stdout",
     "output_type": "stream",
     "text": [
      "file: BirdChicken_TRAIN.tsv\n"
     ]
    },
    {
     "name": "stderr",
     "output_type": "stream",
     "text": [
      "20it [00:01, 11.61it/s]\n"
     ]
    },
    {
     "name": "stdout",
     "output_type": "stream",
     "text": [
      "file: ProximalPhalanxTW_TEST.tsv\n"
     ]
    },
    {
     "name": "stderr",
     "output_type": "stream",
     "text": [
      "205it [00:00, 8015.37it/s]\n"
     ]
    },
    {
     "name": "stdout",
     "output_type": "stream",
     "text": [
      "file: ProximalPhalanxTW_TRAIN.tsv\n"
     ]
    },
    {
     "name": "stderr",
     "output_type": "stream",
     "text": [
      "400it [00:00, 8069.46it/s]\n"
     ]
    },
    {
     "name": "stdout",
     "output_type": "stream",
     "text": [
      "file: Symbols_TRAIN.tsv\n"
     ]
    },
    {
     "name": "stderr",
     "output_type": "stream",
     "text": [
      "25it [00:01, 16.79it/s]\n"
     ]
    },
    {
     "name": "stdout",
     "output_type": "stream",
     "text": [
      "file: Symbols_TEST.tsv\n"
     ]
    },
    {
     "name": "stderr",
     "output_type": "stream",
     "text": [
      "995it [01:01, 16.07it/s]\n"
     ]
    },
    {
     "name": "stdout",
     "output_type": "stream",
     "text": [
      "file: FiftyWords_TRAIN.tsv\n"
     ]
    },
    {
     "name": "stderr",
     "output_type": "stream",
     "text": [
      "450it [00:20, 21.69it/s]\n"
     ]
    },
    {
     "name": "stdout",
     "output_type": "stream",
     "text": [
      "file: FiftyWords_TEST.tsv\n"
     ]
    },
    {
     "name": "stderr",
     "output_type": "stream",
     "text": [
      "455it [00:21, 21.05it/s]\n"
     ]
    },
    {
     "name": "stdout",
     "output_type": "stream",
     "text": [
      "file: ChlorineConcentration_TEST.tsv\n"
     ]
    },
    {
     "name": "stderr",
     "output_type": "stream",
     "text": [
      "3840it [01:29, 42.85it/s]\n"
     ]
    },
    {
     "name": "stdout",
     "output_type": "stream",
     "text": [
      "file: ChlorineConcentration_TRAIN.tsv\n"
     ]
    },
    {
     "name": "stderr",
     "output_type": "stream",
     "text": [
      "467it [00:10, 43.87it/s]\n"
     ]
    },
    {
     "name": "stdout",
     "output_type": "stream",
     "text": [
      "file: Lightning2_TRAIN.tsv\n"
     ]
    },
    {
     "name": "stderr",
     "output_type": "stream",
     "text": [
      "60it [00:07,  7.77it/s]\n"
     ]
    },
    {
     "name": "stdout",
     "output_type": "stream",
     "text": [
      "file: Lightning2_TEST.tsv\n"
     ]
    },
    {
     "name": "stderr",
     "output_type": "stream",
     "text": [
      "61it [00:07,  8.03it/s]\n"
     ]
    },
    {
     "name": "stdout",
     "output_type": "stream",
     "text": [
      "file: UWaveGestureLibraryX_TEST.tsv\n"
     ]
    },
    {
     "name": "stderr",
     "output_type": "stream",
     "text": [
      "3582it [02:58, 20.07it/s]\n"
     ]
    },
    {
     "name": "stdout",
     "output_type": "stream",
     "text": [
      "file: UWaveGestureLibraryX_TRAIN.tsv\n"
     ]
    },
    {
     "name": "stderr",
     "output_type": "stream",
     "text": [
      "896it [00:45, 19.80it/s]\n"
     ]
    },
    {
     "name": "stdout",
     "output_type": "stream",
     "text": [
      "file: FacesUCR_TRAIN.tsv\n"
     ]
    },
    {
     "name": "stderr",
     "output_type": "stream",
     "text": [
      "200it [00:05, 34.06it/s]\n"
     ]
    },
    {
     "name": "stdout",
     "output_type": "stream",
     "text": [
      "file: FacesUCR_TEST.tsv\n"
     ]
    },
    {
     "name": "stderr",
     "output_type": "stream",
     "text": [
      "2050it [01:03, 32.40it/s]\n"
     ]
    },
    {
     "name": "stdout",
     "output_type": "stream",
     "text": [
      "file: Plane_TEST.tsv\n"
     ]
    },
    {
     "name": "stderr",
     "output_type": "stream",
     "text": [
      "105it [00:03, 30.67it/s]\n"
     ]
    },
    {
     "name": "stdout",
     "output_type": "stream",
     "text": [
      "file: Plane_TRAIN.tsv\n"
     ]
    },
    {
     "name": "stderr",
     "output_type": "stream",
     "text": [
      "105it [00:03, 30.50it/s]\n"
     ]
    },
    {
     "name": "stdout",
     "output_type": "stream",
     "text": [
      "file: RefrigerationDevices_TRAIN.tsv\n"
     ]
    },
    {
     "name": "stderr",
     "output_type": "stream",
     "text": [
      "375it [00:49,  7.62it/s]\n"
     ]
    },
    {
     "name": "stdout",
     "output_type": "stream",
     "text": [
      "file: RefrigerationDevices_TEST.tsv\n"
     ]
    },
    {
     "name": "stderr",
     "output_type": "stream",
     "text": [
      "375it [00:44,  8.36it/s]\n"
     ]
    },
    {
     "name": "stdout",
     "output_type": "stream",
     "text": [
      "file: DodgerLoopWeekend_TRAIN.tsv\n"
     ]
    },
    {
     "name": "stderr",
     "output_type": "stream",
     "text": [
      "20it [00:00, 21.57it/s]\n"
     ]
    },
    {
     "name": "stdout",
     "output_type": "stream",
     "text": [
      "file: DodgerLoopWeekend_TEST.tsv\n"
     ]
    },
    {
     "name": "stderr",
     "output_type": "stream",
     "text": [
      "138it [00:07, 19.50it/s]\n"
     ]
    },
    {
     "name": "stdout",
     "output_type": "stream",
     "text": [
      "file: PLAID_TRAIN.tsv\n"
     ]
    },
    {
     "name": "stderr",
     "output_type": "stream",
     "text": [
      "537it [03:27,  2.59it/s]\n"
     ]
    },
    {
     "name": "stdout",
     "output_type": "stream",
     "text": [
      "file: PLAID_TEST.tsv\n"
     ]
    },
    {
     "name": "stderr",
     "output_type": "stream",
     "text": [
      "537it [03:24,  2.63it/s]\n"
     ]
    },
    {
     "name": "stdout",
     "output_type": "stream",
     "text": [
      "file: AllGestureWiimoteZ_TRAIN.tsv\n"
     ]
    },
    {
     "name": "stderr",
     "output_type": "stream",
     "text": [
      "300it [00:25, 11.56it/s]\n"
     ]
    },
    {
     "name": "stdout",
     "output_type": "stream",
     "text": [
      "file: AllGestureWiimoteZ_TEST.tsv\n"
     ]
    },
    {
     "name": "stderr",
     "output_type": "stream",
     "text": [
      "700it [01:01, 11.45it/s]\n"
     ]
    },
    {
     "name": "stdout",
     "output_type": "stream",
     "text": [
      "file: ShakeGestureWiimoteZ_TEST.tsv\n"
     ]
    },
    {
     "name": "stderr",
     "output_type": "stream",
     "text": [
      "50it [00:03, 14.07it/s]\n"
     ]
    },
    {
     "name": "stdout",
     "output_type": "stream",
     "text": [
      "file: ShakeGestureWiimoteZ_TRAIN.tsv\n"
     ]
    },
    {
     "name": "stderr",
     "output_type": "stream",
     "text": [
      "50it [00:03, 15.07it/s]\n"
     ]
    },
    {
     "name": "stdout",
     "output_type": "stream",
     "text": [
      "file: AllGestureWiimoteX_TEST.tsv\n"
     ]
    },
    {
     "name": "stderr",
     "output_type": "stream",
     "text": [
      "700it [01:01, 11.35it/s]\n"
     ]
    },
    {
     "name": "stdout",
     "output_type": "stream",
     "text": [
      "file: AllGestureWiimoteX_TRAIN.tsv\n"
     ]
    },
    {
     "name": "stderr",
     "output_type": "stream",
     "text": [
      "300it [00:26, 11.19it/s]\n"
     ]
    },
    {
     "name": "stdout",
     "output_type": "stream",
     "text": [
      "file: MelbournePedestrian_TRAIN.tsv\n"
     ]
    },
    {
     "name": "stderr",
     "output_type": "stream",
     "text": [
      "1194it [00:00, 11121.72it/s]\n"
     ]
    },
    {
     "name": "stdout",
     "output_type": "stream",
     "text": [
      "file: MelbournePedestrian_TEST.tsv\n"
     ]
    },
    {
     "name": "stderr",
     "output_type": "stream",
     "text": [
      "2439it [00:00, 11340.76it/s]\n"
     ]
    },
    {
     "name": "stdout",
     "output_type": "stream",
     "text": [
      "file: GestureMidAirD3_TRAIN.tsv\n"
     ]
    },
    {
     "name": "stderr",
     "output_type": "stream",
     "text": [
      "208it [00:11, 17.96it/s]\n"
     ]
    },
    {
     "name": "stdout",
     "output_type": "stream",
     "text": [
      "file: GestureMidAirD3_TEST.tsv\n"
     ]
    },
    {
     "name": "stderr",
     "output_type": "stream",
     "text": [
      "130it [00:07, 17.40it/s]\n"
     ]
    },
    {
     "name": "stdout",
     "output_type": "stream",
     "text": [
      "file: GesturePebbleZ2_TRAIN.tsv\n"
     ]
    },
    {
     "name": "stderr",
     "output_type": "stream",
     "text": [
      "146it [00:11, 13.10it/s]\n"
     ]
    },
    {
     "name": "stdout",
     "output_type": "stream",
     "text": [
      "file: GesturePebbleZ2_TEST.tsv\n"
     ]
    },
    {
     "name": "stderr",
     "output_type": "stream",
     "text": [
      "158it [00:12, 12.36it/s]\n"
     ]
    },
    {
     "name": "stdout",
     "output_type": "stream",
     "text": [
      "file: GestureMidAirD1_TRAIN.tsv\n"
     ]
    },
    {
     "name": "stderr",
     "output_type": "stream",
     "text": [
      "208it [00:11, 17.64it/s]\n"
     ]
    },
    {
     "name": "stdout",
     "output_type": "stream",
     "text": [
      "file: GestureMidAirD1_TEST.tsv\n"
     ]
    },
    {
     "name": "stderr",
     "output_type": "stream",
     "text": [
      "130it [00:07, 17.92it/s]\n"
     ]
    },
    {
     "name": "stdout",
     "output_type": "stream",
     "text": [
      "file: AllGestureWiimoteY_TEST.tsv\n"
     ]
    },
    {
     "name": "stderr",
     "output_type": "stream",
     "text": [
      "700it [01:01, 11.45it/s]\n"
     ]
    },
    {
     "name": "stdout",
     "output_type": "stream",
     "text": [
      "file: AllGestureWiimoteY_TRAIN.tsv\n"
     ]
    },
    {
     "name": "stderr",
     "output_type": "stream",
     "text": [
      "300it [00:25, 11.71it/s]\n"
     ]
    },
    {
     "name": "stdout",
     "output_type": "stream",
     "text": [
      "file: PickupGestureWiimoteZ_TEST.tsv\n"
     ]
    },
    {
     "name": "stderr",
     "output_type": "stream",
     "text": [
      "50it [00:02, 17.03it/s]\n"
     ]
    },
    {
     "name": "stdout",
     "output_type": "stream",
     "text": [
      "file: PickupGestureWiimoteZ_TRAIN.tsv\n"
     ]
    },
    {
     "name": "stderr",
     "output_type": "stream",
     "text": [
      "50it [00:02, 17.64it/s]\n"
     ]
    },
    {
     "name": "stdout",
     "output_type": "stream",
     "text": [
      "file: DodgerLoopGame_TEST.tsv\n"
     ]
    },
    {
     "name": "stderr",
     "output_type": "stream",
     "text": [
      "138it [00:07, 18.78it/s]\n"
     ]
    },
    {
     "name": "stdout",
     "output_type": "stream",
     "text": [
      "file: DodgerLoopGame_TRAIN.tsv\n"
     ]
    },
    {
     "name": "stderr",
     "output_type": "stream",
     "text": [
      "20it [00:01, 19.86it/s]\n"
     ]
    },
    {
     "name": "stdout",
     "output_type": "stream",
     "text": [
      "file: DodgerLoopDay_TEST.tsv\n"
     ]
    },
    {
     "name": "stderr",
     "output_type": "stream",
     "text": [
      "80it [00:04, 17.65it/s]\n"
     ]
    },
    {
     "name": "stdout",
     "output_type": "stream",
     "text": [
      "file: DodgerLoopDay_TRAIN.tsv\n"
     ]
    },
    {
     "name": "stderr",
     "output_type": "stream",
     "text": [
      "78it [00:04, 18.85it/s]\n"
     ]
    },
    {
     "name": "stdout",
     "output_type": "stream",
     "text": [
      "file: GestureMidAirD2_TEST.tsv\n"
     ]
    },
    {
     "name": "stderr",
     "output_type": "stream",
     "text": [
      "130it [00:06, 18.87it/s]\n"
     ]
    },
    {
     "name": "stdout",
     "output_type": "stream",
     "text": [
      "file: GestureMidAirD2_TRAIN.tsv\n"
     ]
    },
    {
     "name": "stderr",
     "output_type": "stream",
     "text": [
      "208it [00:11, 17.38it/s]\n"
     ]
    },
    {
     "name": "stdout",
     "output_type": "stream",
     "text": [
      "file: GesturePebbleZ1_TRAIN.tsv\n"
     ]
    },
    {
     "name": "stderr",
     "output_type": "stream",
     "text": [
      "132it [00:10, 13.08it/s]\n"
     ]
    },
    {
     "name": "stdout",
     "output_type": "stream",
     "text": [
      "file: GesturePebbleZ1_TEST.tsv\n"
     ]
    },
    {
     "name": "stderr",
     "output_type": "stream",
     "text": [
      "172it [00:12, 13.30it/s]\n"
     ]
    },
    {
     "name": "stdout",
     "output_type": "stream",
     "text": [
      "file: ProximalPhalanxOutlineAgeGroup_TEST.tsv\n"
     ]
    },
    {
     "name": "stderr",
     "output_type": "stream",
     "text": [
      "205it [00:00, 8825.67it/s]\n"
     ]
    },
    {
     "name": "stdout",
     "output_type": "stream",
     "text": [
      "file: ProximalPhalanxOutlineAgeGroup_TRAIN.tsv\n"
     ]
    },
    {
     "name": "stderr",
     "output_type": "stream",
     "text": [
      "400it [00:00, 9913.39it/s]\n"
     ]
    },
    {
     "name": "stdout",
     "output_type": "stream",
     "text": [
      "file: FordB_TEST.tsv\n"
     ]
    },
    {
     "name": "stderr",
     "output_type": "stream",
     "text": [
      "810it [01:18, 10.36it/s]\n"
     ]
    },
    {
     "name": "stdout",
     "output_type": "stream",
     "text": [
      "file: FordB_TRAIN.tsv\n"
     ]
    },
    {
     "name": "stderr",
     "output_type": "stream",
     "text": [
      "3636it [06:02, 10.02it/s]\n"
     ]
    },
    {
     "name": "stdout",
     "output_type": "stream",
     "text": [
      "file: Mallat_TRAIN.tsv\n"
     ]
    },
    {
     "name": "stderr",
     "output_type": "stream",
     "text": [
      "55it [00:14,  3.84it/s]\n"
     ]
    },
    {
     "name": "stdout",
     "output_type": "stream",
     "text": [
      "file: Mallat_TEST.tsv\n"
     ]
    },
    {
     "name": "stderr",
     "output_type": "stream",
     "text": [
      "2345it [10:20,  3.78it/s]\n"
     ]
    },
    {
     "name": "stdout",
     "output_type": "stream",
     "text": [
      "file: SemgHandMovementCh2_TRAIN.tsv\n"
     ]
    },
    {
     "name": "stderr",
     "output_type": "stream",
     "text": [
      "450it [00:39, 11.26it/s]\n"
     ]
    },
    {
     "name": "stdout",
     "output_type": "stream",
     "text": [
      "file: SemgHandMovementCh2_TEST.tsv\n"
     ]
    },
    {
     "name": "stderr",
     "output_type": "stream",
     "text": [
      "450it [00:32, 13.64it/s]\n"
     ]
    },
    {
     "name": "stdout",
     "output_type": "stream",
     "text": [
      "file: Phoneme_TEST.tsv\n"
     ]
    },
    {
     "name": "stderr",
     "output_type": "stream",
     "text": [
      "1896it [08:00,  3.95it/s]\n"
     ]
    },
    {
     "name": "stdout",
     "output_type": "stream",
     "text": [
      "file: Phoneme_TRAIN.tsv\n"
     ]
    },
    {
     "name": "stderr",
     "output_type": "stream",
     "text": [
      "214it [00:54,  3.92it/s]\n"
     ]
    },
    {
     "name": "stdout",
     "output_type": "stream",
     "text": [
      "file: UWaveGestureLibraryAll_TEST.tsv\n"
     ]
    },
    {
     "name": "stderr",
     "output_type": "stream",
     "text": [
      "3582it [13:37,  4.38it/s]\n"
     ]
    },
    {
     "name": "stdout",
     "output_type": "stream",
     "text": [
      "file: UWaveGestureLibraryAll_TRAIN.tsv\n"
     ]
    },
    {
     "name": "stderr",
     "output_type": "stream",
     "text": [
      "896it [03:23,  4.40it/s]\n"
     ]
    },
    {
     "name": "stdout",
     "output_type": "stream",
     "text": [
      "file: Chinatown_TRAIN.tsv\n"
     ]
    },
    {
     "name": "stderr",
     "output_type": "stream",
     "text": [
      "20it [00:00, 12094.30it/s]\n"
     ]
    },
    {
     "name": "stdout",
     "output_type": "stream",
     "text": [
      "file: Chinatown_TEST.tsv\n"
     ]
    },
    {
     "name": "stderr",
     "output_type": "stream",
     "text": [
      "343it [00:00, 5345.60it/s]\n"
     ]
    },
    {
     "name": "stdout",
     "output_type": "stream",
     "text": [
      "file: LargeKitchenAppliances_TEST.tsv\n"
     ]
    },
    {
     "name": "stderr",
     "output_type": "stream",
     "text": [
      "375it [00:57,  6.58it/s]\n"
     ]
    },
    {
     "name": "stdout",
     "output_type": "stream",
     "text": [
      "file: LargeKitchenAppliances_TRAIN.tsv\n"
     ]
    },
    {
     "name": "stderr",
     "output_type": "stream",
     "text": [
      "375it [00:57,  6.57it/s]\n"
     ]
    },
    {
     "name": "stdout",
     "output_type": "stream",
     "text": [
      "file: Wafer_TRAIN.tsv\n"
     ]
    },
    {
     "name": "stderr",
     "output_type": "stream",
     "text": [
      "1000it [00:32, 30.43it/s]\n"
     ]
    },
    {
     "name": "stdout",
     "output_type": "stream",
     "text": [
      "file: Wafer_TEST.tsv\n"
     ]
    },
    {
     "name": "stderr",
     "output_type": "stream",
     "text": [
      "6164it [03:19, 30.94it/s]\n"
     ]
    },
    {
     "name": "stdout",
     "output_type": "stream",
     "text": [
      "file: AllGestureWiimoteZ_TRAIN.tsv\n"
     ]
    },
    {
     "name": "stderr",
     "output_type": "stream",
     "text": [
      "300it [00:06, 49.64it/s]\n"
     ]
    },
    {
     "name": "stdout",
     "output_type": "stream",
     "text": [
      "file: AllGestureWiimoteZ_TEST.tsv\n"
     ]
    },
    {
     "name": "stderr",
     "output_type": "stream",
     "text": [
      "700it [00:15, 46.15it/s]\n"
     ]
    },
    {
     "name": "stdout",
     "output_type": "stream",
     "text": [
      "file: HouseTwenty_TRAIN.tsv\n"
     ]
    },
    {
     "name": "stderr",
     "output_type": "stream",
     "text": [
      "40it [00:38,  1.05it/s]\n"
     ]
    },
    {
     "name": "stdout",
     "output_type": "stream",
     "text": [
      "file: HouseTwenty_TEST.tsv\n"
     ]
    },
    {
     "name": "stderr",
     "output_type": "stream",
     "text": [
      "119it [01:53,  1.04it/s]\n"
     ]
    },
    {
     "name": "stdout",
     "output_type": "stream",
     "text": [
      "file: ECGFiveDays_TRAIN.tsv\n"
     ]
    },
    {
     "name": "stderr",
     "output_type": "stream",
     "text": [
      "23it [00:00, 30.67it/s]\n"
     ]
    },
    {
     "name": "stdout",
     "output_type": "stream",
     "text": [
      "file: ECGFiveDays_TEST.tsv\n"
     ]
    },
    {
     "name": "stderr",
     "output_type": "stream",
     "text": [
      "861it [00:27, 31.31it/s]\n"
     ]
    },
    {
     "name": "stdout",
     "output_type": "stream",
     "text": [
      "file: Worms_TRAIN.tsv\n"
     ]
    },
    {
     "name": "stderr",
     "output_type": "stream",
     "text": [
      "181it [00:36,  4.93it/s]\n"
     ]
    },
    {
     "name": "stdout",
     "output_type": "stream",
     "text": [
      "file: Worms_TEST.tsv\n"
     ]
    },
    {
     "name": "stderr",
     "output_type": "stream",
     "text": [
      "77it [00:16,  4.78it/s]\n"
     ]
    },
    {
     "name": "stdout",
     "output_type": "stream",
     "text": [
      "file: BeetleFly_TRAIN.tsv\n"
     ]
    },
    {
     "name": "stderr",
     "output_type": "stream",
     "text": [
      "20it [00:01, 11.78it/s]\n"
     ]
    },
    {
     "name": "stdout",
     "output_type": "stream",
     "text": [
      "file: BeetleFly_TEST.tsv\n"
     ]
    },
    {
     "name": "stderr",
     "output_type": "stream",
     "text": [
      "20it [00:01, 12.91it/s]\n"
     ]
    },
    {
     "name": "stdout",
     "output_type": "stream",
     "text": [
      "file: ECG200_TRAIN.tsv\n"
     ]
    },
    {
     "name": "stderr",
     "output_type": "stream",
     "text": [
      "100it [00:00, 5265.52it/s]\n"
     ]
    },
    {
     "name": "stdout",
     "output_type": "stream",
     "text": [
      "file: ECG200_TEST.tsv\n"
     ]
    },
    {
     "name": "stderr",
     "output_type": "stream",
     "text": [
      "100it [00:00, 4251.70it/s]\n"
     ]
    },
    {
     "name": "stdout",
     "output_type": "stream",
     "text": [
      "file: ECG200_TRAIN-checkpoint.tsv\n"
     ]
    },
    {
     "name": "stderr",
     "output_type": "stream",
     "text": [
      "100it [00:00, 5185.52it/s]\n"
     ]
    },
    {
     "name": "stdout",
     "output_type": "stream",
     "text": [
      "file: CinCECGTorso_TEST.tsv\n"
     ]
    },
    {
     "name": "stderr",
     "output_type": "stream",
     "text": [
      "1380it [14:16,  1.61it/s]\n"
     ]
    },
    {
     "name": "stdout",
     "output_type": "stream",
     "text": [
      "file: CinCECGTorso_TRAIN.tsv\n"
     ]
    },
    {
     "name": "stderr",
     "output_type": "stream",
     "text": [
      "40it [00:25,  1.59it/s]\n"
     ]
    },
    {
     "name": "stdout",
     "output_type": "stream",
     "text": [
      "file: MoteStrain_TRAIN.tsv\n"
     ]
    },
    {
     "name": "stderr",
     "output_type": "stream",
     "text": [
      "20it [00:00, 6258.75it/s]\n"
     ]
    },
    {
     "name": "stdout",
     "output_type": "stream",
     "text": [
      "file: MoteStrain_TEST.tsv\n"
     ]
    },
    {
     "name": "stderr",
     "output_type": "stream",
     "text": [
      "1252it [00:00, 7759.62it/s]\n"
     ]
    },
    {
     "name": "stdout",
     "output_type": "stream",
     "text": [
      "file: MiddlePhalanxOutlineCorrect_TEST.tsv\n"
     ]
    },
    {
     "name": "stderr",
     "output_type": "stream",
     "text": [
      "291it [00:00, 7662.15it/s]\n"
     ]
    },
    {
     "name": "stdout",
     "output_type": "stream",
     "text": [
      "file: MiddlePhalanxOutlineCorrect_TRAIN.tsv\n"
     ]
    },
    {
     "name": "stderr",
     "output_type": "stream",
     "text": [
      "600it [00:00, 7833.45it/s]\n"
     ]
    },
    {
     "name": "stdout",
     "output_type": "stream",
     "text": [
      "file: InsectEPGSmallTrain_TEST.tsv\n"
     ]
    },
    {
     "name": "stderr",
     "output_type": "stream",
     "text": [
      "249it [00:27,  8.99it/s]\n"
     ]
    },
    {
     "name": "stdout",
     "output_type": "stream",
     "text": [
      "file: InsectEPGSmallTrain_TRAIN.tsv\n"
     ]
    },
    {
     "name": "stderr",
     "output_type": "stream",
     "text": [
      "17it [00:01,  9.27it/s]\n"
     ]
    },
    {
     "name": "stdout",
     "output_type": "stream",
     "text": [
      "file: ShakeGestureWiimoteZ_TEST.tsv\n"
     ]
    },
    {
     "name": "stderr",
     "output_type": "stream",
     "text": [
      "50it [00:01, 32.89it/s]\n"
     ]
    },
    {
     "name": "stdout",
     "output_type": "stream",
     "text": [
      "file: ShakeGestureWiimoteZ_TRAIN.tsv\n"
     ]
    },
    {
     "name": "stderr",
     "output_type": "stream",
     "text": [
      "50it [00:01, 30.55it/s]\n"
     ]
    },
    {
     "name": "stdout",
     "output_type": "stream",
     "text": [
      "file: SmallKitchenAppliances_TEST.tsv\n"
     ]
    },
    {
     "name": "stderr",
     "output_type": "stream",
     "text": [
      "375it [00:54,  6.90it/s]\n"
     ]
    },
    {
     "name": "stdout",
     "output_type": "stream",
     "text": [
      "file: SmallKitchenAppliances_TRAIN.tsv\n"
     ]
    },
    {
     "name": "stderr",
     "output_type": "stream",
     "text": [
      "375it [00:54,  6.93it/s]\n"
     ]
    },
    {
     "name": "stdout",
     "output_type": "stream",
     "text": [
      "file: MixedShapesSmallTrain_TEST.tsv\n"
     ]
    },
    {
     "name": "stderr",
     "output_type": "stream",
     "text": [
      "2425it [10:32,  3.83it/s]\n"
     ]
    },
    {
     "name": "stdout",
     "output_type": "stream",
     "text": [
      "file: MixedShapesSmallTrain_TRAIN.tsv\n"
     ]
    },
    {
     "name": "stderr",
     "output_type": "stream",
     "text": [
      "100it [00:26,  3.80it/s]\n"
     ]
    },
    {
     "name": "stdout",
     "output_type": "stream",
     "text": [
      "file: ACSF1_TEST.tsv\n"
     ]
    },
    {
     "name": "stderr",
     "output_type": "stream",
     "text": [
      "100it [00:02, 42.43it/s]\n"
     ]
    },
    {
     "name": "stdout",
     "output_type": "stream",
     "text": [
      "file: ACSF1_TRAIN.tsv\n"
     ]
    },
    {
     "name": "stderr",
     "output_type": "stream",
     "text": [
      "100it [00:02, 43.61it/s]\n"
     ]
    },
    {
     "name": "stdout",
     "output_type": "stream",
     "text": [
      "file: Trace_TEST.tsv\n"
     ]
    },
    {
     "name": "stderr",
     "output_type": "stream",
     "text": [
      "100it [00:04, 22.22it/s]\n"
     ]
    },
    {
     "name": "stdout",
     "output_type": "stream",
     "text": [
      "file: Trace_TRAIN.tsv\n"
     ]
    },
    {
     "name": "stderr",
     "output_type": "stream",
     "text": [
      "100it [00:04, 22.23it/s]\n"
     ]
    },
    {
     "name": "stdout",
     "output_type": "stream",
     "text": [
      "file: SyntheticControl_TRAIN.tsv\n"
     ]
    },
    {
     "name": "stderr",
     "output_type": "stream",
     "text": [
      "300it [00:00, 9085.40it/s]\n"
     ]
    },
    {
     "name": "stdout",
     "output_type": "stream",
     "text": [
      "file: SyntheticControl_TEST.tsv\n"
     ]
    },
    {
     "name": "stderr",
     "output_type": "stream",
     "text": [
      "300it [00:00, 9139.84it/s]\n"
     ]
    },
    {
     "name": "stdout",
     "output_type": "stream",
     "text": [
      "file: CBF_TRAIN.tsv\n"
     ]
    },
    {
     "name": "stderr",
     "output_type": "stream",
     "text": [
      "30it [00:00, 37.27it/s]\n"
     ]
    },
    {
     "name": "stdout",
     "output_type": "stream",
     "text": [
      "file: CBF_TEST.tsv\n"
     ]
    },
    {
     "name": "stderr",
     "output_type": "stream",
     "text": [
      "900it [00:22, 40.70it/s]\n"
     ]
    },
    {
     "name": "stdout",
     "output_type": "stream",
     "text": [
      "file: MedicalImages_TEST.tsv\n"
     ]
    },
    {
     "name": "stderr",
     "output_type": "stream",
     "text": [
      "760it [00:00, 4564.02it/s]\n"
     ]
    },
    {
     "name": "stdout",
     "output_type": "stream",
     "text": [
      "file: MedicalImages_TRAIN.tsv\n"
     ]
    },
    {
     "name": "stderr",
     "output_type": "stream",
     "text": [
      "381it [00:00, 6476.63it/s]\n"
     ]
    },
    {
     "name": "stdout",
     "output_type": "stream",
     "text": [
      "file: ElectricDevices_TEST.tsv\n"
     ]
    },
    {
     "name": "stderr",
     "output_type": "stream",
     "text": [
      "7711it [00:01, 6754.19it/s]\n"
     ]
    },
    {
     "name": "stdout",
     "output_type": "stream",
     "text": [
      "file: ElectricDevices_TRAIN.tsv\n"
     ]
    },
    {
     "name": "stderr",
     "output_type": "stream",
     "text": [
      "8926it [00:01, 7122.61it/s]\n"
     ]
    },
    {
     "name": "stdout",
     "output_type": "stream",
     "text": [
      "file: AllGestureWiimoteX_TEST.tsv\n"
     ]
    },
    {
     "name": "stderr",
     "output_type": "stream",
     "text": [
      "700it [00:14, 48.62it/s]\n"
     ]
    },
    {
     "name": "stdout",
     "output_type": "stream",
     "text": [
      "file: AllGestureWiimoteX_TRAIN.tsv\n"
     ]
    },
    {
     "name": "stderr",
     "output_type": "stream",
     "text": [
      "300it [00:06, 44.70it/s]\n"
     ]
    },
    {
     "name": "stdout",
     "output_type": "stream",
     "text": [
      "file: Lightning7_TRAIN.tsv\n"
     ]
    },
    {
     "name": "stderr",
     "output_type": "stream",
     "text": [
      "70it [00:04, 16.91it/s]\n"
     ]
    },
    {
     "name": "stdout",
     "output_type": "stream",
     "text": [
      "file: Lightning7_TEST.tsv\n"
     ]
    },
    {
     "name": "stderr",
     "output_type": "stream",
     "text": [
      "73it [00:04, 16.72it/s]\n"
     ]
    },
    {
     "name": "stdout",
     "output_type": "stream",
     "text": [
      "file: GunPoint_TRAIN.tsv\n"
     ]
    },
    {
     "name": "stderr",
     "output_type": "stream",
     "text": [
      "50it [00:01, 32.95it/s]\n"
     ]
    },
    {
     "name": "stdout",
     "output_type": "stream",
     "text": [
      "file: GunPoint_TEST.tsv\n"
     ]
    },
    {
     "name": "stderr",
     "output_type": "stream",
     "text": [
      "150it [00:04, 35.94it/s]\n"
     ]
    },
    {
     "name": "stdout",
     "output_type": "stream",
     "text": [
      "file: Fungi_TRAIN.tsv\n"
     ]
    },
    {
     "name": "stderr",
     "output_type": "stream",
     "text": [
      "18it [00:00, 27.26it/s]\n"
     ]
    },
    {
     "name": "stdout",
     "output_type": "stream",
     "text": [
      "file: Fungi_TEST.tsv\n"
     ]
    },
    {
     "name": "stderr",
     "output_type": "stream",
     "text": [
      "186it [00:06, 27.62it/s]\n"
     ]
    },
    {
     "name": "stdout",
     "output_type": "stream",
     "text": [
      "file: WordSynonyms_TRAIN.tsv\n"
     ]
    },
    {
     "name": "stderr",
     "output_type": "stream",
     "text": [
      "267it [00:12, 21.87it/s]\n"
     ]
    },
    {
     "name": "stdout",
     "output_type": "stream",
     "text": [
      "file: WordSynonyms_TEST.tsv\n"
     ]
    },
    {
     "name": "stderr",
     "output_type": "stream",
     "text": [
      "638it [00:28, 22.76it/s]\n"
     ]
    },
    {
     "name": "stdout",
     "output_type": "stream",
     "text": [
      "file: CricketX_TEST.tsv\n"
     ]
    },
    {
     "name": "stderr",
     "output_type": "stream",
     "text": [
      "390it [00:21, 17.85it/s]\n"
     ]
    },
    {
     "name": "stdout",
     "output_type": "stream",
     "text": [
      "file: CricketX_TRAIN.tsv\n"
     ]
    },
    {
     "name": "stderr",
     "output_type": "stream",
     "text": [
      "390it [00:21, 18.17it/s]\n"
     ]
    },
    {
     "name": "stdout",
     "output_type": "stream",
     "text": [
      "file: ArrowHead_TEST.tsv\n"
     ]
    },
    {
     "name": "stderr",
     "output_type": "stream",
     "text": [
      "175it [00:07, 24.87it/s]\n"
     ]
    },
    {
     "name": "stdout",
     "output_type": "stream",
     "text": [
      "file: ArrowHead_TRAIN.tsv\n"
     ]
    },
    {
     "name": "stderr",
     "output_type": "stream",
     "text": [
      "36it [00:01, 24.81it/s]\n"
     ]
    },
    {
     "name": "stdout",
     "output_type": "stream",
     "text": [
      "file: TwoLeadECG_TEST.tsv\n"
     ]
    },
    {
     "name": "stderr",
     "output_type": "stream",
     "text": [
      "1139it [00:00, 5612.83it/s]\n"
     ]
    },
    {
     "name": "stdout",
     "output_type": "stream",
     "text": [
      "file: TwoLeadECG_TRAIN.tsv\n"
     ]
    },
    {
     "name": "stderr",
     "output_type": "stream",
     "text": [
      "23it [00:00, 5654.69it/s]\n"
     ]
    },
    {
     "name": "stdout",
     "output_type": "stream",
     "text": [
      "file: FaceFour_TRAIN.tsv\n"
     ]
    },
    {
     "name": "stderr",
     "output_type": "stream",
     "text": [
      "24it [00:01, 15.64it/s]\n"
     ]
    },
    {
     "name": "stdout",
     "output_type": "stream",
     "text": [
      "file: FaceFour_TEST.tsv\n"
     ]
    },
    {
     "name": "stderr",
     "output_type": "stream",
     "text": [
      "88it [00:05, 15.28it/s]\n"
     ]
    },
    {
     "name": "stdout",
     "output_type": "stream",
     "text": [
      "file: FreezerRegularTrain_TRAIN.tsv\n"
     ]
    },
    {
     "name": "stderr",
     "output_type": "stream",
     "text": [
      "150it [00:07, 20.98it/s]\n"
     ]
    },
    {
     "name": "stdout",
     "output_type": "stream",
     "text": [
      "file: FreezerRegularTrain_TEST.tsv\n"
     ]
    },
    {
     "name": "stderr",
     "output_type": "stream",
     "text": [
      "2850it [02:14, 21.11it/s]\n"
     ]
    },
    {
     "name": "stdout",
     "output_type": "stream",
     "text": [
      "file: Ham_TEST.tsv\n"
     ]
    },
    {
     "name": "stderr",
     "output_type": "stream",
     "text": [
      "105it [00:07, 13.36it/s]\n"
     ]
    },
    {
     "name": "stdout",
     "output_type": "stream",
     "text": [
      "file: Ham_TRAIN.tsv\n"
     ]
    },
    {
     "name": "stderr",
     "output_type": "stream",
     "text": [
      "109it [00:08, 12.27it/s]\n"
     ]
    },
    {
     "name": "stdout",
     "output_type": "stream",
     "text": [
      "file: ScreenType_TEST.tsv\n"
     ]
    },
    {
     "name": "stderr",
     "output_type": "stream",
     "text": [
      "375it [00:55,  6.75it/s]\n"
     ]
    },
    {
     "name": "stdout",
     "output_type": "stream",
     "text": [
      "file: ScreenType_TRAIN.tsv\n"
     ]
    },
    {
     "name": "stderr",
     "output_type": "stream",
     "text": [
      "375it [00:52,  7.15it/s]\n"
     ]
    },
    {
     "name": "stdout",
     "output_type": "stream",
     "text": [
      "file: MelbournePedestrian_TRAIN.tsv\n"
     ]
    },
    {
     "name": "stderr",
     "output_type": "stream",
     "text": [
      "1194it [00:00, 11167.48it/s]\n"
     ]
    },
    {
     "name": "stdout",
     "output_type": "stream",
     "text": [
      "file: MelbournePedestrian_TEST.tsv\n"
     ]
    },
    {
     "name": "stderr",
     "output_type": "stream",
     "text": [
      "2439it [00:00, 11466.12it/s]\n"
     ]
    },
    {
     "name": "stdout",
     "output_type": "stream",
     "text": [
      "file: UWaveGestureLibraryZ_TEST.tsv\n"
     ]
    },
    {
     "name": "stderr",
     "output_type": "stream",
     "text": [
      "3582it [02:59, 19.96it/s]\n"
     ]
    },
    {
     "name": "stdout",
     "output_type": "stream",
     "text": [
      "file: UWaveGestureLibraryZ_TRAIN.tsv\n"
     ]
    },
    {
     "name": "stderr",
     "output_type": "stream",
     "text": [
      "896it [00:45, 19.87it/s]\n"
     ]
    },
    {
     "name": "stdout",
     "output_type": "stream",
     "text": [
      "file: InsectWingbeatSound_TEST.tsv\n"
     ]
    },
    {
     "name": "stderr",
     "output_type": "stream",
     "text": [
      "1980it [01:28, 22.26it/s]\n"
     ]
    },
    {
     "name": "stdout",
     "output_type": "stream",
     "text": [
      "file: InsectWingbeatSound_TRAIN.tsv\n"
     ]
    },
    {
     "name": "stderr",
     "output_type": "stream",
     "text": [
      "220it [00:09, 22.89it/s]\n"
     ]
    },
    {
     "name": "stdout",
     "output_type": "stream",
     "text": [
      "file: FreezerSmallTrain_TRAIN.tsv\n"
     ]
    },
    {
     "name": "stderr",
     "output_type": "stream",
     "text": [
      "28it [00:01, 20.94it/s]\n"
     ]
    },
    {
     "name": "stdout",
     "output_type": "stream",
     "text": [
      "file: FreezerSmallTrain_TEST.tsv\n"
     ]
    },
    {
     "name": "stderr",
     "output_type": "stream",
     "text": [
      "2850it [02:16, 20.90it/s]\n"
     ]
    },
    {
     "name": "stdout",
     "output_type": "stream",
     "text": [
      "file: Beef_TEST.tsv\n"
     ]
    },
    {
     "name": "stderr",
     "output_type": "stream",
     "text": [
      "30it [00:02, 13.47it/s]\n"
     ]
    },
    {
     "name": "stdout",
     "output_type": "stream",
     "text": [
      "file: Beef_TRAIN.tsv\n"
     ]
    },
    {
     "name": "stderr",
     "output_type": "stream",
     "text": [
      "30it [00:02, 13.49it/s]\n"
     ]
    },
    {
     "name": "stdout",
     "output_type": "stream",
     "text": [
      "file: NonInvasiveFetalECGThorax1_TEST.tsv\n"
     ]
    },
    {
     "name": "stderr",
     "output_type": "stream",
     "text": [
      "1965it [04:56,  6.64it/s]\n"
     ]
    },
    {
     "name": "stdout",
     "output_type": "stream",
     "text": [
      "file: NonInvasiveFetalECGThorax1_TRAIN.tsv\n"
     ]
    },
    {
     "name": "stderr",
     "output_type": "stream",
     "text": [
      "1800it [04:30,  6.66it/s]\n"
     ]
    },
    {
     "name": "stdout",
     "output_type": "stream",
     "text": [
      "file: Haptics_TEST.tsv\n"
     ]
    },
    {
     "name": "stderr",
     "output_type": "stream",
     "text": [
      "500it [00:15, 33.06it/s]\n"
     ]
    },
    {
     "name": "stdout",
     "output_type": "stream",
     "text": [
      "file: SwedishLeaf_TEST.tsv\n"
     ]
    },
    {
     "name": "stderr",
     "output_type": "stream",
     "text": [
      "625it [00:19, 31.28it/s]\n"
     ]
    },
    {
     "name": "stdout",
     "output_type": "stream",
     "text": [
      "file: GestureMidAirD3_TRAIN.tsv\n"
     ]
    },
    {
     "name": "stderr",
     "output_type": "stream",
     "text": [
      "208it [00:05, 35.16it/s]\n"
     ]
    },
    {
     "name": "stdout",
     "output_type": "stream",
     "text": [
      "file: GestureMidAirD3_TEST.tsv\n"
     ]
    },
    {
     "name": "stderr",
     "output_type": "stream",
     "text": [
      "130it [00:04, 31.84it/s]\n"
     ]
    },
    {
     "name": "stdout",
     "output_type": "stream",
     "text": [
      "file: GunPointAgeSpan_TEST.tsv\n"
     ]
    },
    {
     "name": "stderr",
     "output_type": "stream",
     "text": [
      "316it [00:09, 32.83it/s]\n"
     ]
    },
    {
     "name": "stdout",
     "output_type": "stream",
     "text": [
      "file: GunPointAgeSpan_TRAIN.tsv\n"
     ]
    },
    {
     "name": "stderr",
     "output_type": "stream",
     "text": [
      "135it [00:04, 32.74it/s]\n"
     ]
    },
    {
     "name": "stdout",
     "output_type": "stream",
     "text": [
      "file: Computers_TRAIN.tsv\n"
     ]
    },
    {
     "name": "stderr",
     "output_type": "stream",
     "text": [
      "250it [00:34,  7.34it/s]\n"
     ]
    },
    {
     "name": "stdout",
     "output_type": "stream",
     "text": [
      "file: Computers_TEST.tsv\n"
     ]
    },
    {
     "name": "stderr",
     "output_type": "stream",
     "text": [
      "250it [00:37,  6.61it/s]\n"
     ]
    },
    {
     "name": "stdout",
     "output_type": "stream",
     "text": [
      "file: MiddlePhalanxTW_TEST.tsv\n"
     ]
    },
    {
     "name": "stderr",
     "output_type": "stream",
     "text": [
      "154it [00:00, 7735.42it/s]\n"
     ]
    },
    {
     "name": "stdout",
     "output_type": "stream",
     "text": [
      "file: MiddlePhalanxTW_TRAIN.tsv\n"
     ]
    },
    {
     "name": "stderr",
     "output_type": "stream",
     "text": [
      "399it [00:00, 8011.95it/s]\n"
     ]
    },
    {
     "name": "stdout",
     "output_type": "stream",
     "text": [
      "file: HandOutlines_TEST.tsv\n"
     ]
    },
    {
     "name": "stderr",
     "output_type": "stream",
     "text": [
      "370it [11:27,  1.86s/it]\n"
     ]
    },
    {
     "name": "stdout",
     "output_type": "stream",
     "text": [
      "file: HandOutlines_TRAIN.tsv\n"
     ]
    },
    {
     "name": "stderr",
     "output_type": "stream",
     "text": [
      "1000it [30:46,  1.85s/it]\n"
     ]
    },
    {
     "name": "stdout",
     "output_type": "stream",
     "text": [
      "file: DistalPhalanxTW_TRAIN.tsv\n"
     ]
    },
    {
     "name": "stderr",
     "output_type": "stream",
     "text": [
      "400it [00:00, 8758.52it/s]\n"
     ]
    },
    {
     "name": "stdout",
     "output_type": "stream",
     "text": [
      "file: DistalPhalanxTW_TEST.tsv\n"
     ]
    },
    {
     "name": "stderr",
     "output_type": "stream",
     "text": [
      "139it [00:00, 11103.86it/s]\n"
     ]
    },
    {
     "name": "stdout",
     "output_type": "stream",
     "text": [
      "file: Rock_TEST.tsv\n"
     ]
    },
    {
     "name": "stderr",
     "output_type": "stream",
     "text": [
      "50it [01:31,  1.82s/it]\n"
     ]
    },
    {
     "name": "stdout",
     "output_type": "stream",
     "text": [
      "file: Rock_TRAIN.tsv\n"
     ]
    },
    {
     "name": "stderr",
     "output_type": "stream",
     "text": [
      "20it [00:35,  1.80s/it]\n"
     ]
    },
    {
     "name": "stdout",
     "output_type": "stream",
     "text": [
      "file: GesturePebbleZ2_TRAIN.tsv\n"
     ]
    },
    {
     "name": "stderr",
     "output_type": "stream",
     "text": [
      "146it [00:06, 24.28it/s]\n"
     ]
    },
    {
     "name": "stdout",
     "output_type": "stream",
     "text": [
      "file: GesturePebbleZ2_TEST.tsv\n"
     ]
    },
    {
     "name": "stderr",
     "output_type": "stream",
     "text": [
      "158it [00:06, 22.97it/s]\n"
     ]
    },
    {
     "name": "stdout",
     "output_type": "stream",
     "text": [
      "file: InsectEPGRegularTrain_TRAIN.tsv\n"
     ]
    },
    {
     "name": "stderr",
     "output_type": "stream",
     "text": [
      "62it [00:06,  8.95it/s]\n"
     ]
    },
    {
     "name": "stdout",
     "output_type": "stream",
     "text": [
      "file: InsectEPGRegularTrain_TEST.tsv\n"
     ]
    },
    {
     "name": "stderr",
     "output_type": "stream",
     "text": [
      "249it [00:26,  9.28it/s]\n"
     ]
    },
    {
     "name": "stdout",
     "output_type": "stream",
     "text": [
      "file: Earthquakes_TEST.tsv\n"
     ]
    },
    {
     "name": "stderr",
     "output_type": "stream",
     "text": [
      "139it [00:01, 78.40it/s]\n"
     ]
    },
    {
     "name": "stdout",
     "output_type": "stream",
     "text": [
      "file: Earthquakes_TRAIN.tsv\n"
     ]
    },
    {
     "name": "stderr",
     "output_type": "stream",
     "text": [
      "322it [00:05, 63.61it/s]\n"
     ]
    },
    {
     "name": "stdout",
     "output_type": "stream",
     "text": [
      "file: ToeSegmentation2_TRAIN.tsv\n"
     ]
    },
    {
     "name": "stderr",
     "output_type": "stream",
     "text": [
      "36it [00:02, 17.61it/s]\n"
     ]
    },
    {
     "name": "stdout",
     "output_type": "stream",
     "text": [
      "file: ToeSegmentation2_TEST.tsv\n"
     ]
    },
    {
     "name": "stderr",
     "output_type": "stream",
     "text": [
      "130it [00:07, 17.66it/s]\n"
     ]
    },
    {
     "name": "stdout",
     "output_type": "stream",
     "text": [
      "file: GestureMidAirD1_TRAIN.tsv\n"
     ]
    },
    {
     "name": "stderr",
     "output_type": "stream",
     "text": [
      "208it [00:05, 38.25it/s]\n"
     ]
    },
    {
     "name": "stdout",
     "output_type": "stream",
     "text": [
      "file: GestureMidAirD1_TEST.tsv\n"
     ]
    },
    {
     "name": "stderr",
     "output_type": "stream",
     "text": [
      "130it [00:04, 32.04it/s]\n"
     ]
    },
    {
     "name": "stdout",
     "output_type": "stream",
     "text": [
      "file: AllGestureWiimoteY_TEST.tsv\n"
     ]
    },
    {
     "name": "stderr",
     "output_type": "stream",
     "text": [
      "77it [00:02, 41.22it/s]IOPub message rate exceeded.\n",
      "The Jupyter server will temporarily stop sending output\n",
      "to the client in order to avoid crashing it.\n",
      "To change this limit, set the config variable\n",
      "`--ServerApp.iopub_msg_rate_limit`.\n",
      "\n",
      "Current values:\n",
      "ServerApp.iopub_msg_rate_limit=1000.0 (msgs/sec)\n",
      "ServerApp.rate_limit_window=3.0 (secs)\n",
      "\n",
      "3000it [03:16, 15.27it/s]\n"
     ]
    },
    {
     "name": "stdout",
     "output_type": "stream",
     "text": [
      "file: PigAirwayPressure_TRAIN.tsv\n"
     ]
    },
    {
     "name": "stderr",
     "output_type": "stream",
     "text": [
      "104it [01:30,  1.14it/s]\n"
     ]
    },
    {
     "name": "stdout",
     "output_type": "stream",
     "text": [
      "file: PigAirwayPressure_TEST.tsv\n"
     ]
    },
    {
     "name": "stderr",
     "output_type": "stream",
     "text": [
      "208it [03:02,  1.14it/s]\n"
     ]
    },
    {
     "name": "stdout",
     "output_type": "stream",
     "text": [
      "file: SonyAIBORobotSurface1_TEST.tsv\n"
     ]
    },
    {
     "name": "stderr",
     "output_type": "stream",
     "text": [
      "601it [00:00, 8506.02it/s]\n"
     ]
    },
    {
     "name": "stdout",
     "output_type": "stream",
     "text": [
      "file: SonyAIBORobotSurface1_TRAIN.tsv\n"
     ]
    },
    {
     "name": "stderr",
     "output_type": "stream",
     "text": [
      "20it [00:00, 7223.46it/s]\n"
     ]
    },
    {
     "name": "stdout",
     "output_type": "stream",
     "text": [
      "file: FaceAll_TEST.tsv\n"
     ]
    },
    {
     "name": "stderr",
     "output_type": "stream",
     "text": [
      "1690it [00:48, 34.54it/s]\n"
     ]
    },
    {
     "name": "stdout",
     "output_type": "stream",
     "text": [
      "file: FaceAll_TRAIN.tsv\n"
     ]
    },
    {
     "name": "stderr",
     "output_type": "stream",
     "text": [
      "560it [00:16, 34.37it/s]\n"
     ]
    },
    {
     "name": "stdout",
     "output_type": "stream",
     "text": [
      "file: DiatomSizeReduction_TRAIN.tsv\n"
     ]
    },
    {
     "name": "stderr",
     "output_type": "stream",
     "text": [
      "16it [00:00, 18.34it/s]\n"
     ]
    },
    {
     "name": "stdout",
     "output_type": "stream",
     "text": [
      "file: DiatomSizeReduction_TEST.tsv\n"
     ]
    },
    {
     "name": "stderr",
     "output_type": "stream",
     "text": [
      "69it [00:03, 18.74it/s]IOPub message rate exceeded.\n",
      "The Jupyter server will temporarily stop sending output\n",
      "to the client in order to avoid crashing it.\n",
      "To change this limit, set the config variable\n",
      "`--ServerApp.iopub_msg_rate_limit`.\n",
      "\n",
      "Current values:\n",
      "ServerApp.iopub_msg_rate_limit=1000.0 (msgs/sec)\n",
      "ServerApp.rate_limit_window=3.0 (secs)\n",
      "\n",
      "600it [00:39, 15.08it/s]\n"
     ]
    },
    {
     "name": "stdout",
     "output_type": "stream",
     "text": [
      "file: SemgHandGenderCh2_TRAIN.tsv\n"
     ]
    },
    {
     "name": "stderr",
     "output_type": "stream",
     "text": [
      "300it [00:28, 10.56it/s]\n"
     ]
    },
    {
     "name": "stdout",
     "output_type": "stream",
     "text": [
      "file: DodgerLoopGame_TEST.tsv\n"
     ]
    },
    {
     "name": "stderr",
     "output_type": "stream",
     "text": [
      "138it [00:07, 19.22it/s]\n"
     ]
    },
    {
     "name": "stdout",
     "output_type": "stream",
     "text": [
      "file: DodgerLoopGame_TRAIN.tsv\n"
     ]
    },
    {
     "name": "stderr",
     "output_type": "stream",
     "text": [
      "20it [00:01, 18.92it/s]\n"
     ]
    },
    {
     "name": "stdout",
     "output_type": "stream",
     "text": [
      "file: OliveOil_TEST.tsv\n"
     ]
    },
    {
     "name": "stderr",
     "output_type": "stream",
     "text": [
      "30it [00:03,  9.65it/s]\n"
     ]
    },
    {
     "name": "stdout",
     "output_type": "stream",
     "text": [
      "file: OliveOil_TRAIN.tsv\n"
     ]
    },
    {
     "name": "stderr",
     "output_type": "stream",
     "text": [
      "30it [00:02, 10.00it/s]\n"
     ]
    },
    {
     "name": "stdout",
     "output_type": "stream",
     "text": [
      "file: EOGHorizontalSignal_TRAIN.tsv\n"
     ]
    },
    {
     "name": "stderr",
     "output_type": "stream",
     "text": [
      "362it [02:20,  2.57it/s]\n"
     ]
    },
    {
     "name": "stdout",
     "output_type": "stream",
     "text": [
      "file: EOGHorizontalSignal_TEST.tsv\n"
     ]
    },
    {
     "name": "stderr",
     "output_type": "stream",
     "text": [
      "362it [02:18,  2.61it/s]\n"
     ]
    },
    {
     "name": "stdout",
     "output_type": "stream",
     "text": [
      "file: Adiac_TRAIN.tsv\n"
     ]
    },
    {
     "name": "stderr",
     "output_type": "stream",
     "text": [
      "390it [00:12, 30.20it/s]\n"
     ]
    },
    {
     "name": "stdout",
     "output_type": "stream",
     "text": [
      "file: Adiac_TEST.tsv\n"
     ]
    },
    {
     "name": "stderr",
     "output_type": "stream",
     "text": [
      "391it [00:12, 30.82it/s]\n"
     ]
    },
    {
     "name": "stdout",
     "output_type": "stream",
     "text": [
      "file: WormsTwoClass_TRAIN.tsv\n"
     ]
    },
    {
     "name": "stderr",
     "output_type": "stream",
     "text": [
      "181it [00:37,  4.84it/s]\n"
     ]
    },
    {
     "name": "stdout",
     "output_type": "stream",
     "text": [
      "file: WormsTwoClass_TEST.tsv\n"
     ]
    },
    {
     "name": "stderr",
     "output_type": "stream",
     "text": [
      "77it [00:16,  4.81it/s]\n"
     ]
    },
    {
     "name": "stdout",
     "output_type": "stream",
     "text": [
      "file: UWaveGestureLibraryY_TRAIN.tsv\n"
     ]
    },
    {
     "name": "stderr",
     "output_type": "stream",
     "text": [
      "896it [00:44, 19.99it/s]\n"
     ]
    },
    {
     "name": "stdout",
     "output_type": "stream",
     "text": [
      "file: UWaveGestureLibraryY_TEST.tsv\n"
     ]
    },
    {
     "name": "stderr",
     "output_type": "stream",
     "text": [
      "630it [00:31, 25.29it/s]IOPub message rate exceeded.\n",
      "The Jupyter server will temporarily stop sending output\n",
      "to the client in order to avoid crashing it.\n",
      "To change this limit, set the config variable\n",
      "`--ServerApp.iopub_msg_rate_limit`.\n",
      "\n",
      "Current values:\n",
      "ServerApp.iopub_msg_rate_limit=1000.0 (msgs/sec)\n",
      "ServerApp.rate_limit_window=3.0 (secs)\n",
      "\n",
      "1965it [04:55,  6.65it/s]\n"
     ]
    },
    {
     "name": "stdout",
     "output_type": "stream",
     "text": [
      "file: GunPointMaleVersusFemale_TRAIN.tsv\n"
     ]
    },
    {
     "name": "stderr",
     "output_type": "stream",
     "text": [
      "135it [00:04, 31.24it/s]\n"
     ]
    },
    {
     "name": "stdout",
     "output_type": "stream",
     "text": [
      "file: GunPointMaleVersusFemale_TEST.tsv\n"
     ]
    },
    {
     "name": "stderr",
     "output_type": "stream",
     "text": [
      "316it [00:09, 33.27it/s]\n"
     ]
    },
    {
     "name": "stdout",
     "output_type": "stream",
     "text": [
      "file: OSULeaf_TRAIN.tsv\n"
     ]
    },
    {
     "name": "stderr",
     "output_type": "stream",
     "text": [
      "200it [00:13, 15.29it/s]\n"
     ]
    },
    {
     "name": "stdout",
     "output_type": "stream",
     "text": [
      "file: OSULeaf_TEST.tsv\n"
     ]
    },
    {
     "name": "stderr",
     "output_type": "stream",
     "text": [
      "242it [00:16, 14.75it/s]\n"
     ]
    },
    {
     "name": "stdout",
     "output_type": "stream",
     "text": [
      "file: UMD_TEST.tsv\n"
     ]
    },
    {
     "name": "stderr",
     "output_type": "stream",
     "text": [
      "144it [00:03, 36.66it/s]\n"
     ]
    },
    {
     "name": "stdout",
     "output_type": "stream",
     "text": [
      "file: UMD_TRAIN.tsv\n"
     ]
    },
    {
     "name": "stderr",
     "output_type": "stream",
     "text": [
      "36it [00:01, 32.40it/s]\n"
     ]
    },
    {
     "name": "stdout",
     "output_type": "stream",
     "text": [
      "file: GestureMidAirD2_TEST.tsv\n"
     ]
    },
    {
     "name": "stderr",
     "output_type": "stream",
     "text": [
      "130it [00:03, 33.50it/s]\n"
     ]
    },
    {
     "name": "stdout",
     "output_type": "stream",
     "text": [
      "file: GestureMidAirD2_TRAIN.tsv\n"
     ]
    },
    {
     "name": "stderr",
     "output_type": "stream",
     "text": [
      "208it [00:05, 34.93it/s]\n"
     ]
    },
    {
     "name": "stdout",
     "output_type": "stream",
     "text": [
      "file: MixedShapesRegularTrain_TEST.tsv\n"
     ]
    },
    {
     "name": "stderr",
     "output_type": "stream",
     "text": [
      "357it [01:33,  3.78it/s]IOPub message rate exceeded.\n",
      "The Jupyter server will temporarily stop sending output\n",
      "to the client in order to avoid crashing it.\n",
      "To change this limit, set the config variable\n",
      "`--ServerApp.iopub_msg_rate_limit`.\n",
      "\n",
      "Current values:\n",
      "ServerApp.iopub_msg_rate_limit=1000.0 (msgs/sec)\n",
      "ServerApp.rate_limit_window=3.0 (secs)\n",
      "\n",
      "2425it [10:37,  3.81it/s]\n"
     ]
    },
    {
     "name": "stdout",
     "output_type": "stream",
     "text": [
      "file: MixedShapesRegularTrain_TRAIN.tsv\n"
     ]
    },
    {
     "name": "stderr",
     "output_type": "stream",
     "text": [
      "500it [02:10,  3.83it/s]\n"
     ]
    },
    {
     "name": "stdout",
     "output_type": "stream",
     "text": [
      "file: DistalPhalanxOutlineAgeGroup_TRAIN.tsv\n"
     ]
    },
    {
     "name": "stderr",
     "output_type": "stream",
     "text": [
      "400it [00:00, 7554.38it/s]\n"
     ]
    },
    {
     "name": "stdout",
     "output_type": "stream",
     "text": [
      "file: DistalPhalanxOutlineAgeGroup_TEST.tsv\n"
     ]
    },
    {
     "name": "stderr",
     "output_type": "stream",
     "text": [
      "139it [00:00, 8121.82it/s]\n"
     ]
    },
    {
     "name": "stdout",
     "output_type": "stream",
     "text": [
      "file: PhalangesOutlinesCorrect_TRAIN.tsv\n"
     ]
    },
    {
     "name": "stderr",
     "output_type": "stream",
     "text": [
      "1800it [00:00, 7906.97it/s]\n"
     ]
    },
    {
     "name": "stdout",
     "output_type": "stream",
     "text": [
      "file: PhalangesOutlinesCorrect_TEST.tsv\n"
     ]
    },
    {
     "name": "stderr",
     "output_type": "stream",
     "text": [
      "858it [00:00, 7660.81it/s]\n"
     ]
    },
    {
     "name": "stdout",
     "output_type": "stream",
     "text": [
      "file: StarLightCurves_TRAIN.tsv\n"
     ]
    },
    {
     "name": "stderr",
     "output_type": "stream",
     "text": [
      "761it [03:25,  3.60it/s]IOPub message rate exceeded.\n",
      "The Jupyter server will temporarily stop sending output\n",
      "to the client in order to avoid crashing it.\n",
      "To change this limit, set the config variable\n",
      "`--ServerApp.iopub_msg_rate_limit`.\n",
      "\n",
      "Current values:\n",
      "ServerApp.iopub_msg_rate_limit=1000.0 (msgs/sec)\n",
      "ServerApp.rate_limit_window=3.0 (secs)\n",
      "\n",
      "5380it [23:54,  3.76it/s]IOPub message rate exceeded.\n",
      "The Jupyter server will temporarily stop sending output\n",
      "to the client in order to avoid crashing it.\n",
      "To change this limit, set the config variable\n",
      "`--ServerApp.iopub_msg_rate_limit`.\n",
      "\n",
      "Current values:\n",
      "ServerApp.iopub_msg_rate_limit=1000.0 (msgs/sec)\n",
      "ServerApp.rate_limit_window=3.0 (secs)\n",
      "\n",
      "172it [00:07, 23.52it/s]\n"
     ]
    },
    {
     "name": "stdout",
     "output_type": "stream",
     "text": [
      "file: InlineSkate_TEST.tsv\n"
     ]
    },
    {
     "name": "stderr",
     "output_type": "stream",
     "text": [
      "550it [07:20,  1.25it/s]\n"
     ]
    },
    {
     "name": "stdout",
     "output_type": "stream",
     "text": [
      "file: InlineSkate_TRAIN.tsv\n"
     ]
    },
    {
     "name": "stderr",
     "output_type": "stream",
     "text": [
      "100it [01:20,  1.24it/s]\n"
     ]
    },
    {
     "name": "stdout",
     "output_type": "stream",
     "text": [
      "file: CricketZ_TEST.tsv\n"
     ]
    },
    {
     "name": "stderr",
     "output_type": "stream",
     "text": [
      "390it [00:21, 18.11it/s]\n"
     ]
    },
    {
     "name": "stdout",
     "output_type": "stream",
     "text": [
      "file: CricketZ_TRAIN.tsv\n"
     ]
    },
    {
     "name": "stderr",
     "output_type": "stream",
     "text": [
      "390it [00:21, 18.15it/s]\n"
     ]
    },
    {
     "name": "stdout",
     "output_type": "stream",
     "text": [
      "file: SonyAIBORobotSurface2_TRAIN.tsv\n"
     ]
    },
    {
     "name": "stderr",
     "output_type": "stream",
     "text": [
      "27it [00:00, 5867.07it/s]\n"
     ]
    },
    {
     "name": "stdout",
     "output_type": "stream",
     "text": [
      "file: SonyAIBORobotSurface2_TEST.tsv\n"
     ]
    },
    {
     "name": "stderr",
     "output_type": "stream",
     "text": [
      "953it [00:00, 6816.42it/s]\n"
     ]
    },
    {
     "name": "stdout",
     "output_type": "stream",
     "text": [
      "file: Car_TEST.tsv\n"
     ]
    },
    {
     "name": "stderr",
     "output_type": "stream",
     "text": [
      "60it [00:06,  9.96it/s]\n"
     ]
    },
    {
     "name": "stdout",
     "output_type": "stream",
     "text": [
      "file: Car_TRAIN.tsv\n"
     ]
    },
    {
     "name": "stderr",
     "output_type": "stream",
     "text": [
      "60it [00:05, 10.65it/s]\n"
     ]
    },
    {
     "name": "stdout",
     "output_type": "stream",
     "text": [
      "file: CricketY_TEST.tsv\n"
     ]
    },
    {
     "name": "stderr",
     "output_type": "stream",
     "text": [
      "390it [00:21, 18.30it/s]\n"
     ]
    },
    {
     "name": "stdout",
     "output_type": "stream",
     "text": [
      "file: CricketY_TRAIN.tsv\n"
     ]
    },
    {
     "name": "stderr",
     "output_type": "stream",
     "text": [
      "390it [00:21, 17.78it/s]\n"
     ]
    },
    {
     "name": "stdout",
     "output_type": "stream",
     "text": [
      "file: Meat_TRAIN.tsv\n"
     ]
    },
    {
     "name": "stderr",
     "output_type": "stream",
     "text": [
      "60it [00:03, 16.17it/s]\n"
     ]
    },
    {
     "name": "stdout",
     "output_type": "stream",
     "text": [
      "file: Meat_TEST.tsv\n"
     ]
    },
    {
     "name": "stderr",
     "output_type": "stream",
     "text": [
      "60it [00:04, 13.81it/s]\n"
     ]
    },
    {
     "name": "stdout",
     "output_type": "stream",
     "text": [
      "file: EthanolLevel_TEST.tsv\n"
     ]
    },
    {
     "name": "stderr",
     "output_type": "stream",
     "text": [
      "383it [04:29,  1.49it/s]IOPub message rate exceeded.\n",
      "The Jupyter server will temporarily stop sending output\n",
      "to the client in order to avoid crashing it.\n",
      "To change this limit, set the config variable\n",
      "`--ServerApp.iopub_msg_rate_limit`.\n",
      "\n",
      "Current values:\n",
      "ServerApp.iopub_msg_rate_limit=1000.0 (msgs/sec)\n",
      "ServerApp.rate_limit_window=3.0 (secs)\n",
      "\n"
     ]
    }
   ],
   "source": [
    "# Run through time series\n",
    "index = 0\n",
    "BIT_INC = 32\n",
    "\n",
    "for root, dirs, files in os.walk(datadir):\n",
    "    for file in files:\n",
    "        if file.endswith('tsv'):\n",
    "            print('file:', file)\n",
    "\n",
    "            # bool to keep track of plots, one plot per classification.\n",
    "            need_to_plot = True\n",
    "\n",
    "            with open(os.path.join(root, file)) as tsvfile:\n",
    "                tsvfile = csv.reader(tsvfile, delimiter='\\t')\n",
    "\n",
    "                for ind, column in tqdm(enumerate(tsvfile)):\n",
    "                    ts_name[index] += str(file) + '_' + str(ind) # Save filename + index\n",
    "\n",
    "                    ts = [float(i) for i in column] # convert to list of floats\n",
    "                    ts = np.array(ts[1:]) # remove class information\n",
    "\n",
    "                    # remove NaN from time series\n",
    "                    ts = ts[~np.isnan(ts)]\n",
    "\n",
    "                    # Z Normalise the times series\n",
    "                    norm_ts = (ts -  np.mean(ts))\n",
    "                    std = np.std(norm_ts, ddof=1)\n",
    "                    std = std if std > np.finfo(float).eps else 1\n",
    "                    norm_ts /= std\n",
    "                    \n",
    "                    try:\n",
    "                        # Check length of time timeseries\n",
    "                        if len(norm_ts) < 100:\n",
    "                            raise(TimeSeriesTooShort)\n",
    "\n",
    "                        # Reset tolerance\n",
    "                        tol_index = 0\n",
    "\n",
    "                        # ABBA (Adjust tolerance so at least 20% compression is used)\n",
    "                        for tol_index in range(len(tol)):\n",
    "                            abba = fABBA(tol=tol[tol_index],verbose=0)\n",
    "                            pieces = abba.compress(norm_ts)\n",
    "                            ABBA_len = len(pieces)\n",
    "                            if ABBA_len <= len(norm_ts)/5:\n",
    "                                tol_used[index] = tol[tol_index]\n",
    "                                break\n",
    "                            elif tol_index == len(tol)-1:\n",
    "                                raise(CompressionTolHigh)\n",
    "                                \n",
    "                        pieces = np.array(pieces)\n",
    "                        try:\n",
    "                            fabba = fABBA(verbose=0, alpha=0.1, scl=1, sorting='2-norm') \n",
    "                            st = time.time()\n",
    "                            symbols_fabba, parameters_fabba = fabba.digitize(pieces[:,:2].astype(np.float32))\n",
    "                            ed = time.time()\n",
    "                            time_fabba = ed - st\n",
    "                        except:\n",
    "                            raise(fABBAError)\n",
    "                            \n",
    "                        symbolnum = len(set(symbols_fabba))\n",
    "                        try:\n",
    "                            qabba1 = fastQABBA(init='agg', sorting='2-norm', alpha=0.1, verbose=0,\n",
    "                                               bits_for_len=4, bits_for_inc=BIT_INC)\n",
    "                            st = time.time()\n",
    "                            symbols_qabba1 = qabba1._digitize(pieces[:,:2].astype(np.float32))\n",
    "                            ed = time.time()\n",
    "                            time_qabba1 = ed - st\n",
    "                        except:\n",
    "                            raise(QABBA1Error)\n",
    "                         \n",
    "                        try:\n",
    "                            qabba2 = fastQABBA(init='agg', sorting='2-norm', alpha=0.1, verbose=0, \n",
    "                                               bits_for_len=8, bits_for_inc=BIT_INC)\n",
    "                            st = time.time()\n",
    "                            symbols_qabba2 = qabba2._digitize(pieces[:,:2].astype(np.float32))\n",
    "                            ed = time.time()\n",
    "                            time_qabba2 = ed - st\n",
    "                        except:\n",
    "                            raise(QABBA2Error)\n",
    "                        \n",
    "                        try:\n",
    "                            qabba3 = fastQABBA(init='agg', sorting='2-norm', alpha=0.1, verbose=0,\n",
    "                                               bits_for_len=12, bits_for_inc=BIT_INC)\n",
    "                            st = time.time()\n",
    "                            symbols_qabba3 = qabba3._digitize(pieces[:,:2].astype(np.float32))\n",
    "                            ed = time.time()\n",
    "                            time_qabba3 = ed - st\n",
    "                        except:\n",
    "                            raise(QABBA3Error)\n",
    "                            \n",
    "                        \n",
    "                        try:\n",
    "                            qabba4 = fastQABBA(init='agg', sorting='2-norm', alpha=0.1, verbose=0, \n",
    "                                               bits_for_len=16, bits_for_inc=BIT_INC)\n",
    "                            st = time.time()\n",
    "                            symbols_qabba4 = qabba4._digitize(pieces[:,:2].astype(np.float32))\n",
    "                            ed = time.time()\n",
    "                            time_qabba4 = ed - st\n",
    "                        except:\n",
    "                            raise(QABBA4Error)\n",
    "\n",
    "                        try:\n",
    "                            qabba5 = fastQABBA(init='agg', sorting='2-norm', alpha=0.1, verbose=0, \n",
    "                                               bits_for_len=20, bits_for_inc=BIT_INC)\n",
    "                            \n",
    "                            st = time.time()\n",
    "                            symbols_qabba5 = qabba5._digitize(pieces[:,:2].astype(np.float32))\n",
    "                            ed = time.time()\n",
    "                            time_qabba5 = ed - st\n",
    "                        except:\n",
    "                            raise(QABBA5Error)\n",
    "                            \n",
    "                        try:\n",
    "                            qabba6 = fastQABBA(init='agg', sorting='2-norm', alpha=0.1, verbose=0, \n",
    "                                               bits_for_len=24, bits_for_inc=BIT_INC)\n",
    "                            \n",
    "                            st = time.time()\n",
    "                            symbols_qabba6 = qabba6._digitize(pieces[:,:2].astype(np.float32))\n",
    "                            ed = time.time()\n",
    "                            time_qabba6 = ed - st\n",
    "                        except:\n",
    "                            raise(QABBA6Error)\n",
    "                            \n",
    "                            \n",
    "                        try:\n",
    "                            qabba7 = fastQABBA(init='agg', sorting='2-norm', alpha=0.1, verbose=0, \n",
    "                                               bits_for_len=28, bits_for_inc=BIT_INC)\n",
    "                            \n",
    "                            st = time.time()\n",
    "                            symbols_qabba7 = qabba7._digitize(pieces[:,:2].astype(np.float32))\n",
    "                            ed = time.time()\n",
    "                            time_qabba7 = ed - st\n",
    "                        except:\n",
    "                            raise(QABBA7Error)\n",
    "                            \n",
    "                        try:\n",
    "                            qabba8 = fastQABBA(init='agg', sorting='2-norm', alpha=0.1, verbose=0, \n",
    "                                               bits_for_len=32, bits_for_inc=BIT_INC)\n",
    "                            \n",
    "                            st = time.time()\n",
    "                            symbols_qabba8 = qabba8._digitize(pieces[:,:2].astype(np.float32))\n",
    "                            ed = time.time()\n",
    "                            time_qabba8 = ed - st\n",
    "                        except:\n",
    "                            raise(QABBA8Error)\n",
    "                            \n",
    "                        csymbolicNum.append(symbolnum)\n",
    "                        cpiecesNum.append(len(pieces))\n",
    "                        ctsname.append(str(file) + '_' + str(ind))\n",
    "                        ctolist.append(tol[tol_index])\n",
    "                        \n",
    "                        ts_fABBA = inverse_compress(inverse_digitize(symbols_fabba, parameters_fabba), norm_ts[0])\n",
    "                        ts_QABBA1 = qabba1.inverse_transform(symbols_qabba1, norm_ts[0])\n",
    "                        ts_QABBA2 = qabba2.inverse_transform(symbols_qabba2, norm_ts[0])\n",
    "                        ts_QABBA3 = qabba3.inverse_transform(symbols_qabba3, norm_ts[0])\n",
    "                        ts_QABBA4 = qabba4.inverse_transform(symbols_qabba4, norm_ts[0])\n",
    "                        ts_QABBA5 = qabba5.inverse_transform(symbols_qabba5, norm_ts[0])\n",
    "                        ts_QABBA6 = qabba6.inverse_transform(symbols_qabba6, norm_ts[0])\n",
    "                        ts_QABBA7 = qabba7.inverse_transform(symbols_qabba7, norm_ts[0])\n",
    "                        ts_QABBA8 = qabba8.inverse_transform(symbols_qabba8, norm_ts[0])\n",
    "                        \n",
    "                        # Compute distances\n",
    "                        minlen1 = min(len(ts_QABBA1), len(norm_ts))\n",
    "                        minlen2 = min(len(ts_QABBA2), len(norm_ts))\n",
    "                        minlen3 = min(len(ts_QABBA3), len(norm_ts))\n",
    "                        minlen4 = min(len(ts_QABBA4), len(norm_ts))\n",
    "                        minlen5 = min(len(ts_QABBA5), len(norm_ts))\n",
    "                        minlen6 = min(len(ts_QABBA6), len(norm_ts))\n",
    "                        minlen7 = min(len(ts_QABBA7), len(norm_ts))\n",
    "                        minlen8 = min(len(ts_QABBA8), len(norm_ts))\n",
    "                        minlen9 = min(len(ts_fABBA), len(norm_ts))\n",
    "                        \n",
    "                        D_QABBA1_2[index] = mse(norm_ts[:minlen1],ts_QABBA1[:minlen1])\n",
    "                        D_QABBA2_2[index] = mse(norm_ts[:minlen2],ts_QABBA2[:minlen2])\n",
    "                        D_QABBA3_2[index] = mse(norm_ts[:minlen3],ts_QABBA3[:minlen3])\n",
    "                        D_QABBA4_2[index] = mse(norm_ts[:minlen4],ts_QABBA4[:minlen4])\n",
    "                        D_QABBA5_2[index] = mse(norm_ts[:minlen5],ts_QABBA5[:minlen5])\n",
    "                        D_QABBA6_2[index] = mse(norm_ts[:minlen6],ts_QABBA6[:minlen6])\n",
    "                        D_QABBA7_2[index] = mse(norm_ts[:minlen7],ts_QABBA7[:minlen7])\n",
    "                        D_QABBA8_2[index] = mse(norm_ts[:minlen8],ts_QABBA8[:minlen8])\n",
    "                        D_fABBA_2[index]  = mse(norm_ts[:minlen9],ts_fABBA[:minlen9])\n",
    "                        \n",
    "                        D_QABBA1_DTW[index]    = dtw(norm_ts[:minlen1], ts_QABBA1[:minlen1])\n",
    "                        D_QABBA2_DTW[index]    = dtw(norm_ts[:minlen2], ts_QABBA2[:minlen2])\n",
    "                        D_QABBA3_DTW[index]    = dtw(norm_ts[:minlen3], ts_QABBA3[:minlen3])\n",
    "                        D_QABBA4_DTW[index]    = dtw(norm_ts[:minlen4], ts_QABBA4[:minlen4])\n",
    "                        D_QABBA5_DTW[index]    = dtw(norm_ts[:minlen5], ts_QABBA5[:minlen5])\n",
    "                        D_QABBA6_DTW[index]    = dtw(norm_ts[:minlen6], ts_QABBA6[:minlen6])\n",
    "                        D_QABBA7_DTW[index]    = dtw(norm_ts[:minlen7], ts_QABBA7[:minlen7])\n",
    "                        D_QABBA8_DTW[index]    = dtw(norm_ts[:minlen8], ts_QABBA8[:minlen8])\n",
    "                        D_fABBA_DTW[index]     = dtw(norm_ts[:minlen9], ts_fABBA[:minlen9])\n",
    "                        \n",
    "                        D_QABBA1_2_diff[index]  = mse(np.diff(norm_ts[:minlen1]),np.diff(ts_QABBA1[:minlen1]))\n",
    "                        D_QABBA2_2_diff[index]  = mse(np.diff(norm_ts[:minlen2]),np.diff(ts_QABBA2[:minlen2]))\n",
    "                        D_QABBA3_2_diff[index]  = mse(np.diff(norm_ts[:minlen3]),np.diff(ts_QABBA3[:minlen3]))\n",
    "                        D_QABBA4_2_diff[index]  = mse(np.diff(norm_ts[:minlen4]),np.diff(ts_QABBA4[:minlen4]))\n",
    "                        D_QABBA5_2_diff[index]  = mse(np.diff(norm_ts[:minlen5]),np.diff(ts_QABBA5[:minlen5]))\n",
    "                        D_QABBA6_2_diff[index]  = mse(np.diff(norm_ts[:minlen6]),np.diff(ts_QABBA6[:minlen6]))\n",
    "                        D_QABBA7_2_diff[index]  = mse(np.diff(norm_ts[:minlen7]),np.diff(ts_QABBA7[:minlen7]))\n",
    "                        D_QABBA8_2_diff[index]  = mse(np.diff(norm_ts[:minlen8]),np.diff(ts_QABBA8[:minlen8]))\n",
    "                        D_fABBA_2_diff[index]   = mse(np.diff(norm_ts[:minlen9]),np.diff(ts_fABBA[:minlen9]))\n",
    "                        \n",
    "                        D_QABBA1_DTW_diff[index]   =  dtw(np.diff(norm_ts[:minlen1]), np.diff(ts_QABBA1[:minlen1]))\n",
    "                        D_QABBA2_DTW_diff[index]   =  dtw(np.diff(norm_ts[:minlen2]), np.diff(ts_QABBA2[:minlen2]))\n",
    "                        D_QABBA3_DTW_diff[index]   =  dtw(np.diff(norm_ts[:minlen3]), np.diff(ts_QABBA3[:minlen3]))\n",
    "                        D_QABBA4_DTW_diff[index]   =  dtw(np.diff(norm_ts[:minlen4]), np.diff(ts_QABBA4[:minlen4]))\n",
    "                        D_QABBA5_DTW_diff[index]   =  dtw(np.diff(norm_ts[:minlen5]), np.diff(ts_QABBA5[:minlen5]))\n",
    "                        D_QABBA6_DTW_diff[index]   =  dtw(np.diff(norm_ts[:minlen6]), np.diff(ts_QABBA6[:minlen6]))\n",
    "                        D_QABBA7_DTW_diff[index]   =  dtw(np.diff(norm_ts[:minlen7]), np.diff(ts_QABBA7[:minlen7]))\n",
    "                        D_QABBA8_DTW_diff[index]   =  dtw(np.diff(norm_ts[:minlen8]), np.diff(ts_QABBA8[:minlen8]))                                         \n",
    "                        D_fABBA_DTW_diff[index]    =  dtw(np.diff(norm_ts[:minlen9]), np.diff(ts_fABBA[:minlen9]))\n",
    "                        \n",
    "                        compression[index] = ABBA_len/len(norm_ts) # Store compression amount\n",
    "                        count[index] = len(norm_ts)\n",
    "                        index += 1\n",
    "                        \n",
    "                    except(TypeError):\n",
    "                        error[index] = 1\n",
    "                        compression[index] = np.NaN\n",
    "                        tol_used[index] = np.NaN\n",
    "                        index += 1\n",
    "                        pass\n",
    "                        \n",
    "                    except(TimeSeriesTooShort):\n",
    "                        error[index] = 2\n",
    "                        compression[index] = np.NaN\n",
    "                        tol_used[index] = np.NaN\n",
    "                        index += 1\n",
    "                        pass\n",
    "\n",
    "                    except(NotEnoughPieces):\n",
    "                        error[index] = 3\n",
    "                        compression[index] = np.NaN\n",
    "                        tol_used[index] = np.NaN\n",
    "                        index += 1\n",
    "                        pass\n",
    "\n",
    "                    except(CompressionTolHigh):\n",
    "                        error[index] = 4\n",
    "                        compression[index] = np.NaN\n",
    "                        tol_used[index] = np.NaN\n",
    "                        index += 1\n",
    "                        pass\n",
    "\n",
    "                    except(UnknownError):\n",
    "                        error[index] = 5\n",
    "                        compression[index] = np.NaN\n",
    "                        tol_used[index] = np.NaN\n",
    "                        index += 1\n",
    "                        pass\n",
    "                    \n",
    "                    except(ValueError):\n",
    "                        error[index] = 6\n",
    "                        compression[index] = np.NaN\n",
    "                        tol_used[index] = np.NaN\n",
    "                        index += 1\n",
    "                        pass\n",
    "\n",
    "                    \n",
    "                    except(fABBAError):\n",
    "                        error[index] = 8\n",
    "                        compression[index] = np.NaN\n",
    "                        tol_used[index] = np.NaN\n",
    "                        index += 1\n",
    "                        pass\n",
    "                    \n",
    "                    except(QABBA1Error):\n",
    "                        error[index] = 9\n",
    "                        compression[index] = np.NaN\n",
    "                        tol_used[index] = np.NaN\n",
    "                        index += 1\n",
    "                        pass\n",
    "                    \n",
    "                    except(QABBA2Error):\n",
    "                        error[index] = 10\n",
    "                        compression[index] = np.NaN\n",
    "                        tol_used[index] = np.NaN\n",
    "                        index += 1\n",
    "                        pass\n",
    "                    \n",
    "                    except(QABBA3Error):\n",
    "                        error[index] = 11\n",
    "                        compression[index] = np.NaN\n",
    "                        tol_used[index] = np.NaN\n",
    "                        index += 1\n",
    "                        pass\n",
    "                    \n",
    "                    except(QABBA4Error):\n",
    "                        error[index] = 12\n",
    "                        compression[index] = np.NaN\n",
    "                        tol_used[index] = np.NaN\n",
    "                        index += 1\n",
    "                        pass\n",
    "                    \n",
    "                    \n",
    "                    except(QABBA5Error):\n",
    "                        error[index] = 13\n",
    "                        compression[index] = np.NaN\n",
    "                        tol_used[index] = np.NaN\n",
    "                        index += 1\n",
    "                        pass\n",
    "                    \n",
    "                    except(QABBA6Error):\n",
    "                        error[index] = 14\n",
    "                        compression[index] = np.NaN\n",
    "                        tol_used[index] = np.NaN\n",
    "                        index += 1\n",
    "                        pass\n",
    "                    \n",
    "                    except(QABBA7Error):\n",
    "                        error[index] = 15\n",
    "                        compression[index] = np.NaN\n",
    "                        tol_used[index] = np.NaN\n",
    "                        index += 1\n",
    "                        pass\n",
    "                    \n",
    "                    except(QABBA8Error):\n",
    "                        error[index] = 16\n",
    "                        compression[index] = np.NaN\n",
    "                        tol_used[index] = np.NaN\n",
    "                        index += 1\n",
    "                        pass\n",
    "                    \n",
    "D = {}\n",
    "D['ts_name'] = ts_name\n",
    "D['compression'] = compression\n",
    "D['tol_used'] = tol_used\n",
    "D['error'] = error\n",
    "D['tol'] = tol\n",
    "\n",
    "D['QABBA1_MSE'] = D_QABBA1_2\n",
    "D['QABBA2_MSE'] = D_QABBA2_2\n",
    "D['QABBA3_MSE'] = D_QABBA3_2\n",
    "D['QABBA4_MSE'] = D_QABBA4_2\n",
    "D['QABBA5_MSE'] = D_QABBA5_2\n",
    "D['QABBA6_MSE'] = D_QABBA6_2\n",
    "D['QABBA7_MSE'] = D_QABBA7_2\n",
    "D['QABBA8_MSE'] = D_QABBA8_2\n",
    "D['fABBA_MSE'] = D_fABBA_2\n",
    "\n",
    "D['QABBA1_DTW'] = D_QABBA1_DTW\n",
    "D['QABBA2_DTW'] = D_QABBA2_DTW\n",
    "D['QABBA3_DTW'] = D_QABBA3_DTW\n",
    "D['QABBA4_DTW'] = D_QABBA4_DTW\n",
    "D['QABBA5_DTW'] = D_QABBA5_DTW\n",
    "D['QABBA6_DTW'] = D_QABBA6_DTW\n",
    "D['QABBA7_DTW'] = D_QABBA7_DTW\n",
    "D['QABBA8_DTW'] = D_QABBA8_DTW\n",
    "D['fABBA_DTW'] = D_fABBA_DTW\n",
    "\n",
    "D['QABBA1_MSE_diff'] = D_QABBA1_2_diff\n",
    "D['QABBA2_MSE_diff'] = D_QABBA2_2_diff\n",
    "D['QABBA3_MSE_diff'] = D_QABBA3_2_diff\n",
    "D['QABBA4_MSE_diff'] = D_QABBA4_2_diff\n",
    "D['QABBA5_MSE_diff'] = D_QABBA5_2_diff\n",
    "D['QABBA6_MSE_diff'] = D_QABBA6_2_diff\n",
    "D['QABBA7_MSE_diff'] = D_QABBA7_2_diff\n",
    "D['QABBA8_MSE_diff'] = D_QABBA8_2_diff\n",
    "D['fABBA_MSE_diff'] = D_fABBA_2_diff\n",
    "\n",
    "D['QABBA1_DTW_diff'] = D_QABBA1_DTW_diff\n",
    "D['QABBA2_DTW_diff'] = D_QABBA2_DTW_diff\n",
    "D['QABBA3_DTW_diff'] = D_QABBA3_DTW_diff\n",
    "D['QABBA4_DTW_diff'] = D_QABBA4_DTW_diff\n",
    "D['QABBA5_DTW_diff'] = D_QABBA5_DTW_diff\n",
    "D['QABBA6_DTW_diff'] = D_QABBA6_DTW_diff\n",
    "D['QABBA7_DTW_diff'] = D_QABBA7_DTW_diff\n",
    "D['QABBA8_DTW_diff'] = D_QABBA8_DTW_diff\n",
    "D['fABBA_DTW_diff'] = D_fABBA_DTW_diff\n",
    "\n",
    "with open('results/bits/bitsLEN0.1'+'.p', 'wb') as handle:\n",
    "    pickle.dump(D, handle, protocol=pickle.HIGHEST_PROTOCOL)\n",
    "    \n",
    "Datastore = pd.DataFrame(columns=[\"ts name\", \"number of pieces\", \"number of symbols\", \"tol\"])\n",
    "Datastore[\"ts name\"] = ctsname\n",
    "Datastore[\"number of pieces\"] = cpiecesNum \n",
    "Datastore[\"number of symbols\"] = csymbolicNum  \n",
    "Datastore[\"tol\"] = ctolist \n",
    "Datastore.to_csv(\"results/bits/QABBALEN0.1sl.csv\",index=False)"
   ]
  },
  {
   "cell_type": "code",
   "execution_count": null,
   "metadata": {},
   "outputs": [],
   "source": []
  }
 ],
 "metadata": {
  "kernelspec": {
   "display_name": "Python 3 (ipykernel)",
   "language": "python",
   "name": "python3"
  },
  "language_info": {
   "codemirror_mode": {
    "name": "ipython",
    "version": 3
   },
   "file_extension": ".py",
   "mimetype": "text/x-python",
   "name": "python",
   "nbconvert_exporter": "python",
   "pygments_lexer": "ipython3",
   "version": "3.11.2"
  }
 },
 "nbformat": 4,
 "nbformat_minor": 4
}
