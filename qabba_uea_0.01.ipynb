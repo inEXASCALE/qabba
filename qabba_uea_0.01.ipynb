{
 "cells": [
  {
   "cell_type": "code",
   "execution_count": 1,
   "id": "silver-patent",
   "metadata": {},
   "outputs": [],
   "source": [
    "import os\n",
    "import json\n",
    "import time\n",
    "import numpy as np\n",
    "from tqdm import tqdm \n",
    "from source.jabba import dtw\n",
    "from source.ABBA import ABBA\n",
    "from fABBA import digitize\n",
    "from fABBA import inverse_digitize\n",
    "from fABBA import inverse_compress\n",
    "from sklearn.metrics import mean_squared_error as mse\n",
    "from fABBA import fABBA\n",
    "from scipy.io import arff\n",
    "import matplotlib.pyplot as plt\n",
    "from source.jabba import JABBA\n",
    "from software.qabba import QABBA\n",
    "from source.jabba.storage import compute_storage1, compute_storage2\n",
    "\n",
    "import warnings\n",
    "warnings.filterwarnings(\"ignore\")"
   ]
  },
  {
   "cell_type": "code",
   "execution_count": 2,
   "id": "disciplinary-sponsorship",
   "metadata": {
    "tags": []
   },
   "outputs": [],
   "source": [
    "def preprocess(data):\n",
    "    time_series = list()\n",
    "    for ii in data[0]:\n",
    "        database = list()\n",
    "        for i in ii[0]:\n",
    "            database.append(list(i))\n",
    "        time_series.append(database)\n",
    "    return np.nan_to_num(np.array(time_series).astype(np.float32))\n",
    "\n",
    "\n",
    "def compute_dtw(ts, rts):\n",
    "    dtw_list = []\n",
    "    for ii in range(ts.shape[0]):\n",
    "        uts =  np.array(ts[ii])[~np.isnan(ts[ii])]\n",
    "        urts = np.array(rts[ii])[~np.isnan(rts[ii])]\n",
    "        min_len = min(len(uts), len(urts))\n",
    "        if min_len >=1:\n",
    "            dtw_list.append(dtw(uts[:min_len], urts[:min_len]))\n",
    "    return np.sum(dtw_list)\n",
    "\n",
    "def compute_mse(ts, rts):\n",
    "    mse_list = []\n",
    "    for ii in range(ts.shape[0]):\n",
    "        uts =  np.array(ts[ii])[~np.isnan(ts[ii])]\n",
    "        urts = np.array(rts[ii])[~np.isnan(rts[ii])]\n",
    "        min_len = min(len(uts), len(urts))\n",
    "        if min_len >=1:\n",
    "            mse_list.append(mse(uts[:min_len], urts[:min_len]))\n",
    "    return np.sum(mse_list)\n",
    "    \n",
    "def test_info(multivariate_ts, tol=0.01):\n",
    "\n",
    "    dtw_jabba1 = list()\n",
    "    mse_jabba1 = list()\n",
    "    timing_jabba1 = list()\n",
    "    nm_symbols_jabba1 = list()\n",
    "    \n",
    "    dtw_jabba2 = list()\n",
    "    mse_jabba2 = list()\n",
    "    timing_jabba2 = list()\n",
    "    nm_symbols_jabba2 = list()\n",
    "    \n",
    "    dtw_qabba1 = list()\n",
    "    mse_qabba1 = list()\n",
    "    timing_qabba1 = list()\n",
    "    nm_symbols_qabba1 = list()\n",
    "    \n",
    "    dtw_qabba2 = list()\n",
    "    mse_qabba2 = list()\n",
    "    timing_qabba2 = list()\n",
    "    nm_symbols_qabba2 = list()\n",
    "    \n",
    "    digit_timing_jabba1 = list()\n",
    "    digit_timing_jabba2 = list()\n",
    "    digit_timing_qabba1 = list()\n",
    "    digit_timing_qabba2 = list()\n",
    "    \n",
    "    storage_jabba1 = list()\n",
    "    storage_jabba2 = list()\n",
    "    storage_qabba1 = list()\n",
    "    storage_qabba2 = list()\n",
    "    \n",
    "    for i in tqdm(range(multivariate_ts.shape[0])):\n",
    "        mu = multivariate_ts[i].mean(axis=1)\n",
    "        std = multivariate_ts[i].std(axis=1)\n",
    "        norm_ts = ((multivariate_ts[i].T - mu)/ std).T\n",
    "        \n",
    "        st_comp = time.time()\n",
    "        jabba1 = JABBA(tol=tol, init=\"agg\", alpha=0.1, auto_digitize=False, verbose=0)\n",
    "        collect_pieces = jabba1.parallel_compress(norm_ts, n_jobs=multivariate_ts.shape[1]) \n",
    "        et_comp = time.time()\n",
    "        \n",
    "        st_digit = time.time()\n",
    "        symbols_jabba1 = jabba1.digitize(norm_ts, collect_pieces)\n",
    "        et_digit = time.time()\n",
    "        digit_timing_jabba1 = et_digit - st_digit\n",
    "        \n",
    "        storage_jabba1.append(compute_storage1(jabba1.parameters.centers, \n",
    "                                               np.sum([len(j) for j in symbols_jabba1]),\n",
    "                                               len(jabba1.start_set),\n",
    "                                               bits_for_len=32, bits_for_inc=32, bits_for_ts=32\n",
    "                                               ))\n",
    "\n",
    "        timing_jabba1.append(et_digit + et_comp - st_digit - st_comp)\n",
    "        reconst_jabba1 = jabba1.inverse_transform(symbols_jabba1, n_jobs=-1)\n",
    "        nsb_jabba = jabba1.parameters.centers.shape[0] \n",
    "        nm_symbols_jabba1.append(nsb_jabba)\n",
    "\n",
    "        jabba2 = JABBA(tol=tol, init=\"kmeans\", r=1, k=nsb_jabba, verbose=0)\n",
    "\n",
    "        st_digit = time.time()\n",
    "        symbols_jabba2 = jabba2.digitize(norm_ts, collect_pieces)\n",
    "        et_digit = time.time()\n",
    "        digit_timing_jabba2 = et_digit - st_digit\n",
    "        \n",
    "        storage_jabba2.append(compute_storage1(jabba2.parameters.centers, \n",
    "                                               np.sum([len(j) for j in symbols_jabba2]),\n",
    "                                               len(jabba1.start_set),\n",
    "                                               bits_for_len=32, bits_for_inc=32, bits_for_ts=32\n",
    "                                               ) \n",
    "                             )\n",
    "        \n",
    "        jabba2.return_series_univariate = False\n",
    "\n",
    "        timing_jabba2.append(et_digit + et_comp - st_digit - st_comp)\n",
    "        reconst_jabba2 = jabba2.inverse_transform(symbols_jabba2, \n",
    "                                                  jabba1.start_set,\n",
    "                                                  n_jobs=-1)\n",
    "        nm_symbols_jabba2.append(nsb_jabba)\n",
    "        \n",
    "        dtw_jabba1.append(compute_dtw(norm_ts, reconst_jabba1))\n",
    "        dtw_jabba2.append(compute_dtw(norm_ts, reconst_jabba2))\n",
    "        \n",
    "        mse_jabba1.append(compute_mse(norm_ts, reconst_jabba1))\n",
    "        mse_jabba2.append(compute_mse(norm_ts, reconst_jabba2))\n",
    "        # print(\"jabba1:\", storage_jabba1[-1], \";jabba2:\", storage_jabba2[-1])\n",
    "        # ----------------------------------------------------------- \n",
    "        st_comp = time.time()\n",
    "        qabba1 = QABBA(tol=tol, init=\"agg\", alpha=0.1, bits_for_len=8, bits_for_inc=12, auto_digitize=False, verbose=0)\n",
    "        collect_pieces = qabba1.parallel_compress(norm_ts, n_jobs=multivariate_ts.shape[1]) \n",
    "        et_comp = time.time()\n",
    "        \n",
    "        st_digit = time.time()\n",
    "        symbols_qabba1 = qabba1.digitize(norm_ts, collect_pieces)\n",
    "        et_digit = time.time()\n",
    "        digit_timing_qabba1 = et_digit - st_digit\n",
    "\n",
    "        storage_qabba1.append(compute_storage2(qabba1.parameters.centers, \n",
    "                                               np.sum([len(j) for j in symbols_qabba1]),\n",
    "                                               len(qabba1.start_set),\n",
    "                                               bits_for_len=8, bits_for_inc=12, bits_for_sz=32, bits_for_ts=32\n",
    "                                               ))\n",
    "        \n",
    "        timing_qabba1.append(et_digit + et_comp - st_digit - st_comp)\n",
    "        reconst_qabba1 = qabba1.inverse_transform(symbols_qabba1, n_jobs=-1)\n",
    "        nsb_qabba = qabba1.parameters.centers.shape[0] \n",
    "        nm_symbols_qabba1.append(nsb_qabba)\n",
    "\n",
    "        qabba2 = QABBA(tol=tol, init=\"kmeans\", k=nsb_qabba, bits_for_len=8, bits_for_inc=12, verbose=0)\n",
    "\n",
    "        st_digit = time.time()\n",
    "        symbols_qabba2 = qabba2.digitize(norm_ts, collect_pieces)\n",
    "        et_digit = time.time()\n",
    "        digit_timing_qabba2 = et_digit - st_digit\n",
    "\n",
    "        storage_qabba2.append(compute_storage2(qabba2.parameters.centers, \n",
    "                                               np.sum([len(j) for j in symbols_qabba2]),\n",
    "                                               len(qabba1.start_set),\n",
    "                                               bits_for_len=8, bits_for_inc=12, bits_for_sz=32, bits_for_ts=32\n",
    "                                               ))\n",
    "        \n",
    "        qabba2.return_series_univariate = False\n",
    "\n",
    "        timing_qabba2.append(et_digit + et_comp - st_digit - st_comp)\n",
    "        reconst_qabba2 = qabba2.inverse_transform(symbols_qabba2, \n",
    "                                                  qabba1.start_set,\n",
    "                                                  n_jobs=-1)\n",
    "        nm_symbols_qabba2.append(nsb_qabba)\n",
    "        # print(\"qabba1:\", storage_qabba1[-1], \";qabba2:\", storage_qabba2[-1])\n",
    "        dtw_qabba1.append(compute_dtw(norm_ts, reconst_qabba1))\n",
    "        dtw_qabba2.append(compute_dtw(norm_ts, reconst_qabba2))\n",
    "        \n",
    "        mse_qabba1.append(compute_mse(norm_ts, reconst_qabba1))\n",
    "        mse_qabba2.append(compute_mse(norm_ts, reconst_qabba2))\n",
    "        \n",
    "    return (storage_jabba1, dtw_jabba1, mse_jabba1, timing_jabba1, nm_symbols_jabba1, digit_timing_jabba1),\\\n",
    "           (storage_jabba2, dtw_jabba2, mse_jabba2, timing_jabba2, nm_symbols_jabba2, digit_timing_jabba2), \\\n",
    "           (storage_qabba1, dtw_qabba1, mse_qabba1, timing_qabba1, nm_symbols_qabba1, digit_timing_qabba1), \\\n",
    "           (storage_qabba2, dtw_qabba2, mse_qabba2, timing_qabba2, nm_symbols_qabba2, digit_timing_qabba2)"
   ]
  },
  {
   "cell_type": "code",
   "execution_count": 3,
   "id": "valued-times",
   "metadata": {},
   "outputs": [],
   "source": [
    "_dir = 'UEA2018'\n",
    "test_data = ['AtrialFibrillation', 'BasicMotions', 'CharacterTrajectories', 'LSST',\n",
    "             'Epilepsy', 'NATOPS', 'UWaveGestureLibrary', 'JapaneseVowels', \n",
    "            ]  # 'Heartbeat', 'StandWalkJump'\n",
    "\n",
    "tols = [0.01, 0.01, 0.01, 0.01, 0.01, 0.01, 0.01, 0.01] # , 0.0001, 0.001"
   ]
  },
  {
   "cell_type": "code",
   "execution_count": 4,
   "id": "improving-owner",
   "metadata": {},
   "outputs": [
    {
     "name": "stdout",
     "output_type": "stream",
     "text": [
      "AtrialFibrillation (30, 2, 640)\n"
     ]
    },
    {
     "name": "stderr",
     "output_type": "stream",
     "text": [
      "100%|██████████| 30/30 [30:56<00:00, 61.87s/it]\n"
     ]
    },
    {
     "name": "stdout",
     "output_type": "stream",
     "text": [
      "BasicMotions (80, 6, 100)\n"
     ]
    },
    {
     "name": "stderr",
     "output_type": "stream",
     "text": [
      "100%|██████████| 80/80 [11:32<00:00,  8.65s/it]\n"
     ]
    },
    {
     "name": "stdout",
     "output_type": "stream",
     "text": [
      "CharacterTrajectories (2858, 3, 182)\n"
     ]
    },
    {
     "name": "stderr",
     "output_type": "stream",
     "text": [
      "100%|██████████| 2858/2858 [8:37:53<00:00, 10.87s/it]  \n"
     ]
    },
    {
     "name": "stdout",
     "output_type": "stream",
     "text": [
      "LSST (4925, 6, 36)\n"
     ]
    },
    {
     "name": "stderr",
     "output_type": "stream",
     "text": [
      "100%|██████████| 4925/4925 [6:12:35<00:00,  4.54s/it]  \n"
     ]
    },
    {
     "name": "stdout",
     "output_type": "stream",
     "text": [
      "Epilepsy (275, 3, 206)\n"
     ]
    },
    {
     "name": "stderr",
     "output_type": "stream",
     "text": [
      "100%|██████████| 275/275 [41:38<00:00,  9.08s/it]\n"
     ]
    },
    {
     "name": "stdout",
     "output_type": "stream",
     "text": [
      "NATOPS (360, 24, 51)\n"
     ]
    },
    {
     "name": "stderr",
     "output_type": "stream",
     "text": [
      "100%|██████████| 360/360 [42:15<00:00,  7.04s/it]\n"
     ]
    },
    {
     "name": "stdout",
     "output_type": "stream",
     "text": [
      "UWaveGestureLibrary (440, 3, 315)\n"
     ]
    },
    {
     "name": "stderr",
     "output_type": "stream",
     "text": [
      "100%|██████████| 440/440 [4:42:31<00:00, 38.53s/it]  \n"
     ]
    },
    {
     "name": "stdout",
     "output_type": "stream",
     "text": [
      "JapaneseVowels (640, 12, 29)\n"
     ]
    },
    {
     "name": "stderr",
     "output_type": "stream",
     "text": [
      "100%|██████████| 640/640 [41:31<00:00,  3.89s/it]\n"
     ]
    }
   ],
   "source": [
    "jabba1_info, jabba2_info, qabba1_info, qabba2_info = list(), list(), list(), list()\n",
    "i = 0\n",
    "for filename in test_data:\n",
    "    data = arff.loadarff(os.path.join(_dir, os.path.join(filename, filename+'_TRAIN.arff')))\n",
    "    multivariate_ts_train = preprocess(data)\n",
    "    data = arff.loadarff(os.path.join(_dir, os.path.join(filename, filename+'_TEST.arff')))\n",
    "    multivariate_ts_test = preprocess(data)\n",
    "    multivariate_ts = np.vstack((multivariate_ts_train, multivariate_ts_test)).astype(np.float32)\n",
    "    print(filename, multivariate_ts.shape)\n",
    "    \n",
    "    _jabba1_info, _jabba2_info, _qabba1_info, _qabba2_info = test_info(multivariate_ts, tol=tols[i])\n",
    "    jabba1_info.append(_jabba1_info)\n",
    "    jabba2_info.append(_jabba2_info)\n",
    "    qabba1_info.append(_qabba1_info)\n",
    "    qabba2_info.append(_qabba2_info)\n",
    "    \n",
    "    i = i + 1"
   ]
  },
  {
   "cell_type": "code",
   "execution_count": 5,
   "id": "ceb2be7e-42cb-4fdf-baf4-812885780d3d",
   "metadata": {},
   "outputs": [],
   "source": [
    "class NpEncoder(json.JSONEncoder):\n",
    "    def default(self, obj):\n",
    "        if isinstance(obj, np.integer):\n",
    "            return int(obj)\n",
    "        if isinstance(obj, np.floating):\n",
    "            return float(obj)\n",
    "        if isinstance(obj, np.ndarray):\n",
    "            return obj.tolist()\n",
    "        return super(NpEncoder, self).default(obj)\n"
   ]
  },
  {
   "cell_type": "code",
   "execution_count": 6,
   "id": "senior-bikini",
   "metadata": {},
   "outputs": [],
   "source": [
    "with open(\"results/jabba1_info2.json\", 'w') as f:\n",
    "    json.dump(jabba1_info, f, cls=NpEncoder, indent=2) \n",
    "\n",
    "with open(\"results/jabba2_info2.json\", 'w') as f:\n",
    "    json.dump(jabba2_info, f, cls=NpEncoder, indent=2) \n",
    "    \n",
    "with open(\"results/qabba1_info2.json\", 'w') as f:\n",
    "    json.dump(qabba1_info, f, cls=NpEncoder, indent=2) \n",
    "\n",
    "with open(\"results/qabba2_info2.json\", 'w') as f:\n",
    "    json.dump(qabba2_info, f, cls=NpEncoder, indent=2) "
   ]
  },
  {
   "cell_type": "code",
   "execution_count": null,
   "id": "80083134-d8cc-4fc3-b996-748b1385ac7a",
   "metadata": {},
   "outputs": [],
   "source": []
  },
  {
   "cell_type": "code",
   "execution_count": null,
   "id": "770d93b1-bb1f-4adf-986d-34ae86bf37fc",
   "metadata": {},
   "outputs": [],
   "source": []
  },
  {
   "cell_type": "code",
   "execution_count": null,
   "id": "3f116c08-395f-47a6-8ff8-da9cb35a4e77",
   "metadata": {},
   "outputs": [],
   "source": []
  },
  {
   "cell_type": "code",
   "execution_count": null,
   "id": "7fc2c253-f614-468a-b0b5-1bdb890c60df",
   "metadata": {},
   "outputs": [],
   "source": []
  },
  {
   "cell_type": "code",
   "execution_count": null,
   "id": "b2e1af0e-f4a4-4fbe-a675-f1332a8acce4",
   "metadata": {},
   "outputs": [],
   "source": []
  },
  {
   "cell_type": "code",
   "execution_count": null,
   "id": "492f5d2b-2894-4c60-b45c-8778d1c51c2f",
   "metadata": {},
   "outputs": [],
   "source": []
  }
 ],
 "metadata": {
  "kernelspec": {
   "display_name": "Python 3 (ipykernel)",
   "language": "python",
   "name": "python3"
  },
  "language_info": {
   "codemirror_mode": {
    "name": "ipython",
    "version": 3
   },
   "file_extension": ".py",
   "mimetype": "text/x-python",
   "name": "python",
   "nbconvert_exporter": "python",
   "pygments_lexer": "ipython3",
   "version": "3.12.4"
  }
 },
 "nbformat": 4,
 "nbformat_minor": 5
}
