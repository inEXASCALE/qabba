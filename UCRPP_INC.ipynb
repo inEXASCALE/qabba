{
 "cells": [
  {
   "cell_type": "code",
   "execution_count": 1,
   "metadata": {
    "tags": []
   },
   "outputs": [],
   "source": [
    "import os\n",
    "import csv\n",
    "import time\n",
    "import pickle\n",
    "import numpy as np\n",
    "import pandas as pd\n",
    "from fABBA import fABBA\n",
    "from software.qabba import fastQABBA\n",
    "from tqdm import tqdm\n",
    "import matplotlib.pyplot as plt\n",
    "from source.figdefault import figdefault\n",
    "from tslearn.metrics import dtw as dtw\n",
    "from fABBA import inverse_compress\n",
    "from fABBA import inverse_digitize\n",
    "from source.jabba.qabba import compute_storage\n",
    "from sklearn.metrics import mean_squared_error as mse\n",
    "import warnings\n",
    "warnings.filterwarnings(\"ignore\")"
   ]
  },
  {
   "cell_type": "code",
   "execution_count": 2,
   "metadata": {},
   "outputs": [
    {
     "name": "stdout",
     "output_type": "stream",
     "text": [
      "Number of time series: 201761\n"
     ]
    }
   ],
   "source": [
    "class Error(Exception):\n",
    "    \"\"\"Base class for other exceptions\"\"\"\n",
    "    pass\n",
    "\n",
    "class TimeSeriesTooShort(Error):\n",
    "    \"\"\"Raised when time series is too short\"\"\"\n",
    "    pass\n",
    "\n",
    "class NotEnoughPieces(Error):\n",
    "    \"\"\"Raised when not enough pieces\"\"\"\n",
    "    pass\n",
    "\n",
    "class CompressionTolHigh(Error):\n",
    "    \"\"\"Raised when not enough pieces\"\"\"\n",
    "    pass\n",
    "\n",
    "class VariantsError(Error):\n",
    "    \"\"\"Raised when not enough unique pieces\"\"\"\n",
    "    # Making assumption Ckmeans is available and suitable tol and scl is given.\n",
    "    pass\n",
    "\n",
    "class UnknownError(Error):\n",
    "    \"\"\"Raised when not enough unique pieces\"\"\"\n",
    "    # Making assumption Ckmeans is available and suitable tol and scl is given.\n",
    "    pass\n",
    "\n",
    "\n",
    "class QABBA1Error(Error):\n",
    "    # Error arising from QABBA\n",
    "    pass\n",
    "\n",
    "class QABBA2Error(Error):\n",
    "    # Error arising from QABBA\n",
    "    pass\n",
    "\n",
    "class QABBA3Error(Error):\n",
    "    # Error arising from QABBA\n",
    "    pass\n",
    "\n",
    "class QABBA4Error(Error):\n",
    "    # Error arising from QABBA\n",
    "    pass\n",
    "\n",
    "class QABBA5Error(Error):\n",
    "    # Error arising from QABBA\n",
    "    pass\n",
    "\n",
    "class QABBA6Error(Error):\n",
    "    # Error arising from QABBA\n",
    "    pass\n",
    "\n",
    "class QABBA7Error(Error):\n",
    "    # Error arising from QABBA\n",
    "    pass\n",
    "\n",
    "class QABBA8Error(Error):\n",
    "    # Error arising from QABBA\n",
    "    pass\n",
    "\n",
    "class fABBAError(Error):\n",
    "    # Error arising from fABBA\n",
    "    pass\n",
    "\n",
    "\n",
    "\n",
    "datadir = 'UCR2018/'\n",
    "# tolerances\n",
    "tol = [0.05*i for i in range(1,11)]\n",
    "\n",
    "# If pickle file does not exist, make it.\n",
    "# if not os.path.exists('scl'+str(scl)+'.pkl'):\n",
    "\n",
    "# Calculate number of time series, to provide progess information.\n",
    "ts_count = 0\n",
    "for root, dirs, files in os.walk(datadir):\n",
    "    for file in files:\n",
    "        if file.endswith('tsv'):\n",
    "            with open(os.path.join(root, file)) as f:\n",
    "                content = f.readlines()\n",
    "                ts_count += len(content)\n",
    "                \n",
    "print('Number of time series:', ts_count)\n",
    "\n",
    "\n",
    "# Construct list of NaNs\n",
    "D_fABBA_2 = ts_count*[np.NaN]\n",
    "D_QABBA1_2 = ts_count*[np.NaN]\n",
    "D_QABBA1_2 = ts_count*[np.NaN]\n",
    "D_QABBA2_2 = ts_count*[np.NaN]\n",
    "D_QABBA3_2 = ts_count*[np.NaN]\n",
    "D_QABBA4_2 = ts_count*[np.NaN]\n",
    "D_QABBA5_2 = ts_count*[np.NaN]\n",
    "D_QABBA6_2 = ts_count*[np.NaN]\n",
    "D_QABBA7_2 = ts_count*[np.NaN]\n",
    "D_QABBA8_2 = ts_count*[np.NaN]\n",
    "\n",
    "D_fABBA_DTW = ts_count*[np.NaN]\n",
    "D_QABBA1_DTW = ts_count*[np.NaN]\n",
    "D_QABBA2_DTW = ts_count*[np.NaN]\n",
    "D_QABBA3_DTW = ts_count*[np.NaN]\n",
    "D_QABBA4_DTW = ts_count*[np.NaN]\n",
    "D_QABBA5_DTW = ts_count*[np.NaN]\n",
    "D_QABBA6_DTW = ts_count*[np.NaN]\n",
    "D_QABBA7_DTW = ts_count*[np.NaN]\n",
    "D_QABBA8_DTW = ts_count*[np.NaN]\n",
    "\n",
    "D_fABBA_2_diff = ts_count*[np.NaN]\n",
    "D_QABBA1_2_diff = ts_count*[np.NaN]\n",
    "D_QABBA2_2_diff = ts_count*[np.NaN]\n",
    "D_QABBA3_2_diff = ts_count*[np.NaN]\n",
    "D_QABBA4_2_diff = ts_count*[np.NaN]\n",
    "D_QABBA5_2_diff = ts_count*[np.NaN]\n",
    "D_QABBA6_2_diff = ts_count*[np.NaN]\n",
    "D_QABBA7_2_diff = ts_count*[np.NaN]\n",
    "D_QABBA8_2_diff = ts_count*[np.NaN]\n",
    "\n",
    "D_fABBA_DTW_diff = ts_count*[np.NaN]\n",
    "D_QABBA1_DTW_diff = ts_count*[np.NaN]\n",
    "D_QABBA2_DTW_diff = ts_count*[np.NaN]\n",
    "D_QABBA3_DTW_diff = ts_count*[np.NaN]\n",
    "D_QABBA4_DTW_diff = ts_count*[np.NaN]\n",
    "D_QABBA5_DTW_diff = ts_count*[np.NaN]\n",
    "D_QABBA6_DTW_diff = ts_count*[np.NaN]\n",
    "D_QABBA7_DTW_diff = ts_count*[np.NaN]\n",
    "D_QABBA8_DTW_diff = ts_count*[np.NaN]\n",
    "\n",
    "ts_name = ts_count*[''] # time series name for debugging\n",
    "count = ts_count*[0]\n",
    "compression = ts_count*[np.NaN] # Store amount of compression\n",
    "tol_used = ts_count*[np.NaN] # Store tol used\n",
    "error = ts_count*[0] # track errors\n",
    "\n",
    "csymbolicNum = list()\n",
    "cpiecesNum = list()\n",
    "ctsname = list()\n",
    "ctolist = list()"
   ]
  },
  {
   "cell_type": "code",
   "execution_count": 3,
   "metadata": {},
   "outputs": [
    {
     "name": "stdout",
     "output_type": "stream",
     "text": [
      "file: DodgerLoopWeekend_TRAIN.tsv\n"
     ]
    },
    {
     "name": "stderr",
     "output_type": "stream",
     "text": [
      "20it [00:02,  9.48it/s]\n"
     ]
    },
    {
     "name": "stdout",
     "output_type": "stream",
     "text": [
      "file: DodgerLoopWeekend_TEST.tsv\n"
     ]
    },
    {
     "name": "stderr",
     "output_type": "stream",
     "text": [
      "138it [00:05, 23.66it/s]\n"
     ]
    },
    {
     "name": "stdout",
     "output_type": "stream",
     "text": [
      "file: Wine_TRAIN.tsv\n"
     ]
    },
    {
     "name": "stderr",
     "output_type": "stream",
     "text": [
      "57it [00:01, 33.40it/s]\n"
     ]
    },
    {
     "name": "stdout",
     "output_type": "stream",
     "text": [
      "file: Wine_TEST.tsv\n"
     ]
    },
    {
     "name": "stderr",
     "output_type": "stream",
     "text": [
      "54it [00:01, 34.48it/s]\n"
     ]
    },
    {
     "name": "stdout",
     "output_type": "stream",
     "text": [
      "file: Strawberry_TRAIN.tsv\n"
     ]
    },
    {
     "name": "stderr",
     "output_type": "stream",
     "text": [
      "613it [00:17, 34.67it/s]\n"
     ]
    },
    {
     "name": "stdout",
     "output_type": "stream",
     "text": [
      "file: Strawberry_TEST.tsv\n"
     ]
    },
    {
     "name": "stderr",
     "output_type": "stream",
     "text": [
      "370it [00:10, 34.98it/s]\n"
     ]
    },
    {
     "name": "stdout",
     "output_type": "stream",
     "text": [
      "file: ItalyPowerDemand_TRAIN.tsv\n"
     ]
    },
    {
     "name": "stderr",
     "output_type": "stream",
     "text": [
      "67it [00:00, 13216.93it/s]\n"
     ]
    },
    {
     "name": "stdout",
     "output_type": "stream",
     "text": [
      "file: ItalyPowerDemand_TEST.tsv\n"
     ]
    },
    {
     "name": "stderr",
     "output_type": "stream",
     "text": [
      "1029it [00:00, 14638.24it/s]\n"
     ]
    },
    {
     "name": "stdout",
     "output_type": "stream",
     "text": [
      "file: PLAID_TRAIN.tsv\n"
     ]
    },
    {
     "name": "stderr",
     "output_type": "stream",
     "text": [
      "537it [00:16, 32.38it/s] \n"
     ]
    },
    {
     "name": "stdout",
     "output_type": "stream",
     "text": [
      "file: PLAID_TEST.tsv\n"
     ]
    },
    {
     "name": "stderr",
     "output_type": "stream",
     "text": [
      "537it [00:16, 31.60it/s] \n"
     ]
    },
    {
     "name": "stdout",
     "output_type": "stream",
     "text": [
      "file: BirdChicken_TEST.tsv\n"
     ]
    },
    {
     "name": "stderr",
     "output_type": "stream",
     "text": [
      "20it [00:01, 15.75it/s]\n"
     ]
    },
    {
     "name": "stdout",
     "output_type": "stream",
     "text": [
      "file: BirdChicken_TRAIN.tsv\n"
     ]
    },
    {
     "name": "stderr",
     "output_type": "stream",
     "text": [
      "20it [00:01, 15.37it/s]\n"
     ]
    },
    {
     "name": "stdout",
     "output_type": "stream",
     "text": [
      "file: ProximalPhalanxTW_TEST.tsv\n"
     ]
    },
    {
     "name": "stderr",
     "output_type": "stream",
     "text": [
      "205it [00:00, 10218.10it/s]\n"
     ]
    },
    {
     "name": "stdout",
     "output_type": "stream",
     "text": [
      "file: ProximalPhalanxTW_TRAIN.tsv\n"
     ]
    },
    {
     "name": "stderr",
     "output_type": "stream",
     "text": [
      "400it [00:00, 10967.51it/s]\n"
     ]
    },
    {
     "name": "stdout",
     "output_type": "stream",
     "text": [
      "file: Symbols_TRAIN.tsv\n"
     ]
    },
    {
     "name": "stderr",
     "output_type": "stream",
     "text": [
      "25it [00:01, 21.27it/s]\n"
     ]
    },
    {
     "name": "stdout",
     "output_type": "stream",
     "text": [
      "file: Symbols_TEST.tsv\n"
     ]
    },
    {
     "name": "stderr",
     "output_type": "stream",
     "text": [
      "995it [00:44, 22.18it/s]\n"
     ]
    },
    {
     "name": "stdout",
     "output_type": "stream",
     "text": [
      "file: FiftyWords_TRAIN.tsv\n"
     ]
    },
    {
     "name": "stderr",
     "output_type": "stream",
     "text": [
      "450it [00:14, 30.73it/s]\n"
     ]
    },
    {
     "name": "stdout",
     "output_type": "stream",
     "text": [
      "file: FiftyWords_TEST.tsv\n"
     ]
    },
    {
     "name": "stderr",
     "output_type": "stream",
     "text": [
      "455it [00:14, 31.11it/s]\n"
     ]
    },
    {
     "name": "stdout",
     "output_type": "stream",
     "text": [
      "file: ChlorineConcentration_TEST.tsv\n"
     ]
    },
    {
     "name": "stderr",
     "output_type": "stream",
     "text": [
      "3840it [01:08, 56.15it/s]\n"
     ]
    },
    {
     "name": "stdout",
     "output_type": "stream",
     "text": [
      "file: ChlorineConcentration_TRAIN.tsv\n"
     ]
    },
    {
     "name": "stderr",
     "output_type": "stream",
     "text": [
      "467it [00:07, 66.40it/s]\n"
     ]
    },
    {
     "name": "stdout",
     "output_type": "stream",
     "text": [
      "file: Lightning2_TRAIN.tsv\n"
     ]
    },
    {
     "name": "stderr",
     "output_type": "stream",
     "text": [
      "60it [00:05, 10.12it/s]\n"
     ]
    },
    {
     "name": "stdout",
     "output_type": "stream",
     "text": [
      "file: Lightning2_TEST.tsv\n"
     ]
    },
    {
     "name": "stderr",
     "output_type": "stream",
     "text": [
      "61it [00:05, 10.41it/s]\n"
     ]
    },
    {
     "name": "stdout",
     "output_type": "stream",
     "text": [
      "file: UWaveGestureLibraryX_TEST.tsv\n"
     ]
    },
    {
     "name": "stderr",
     "output_type": "stream",
     "text": [
      "3582it [02:35, 23.03it/s]\n"
     ]
    },
    {
     "name": "stdout",
     "output_type": "stream",
     "text": [
      "file: UWaveGestureLibraryX_TRAIN.tsv\n"
     ]
    },
    {
     "name": "stderr",
     "output_type": "stream",
     "text": [
      "896it [00:31, 28.19it/s]\n"
     ]
    },
    {
     "name": "stdout",
     "output_type": "stream",
     "text": [
      "file: FacesUCR_TRAIN.tsv\n"
     ]
    },
    {
     "name": "stderr",
     "output_type": "stream",
     "text": [
      "200it [00:03, 50.46it/s]\n"
     ]
    },
    {
     "name": "stdout",
     "output_type": "stream",
     "text": [
      "file: FacesUCR_TEST.tsv\n"
     ]
    },
    {
     "name": "stderr",
     "output_type": "stream",
     "text": [
      "2050it [00:41, 49.55it/s]\n"
     ]
    },
    {
     "name": "stdout",
     "output_type": "stream",
     "text": [
      "file: Plane_TEST.tsv\n"
     ]
    },
    {
     "name": "stderr",
     "output_type": "stream",
     "text": [
      "105it [00:02, 45.22it/s]\n"
     ]
    },
    {
     "name": "stdout",
     "output_type": "stream",
     "text": [
      "file: Plane_TRAIN.tsv\n"
     ]
    },
    {
     "name": "stderr",
     "output_type": "stream",
     "text": [
      "105it [00:02, 44.77it/s]\n"
     ]
    },
    {
     "name": "stdout",
     "output_type": "stream",
     "text": [
      "file: RefrigerationDevices_TRAIN.tsv\n"
     ]
    },
    {
     "name": "stderr",
     "output_type": "stream",
     "text": [
      "375it [00:35, 10.69it/s]\n"
     ]
    },
    {
     "name": "stdout",
     "output_type": "stream",
     "text": [
      "file: RefrigerationDevices_TEST.tsv\n"
     ]
    },
    {
     "name": "stderr",
     "output_type": "stream",
     "text": [
      "375it [00:31, 11.78it/s]\n"
     ]
    },
    {
     "name": "stdout",
     "output_type": "stream",
     "text": [
      "file: DodgerLoopWeekend_TRAIN.tsv\n"
     ]
    },
    {
     "name": "stderr",
     "output_type": "stream",
     "text": [
      "20it [00:00, 32.95it/s]\n"
     ]
    },
    {
     "name": "stdout",
     "output_type": "stream",
     "text": [
      "file: DodgerLoopWeekend_TEST.tsv\n"
     ]
    },
    {
     "name": "stderr",
     "output_type": "stream",
     "text": [
      "138it [00:05, 26.74it/s]\n"
     ]
    },
    {
     "name": "stdout",
     "output_type": "stream",
     "text": [
      "file: PLAID_TRAIN.tsv\n"
     ]
    },
    {
     "name": "stderr",
     "output_type": "stream",
     "text": [
      "537it [02:39,  3.36it/s]\n"
     ]
    },
    {
     "name": "stdout",
     "output_type": "stream",
     "text": [
      "file: PLAID_TEST.tsv\n"
     ]
    },
    {
     "name": "stderr",
     "output_type": "stream",
     "text": [
      "537it [02:37,  3.41it/s]\n"
     ]
    },
    {
     "name": "stdout",
     "output_type": "stream",
     "text": [
      "file: AllGestureWiimoteZ_TRAIN.tsv\n"
     ]
    },
    {
     "name": "stderr",
     "output_type": "stream",
     "text": [
      "300it [00:19, 15.69it/s]\n"
     ]
    },
    {
     "name": "stdout",
     "output_type": "stream",
     "text": [
      "file: AllGestureWiimoteZ_TEST.tsv\n"
     ]
    },
    {
     "name": "stderr",
     "output_type": "stream",
     "text": [
      "700it [00:45, 15.46it/s]\n"
     ]
    },
    {
     "name": "stdout",
     "output_type": "stream",
     "text": [
      "file: ShakeGestureWiimoteZ_TEST.tsv\n"
     ]
    },
    {
     "name": "stderr",
     "output_type": "stream",
     "text": [
      "50it [00:02, 21.01it/s]\n"
     ]
    },
    {
     "name": "stdout",
     "output_type": "stream",
     "text": [
      "file: ShakeGestureWiimoteZ_TRAIN.tsv\n"
     ]
    },
    {
     "name": "stderr",
     "output_type": "stream",
     "text": [
      "50it [00:02, 20.62it/s]\n"
     ]
    },
    {
     "name": "stdout",
     "output_type": "stream",
     "text": [
      "file: AllGestureWiimoteX_TEST.tsv\n"
     ]
    },
    {
     "name": "stderr",
     "output_type": "stream",
     "text": [
      "700it [00:45, 15.25it/s]\n"
     ]
    },
    {
     "name": "stdout",
     "output_type": "stream",
     "text": [
      "file: AllGestureWiimoteX_TRAIN.tsv\n"
     ]
    },
    {
     "name": "stderr",
     "output_type": "stream",
     "text": [
      "300it [00:19, 15.30it/s]\n"
     ]
    },
    {
     "name": "stdout",
     "output_type": "stream",
     "text": [
      "file: MelbournePedestrian_TRAIN.tsv\n"
     ]
    },
    {
     "name": "stderr",
     "output_type": "stream",
     "text": [
      "1194it [00:00, 18396.00it/s]\n"
     ]
    },
    {
     "name": "stdout",
     "output_type": "stream",
     "text": [
      "file: MelbournePedestrian_TEST.tsv\n"
     ]
    },
    {
     "name": "stderr",
     "output_type": "stream",
     "text": [
      "2439it [00:00, 18000.04it/s]\n"
     ]
    },
    {
     "name": "stdout",
     "output_type": "stream",
     "text": [
      "file: GestureMidAirD3_TRAIN.tsv\n"
     ]
    },
    {
     "name": "stderr",
     "output_type": "stream",
     "text": [
      "208it [00:08, 24.14it/s]\n"
     ]
    },
    {
     "name": "stdout",
     "output_type": "stream",
     "text": [
      "file: GestureMidAirD3_TEST.tsv\n"
     ]
    },
    {
     "name": "stderr",
     "output_type": "stream",
     "text": [
      "130it [00:05, 24.42it/s]\n"
     ]
    },
    {
     "name": "stdout",
     "output_type": "stream",
     "text": [
      "file: GesturePebbleZ2_TRAIN.tsv\n"
     ]
    },
    {
     "name": "stderr",
     "output_type": "stream",
     "text": [
      "146it [00:08, 17.33it/s]\n"
     ]
    },
    {
     "name": "stdout",
     "output_type": "stream",
     "text": [
      "file: GesturePebbleZ2_TEST.tsv\n"
     ]
    },
    {
     "name": "stderr",
     "output_type": "stream",
     "text": [
      "158it [00:09, 17.39it/s]\n"
     ]
    },
    {
     "name": "stdout",
     "output_type": "stream",
     "text": [
      "file: GestureMidAirD1_TRAIN.tsv\n"
     ]
    },
    {
     "name": "stderr",
     "output_type": "stream",
     "text": [
      "208it [00:08, 24.32it/s]\n"
     ]
    },
    {
     "name": "stdout",
     "output_type": "stream",
     "text": [
      "file: GestureMidAirD1_TEST.tsv\n"
     ]
    },
    {
     "name": "stderr",
     "output_type": "stream",
     "text": [
      "130it [00:05, 24.26it/s]\n"
     ]
    },
    {
     "name": "stdout",
     "output_type": "stream",
     "text": [
      "file: AllGestureWiimoteY_TEST.tsv\n"
     ]
    },
    {
     "name": "stderr",
     "output_type": "stream",
     "text": [
      "700it [00:45, 15.48it/s]\n"
     ]
    },
    {
     "name": "stdout",
     "output_type": "stream",
     "text": [
      "file: AllGestureWiimoteY_TRAIN.tsv\n"
     ]
    },
    {
     "name": "stderr",
     "output_type": "stream",
     "text": [
      "300it [00:19, 15.55it/s]\n"
     ]
    },
    {
     "name": "stdout",
     "output_type": "stream",
     "text": [
      "file: PickupGestureWiimoteZ_TEST.tsv\n"
     ]
    },
    {
     "name": "stderr",
     "output_type": "stream",
     "text": [
      "50it [00:02, 23.67it/s]\n"
     ]
    },
    {
     "name": "stdout",
     "output_type": "stream",
     "text": [
      "file: PickupGestureWiimoteZ_TRAIN.tsv\n"
     ]
    },
    {
     "name": "stderr",
     "output_type": "stream",
     "text": [
      "50it [00:02, 23.17it/s]\n"
     ]
    },
    {
     "name": "stdout",
     "output_type": "stream",
     "text": [
      "file: DodgerLoopGame_TEST.tsv\n"
     ]
    },
    {
     "name": "stderr",
     "output_type": "stream",
     "text": [
      "138it [00:05, 27.38it/s]\n"
     ]
    },
    {
     "name": "stdout",
     "output_type": "stream",
     "text": [
      "file: DodgerLoopGame_TRAIN.tsv\n"
     ]
    },
    {
     "name": "stderr",
     "output_type": "stream",
     "text": [
      "20it [00:00, 30.90it/s]\n"
     ]
    },
    {
     "name": "stdout",
     "output_type": "stream",
     "text": [
      "file: DodgerLoopDay_TEST.tsv\n"
     ]
    },
    {
     "name": "stderr",
     "output_type": "stream",
     "text": [
      "80it [00:02, 26.74it/s]\n"
     ]
    },
    {
     "name": "stdout",
     "output_type": "stream",
     "text": [
      "file: DodgerLoopDay_TRAIN.tsv\n"
     ]
    },
    {
     "name": "stderr",
     "output_type": "stream",
     "text": [
      "78it [00:02, 28.97it/s]\n"
     ]
    },
    {
     "name": "stdout",
     "output_type": "stream",
     "text": [
      "file: GestureMidAirD2_TEST.tsv\n"
     ]
    },
    {
     "name": "stderr",
     "output_type": "stream",
     "text": [
      "130it [00:05, 24.52it/s]\n"
     ]
    },
    {
     "name": "stdout",
     "output_type": "stream",
     "text": [
      "file: GestureMidAirD2_TRAIN.tsv\n"
     ]
    },
    {
     "name": "stderr",
     "output_type": "stream",
     "text": [
      "208it [00:08, 24.06it/s]\n"
     ]
    },
    {
     "name": "stdout",
     "output_type": "stream",
     "text": [
      "file: GesturePebbleZ1_TRAIN.tsv\n"
     ]
    },
    {
     "name": "stderr",
     "output_type": "stream",
     "text": [
      "132it [00:07, 17.45it/s]\n"
     ]
    },
    {
     "name": "stdout",
     "output_type": "stream",
     "text": [
      "file: GesturePebbleZ1_TEST.tsv\n"
     ]
    },
    {
     "name": "stderr",
     "output_type": "stream",
     "text": [
      "172it [00:10, 17.18it/s]\n"
     ]
    },
    {
     "name": "stdout",
     "output_type": "stream",
     "text": [
      "file: ProximalPhalanxOutlineAgeGroup_TEST.tsv\n"
     ]
    },
    {
     "name": "stderr",
     "output_type": "stream",
     "text": [
      "205it [00:00, 11258.92it/s]\n"
     ]
    },
    {
     "name": "stdout",
     "output_type": "stream",
     "text": [
      "file: ProximalPhalanxOutlineAgeGroup_TRAIN.tsv\n"
     ]
    },
    {
     "name": "stderr",
     "output_type": "stream",
     "text": [
      "400it [00:00, 11399.73it/s]\n"
     ]
    },
    {
     "name": "stdout",
     "output_type": "stream",
     "text": [
      "file: FordB_TEST.tsv\n"
     ]
    },
    {
     "name": "stderr",
     "output_type": "stream",
     "text": [
      "810it [00:55, 14.48it/s]\n"
     ]
    },
    {
     "name": "stdout",
     "output_type": "stream",
     "text": [
      "file: FordB_TRAIN.tsv\n"
     ]
    },
    {
     "name": "stderr",
     "output_type": "stream",
     "text": [
      "3636it [04:15, 14.25it/s]\n"
     ]
    },
    {
     "name": "stdout",
     "output_type": "stream",
     "text": [
      "file: Mallat_TRAIN.tsv\n"
     ]
    },
    {
     "name": "stderr",
     "output_type": "stream",
     "text": [
      "55it [00:10,  5.21it/s]\n"
     ]
    },
    {
     "name": "stdout",
     "output_type": "stream",
     "text": [
      "file: Mallat_TEST.tsv\n"
     ]
    },
    {
     "name": "stderr",
     "output_type": "stream",
     "text": [
      "2345it [07:32,  5.18it/s]\n"
     ]
    },
    {
     "name": "stdout",
     "output_type": "stream",
     "text": [
      "file: SemgHandMovementCh2_TRAIN.tsv\n"
     ]
    },
    {
     "name": "stderr",
     "output_type": "stream",
     "text": [
      "450it [00:29, 15.40it/s]\n"
     ]
    },
    {
     "name": "stdout",
     "output_type": "stream",
     "text": [
      "file: SemgHandMovementCh2_TEST.tsv\n"
     ]
    },
    {
     "name": "stderr",
     "output_type": "stream",
     "text": [
      "450it [00:23, 19.12it/s]\n"
     ]
    },
    {
     "name": "stdout",
     "output_type": "stream",
     "text": [
      "file: Phoneme_TEST.tsv\n"
     ]
    },
    {
     "name": "stderr",
     "output_type": "stream",
     "text": [
      "1896it [05:50,  5.40it/s]\n"
     ]
    },
    {
     "name": "stdout",
     "output_type": "stream",
     "text": [
      "file: Phoneme_TRAIN.tsv\n"
     ]
    },
    {
     "name": "stderr",
     "output_type": "stream",
     "text": [
      "214it [00:40,  5.32it/s]\n"
     ]
    },
    {
     "name": "stdout",
     "output_type": "stream",
     "text": [
      "file: UWaveGestureLibraryAll_TEST.tsv\n"
     ]
    },
    {
     "name": "stderr",
     "output_type": "stream",
     "text": [
      "3582it [09:59,  5.98it/s]\n"
     ]
    },
    {
     "name": "stdout",
     "output_type": "stream",
     "text": [
      "file: UWaveGestureLibraryAll_TRAIN.tsv\n"
     ]
    },
    {
     "name": "stderr",
     "output_type": "stream",
     "text": [
      "896it [02:32,  5.88it/s]\n"
     ]
    },
    {
     "name": "stdout",
     "output_type": "stream",
     "text": [
      "file: Chinatown_TRAIN.tsv\n"
     ]
    },
    {
     "name": "stderr",
     "output_type": "stream",
     "text": [
      "20it [00:00, 13037.94it/s]\n"
     ]
    },
    {
     "name": "stdout",
     "output_type": "stream",
     "text": [
      "file: Chinatown_TEST.tsv\n"
     ]
    },
    {
     "name": "stderr",
     "output_type": "stream",
     "text": [
      "343it [00:00, 17286.85it/s]\n"
     ]
    },
    {
     "name": "stdout",
     "output_type": "stream",
     "text": [
      "file: LargeKitchenAppliances_TEST.tsv\n"
     ]
    },
    {
     "name": "stderr",
     "output_type": "stream",
     "text": [
      "375it [00:41,  8.95it/s]\n"
     ]
    },
    {
     "name": "stdout",
     "output_type": "stream",
     "text": [
      "file: LargeKitchenAppliances_TRAIN.tsv\n"
     ]
    },
    {
     "name": "stderr",
     "output_type": "stream",
     "text": [
      "375it [00:41,  9.04it/s]\n"
     ]
    },
    {
     "name": "stdout",
     "output_type": "stream",
     "text": [
      "file: Wafer_TRAIN.tsv\n"
     ]
    },
    {
     "name": "stderr",
     "output_type": "stream",
     "text": [
      "1000it [00:24, 40.49it/s]\n"
     ]
    },
    {
     "name": "stdout",
     "output_type": "stream",
     "text": [
      "file: Wafer_TEST.tsv\n"
     ]
    },
    {
     "name": "stderr",
     "output_type": "stream",
     "text": [
      "6164it [02:38, 39.00it/s]\n"
     ]
    },
    {
     "name": "stdout",
     "output_type": "stream",
     "text": [
      "file: AllGestureWiimoteZ_TRAIN.tsv\n"
     ]
    },
    {
     "name": "stderr",
     "output_type": "stream",
     "text": [
      "300it [00:05, 59.81it/s]\n"
     ]
    },
    {
     "name": "stdout",
     "output_type": "stream",
     "text": [
      "file: AllGestureWiimoteZ_TEST.tsv\n"
     ]
    },
    {
     "name": "stderr",
     "output_type": "stream",
     "text": [
      "700it [00:12, 57.39it/s] \n"
     ]
    },
    {
     "name": "stdout",
     "output_type": "stream",
     "text": [
      "file: HouseTwenty_TRAIN.tsv\n"
     ]
    },
    {
     "name": "stderr",
     "output_type": "stream",
     "text": [
      "40it [00:30,  1.30it/s]\n"
     ]
    },
    {
     "name": "stdout",
     "output_type": "stream",
     "text": [
      "file: HouseTwenty_TEST.tsv\n"
     ]
    },
    {
     "name": "stderr",
     "output_type": "stream",
     "text": [
      "119it [01:32,  1.28it/s]\n"
     ]
    },
    {
     "name": "stdout",
     "output_type": "stream",
     "text": [
      "file: ECGFiveDays_TRAIN.tsv\n"
     ]
    },
    {
     "name": "stderr",
     "output_type": "stream",
     "text": [
      "23it [00:00, 43.06it/s]\n"
     ]
    },
    {
     "name": "stdout",
     "output_type": "stream",
     "text": [
      "file: ECGFiveDays_TEST.tsv\n"
     ]
    },
    {
     "name": "stderr",
     "output_type": "stream",
     "text": [
      "861it [00:21, 39.93it/s]\n"
     ]
    },
    {
     "name": "stdout",
     "output_type": "stream",
     "text": [
      "file: Worms_TRAIN.tsv\n"
     ]
    },
    {
     "name": "stderr",
     "output_type": "stream",
     "text": [
      "181it [00:29,  6.09it/s]\n"
     ]
    },
    {
     "name": "stdout",
     "output_type": "stream",
     "text": [
      "file: Worms_TEST.tsv\n"
     ]
    },
    {
     "name": "stderr",
     "output_type": "stream",
     "text": [
      "77it [00:12,  5.96it/s]\n"
     ]
    },
    {
     "name": "stdout",
     "output_type": "stream",
     "text": [
      "file: BeetleFly_TRAIN.tsv\n"
     ]
    },
    {
     "name": "stderr",
     "output_type": "stream",
     "text": [
      "20it [00:01, 14.77it/s]\n"
     ]
    },
    {
     "name": "stdout",
     "output_type": "stream",
     "text": [
      "file: BeetleFly_TEST.tsv\n"
     ]
    },
    {
     "name": "stderr",
     "output_type": "stream",
     "text": [
      "20it [00:01, 14.61it/s]\n"
     ]
    },
    {
     "name": "stdout",
     "output_type": "stream",
     "text": [
      "file: ECG200_TRAIN.tsv\n"
     ]
    },
    {
     "name": "stderr",
     "output_type": "stream",
     "text": [
      "100it [00:00, 10601.05it/s]\n"
     ]
    },
    {
     "name": "stdout",
     "output_type": "stream",
     "text": [
      "file: ECG200_TEST.tsv\n"
     ]
    },
    {
     "name": "stderr",
     "output_type": "stream",
     "text": [
      "100it [00:00, 10231.01it/s]\n"
     ]
    },
    {
     "name": "stdout",
     "output_type": "stream",
     "text": [
      "file: ECG200_TRAIN-checkpoint.tsv\n"
     ]
    },
    {
     "name": "stderr",
     "output_type": "stream",
     "text": [
      "100it [00:00, 9618.20it/s]\n"
     ]
    },
    {
     "name": "stdout",
     "output_type": "stream",
     "text": [
      "file: CinCECGTorso_TEST.tsv\n"
     ]
    },
    {
     "name": "stderr",
     "output_type": "stream",
     "text": [
      "1380it [11:44,  1.96it/s]\n"
     ]
    },
    {
     "name": "stdout",
     "output_type": "stream",
     "text": [
      "file: CinCECGTorso_TRAIN.tsv\n"
     ]
    },
    {
     "name": "stderr",
     "output_type": "stream",
     "text": [
      "40it [00:20,  1.96it/s]\n"
     ]
    },
    {
     "name": "stdout",
     "output_type": "stream",
     "text": [
      "file: MoteStrain_TRAIN.tsv\n"
     ]
    },
    {
     "name": "stderr",
     "output_type": "stream",
     "text": [
      "20it [00:00, 8755.46it/s]\n"
     ]
    },
    {
     "name": "stdout",
     "output_type": "stream",
     "text": [
      "file: MoteStrain_TEST.tsv\n"
     ]
    },
    {
     "name": "stderr",
     "output_type": "stream",
     "text": [
      "1252it [00:00, 10054.49it/s]\n"
     ]
    },
    {
     "name": "stdout",
     "output_type": "stream",
     "text": [
      "file: MiddlePhalanxOutlineCorrect_TEST.tsv\n"
     ]
    },
    {
     "name": "stderr",
     "output_type": "stream",
     "text": [
      "291it [00:00, 10199.24it/s]\n"
     ]
    },
    {
     "name": "stdout",
     "output_type": "stream",
     "text": [
      "file: MiddlePhalanxOutlineCorrect_TRAIN.tsv\n"
     ]
    },
    {
     "name": "stderr",
     "output_type": "stream",
     "text": [
      "600it [00:00, 10693.48it/s]\n"
     ]
    },
    {
     "name": "stdout",
     "output_type": "stream",
     "text": [
      "file: InsectEPGSmallTrain_TEST.tsv\n"
     ]
    },
    {
     "name": "stderr",
     "output_type": "stream",
     "text": [
      "249it [00:21, 11.40it/s]\n"
     ]
    },
    {
     "name": "stdout",
     "output_type": "stream",
     "text": [
      "file: InsectEPGSmallTrain_TRAIN.tsv\n"
     ]
    },
    {
     "name": "stderr",
     "output_type": "stream",
     "text": [
      "17it [00:01, 10.78it/s]\n"
     ]
    },
    {
     "name": "stdout",
     "output_type": "stream",
     "text": [
      "file: ShakeGestureWiimoteZ_TEST.tsv\n"
     ]
    },
    {
     "name": "stderr",
     "output_type": "stream",
     "text": [
      "50it [00:01, 41.57it/s]\n"
     ]
    },
    {
     "name": "stdout",
     "output_type": "stream",
     "text": [
      "file: ShakeGestureWiimoteZ_TRAIN.tsv\n"
     ]
    },
    {
     "name": "stderr",
     "output_type": "stream",
     "text": [
      "50it [00:01, 37.81it/s]\n"
     ]
    },
    {
     "name": "stdout",
     "output_type": "stream",
     "text": [
      "file: SmallKitchenAppliances_TEST.tsv\n"
     ]
    },
    {
     "name": "stderr",
     "output_type": "stream",
     "text": [
      "375it [00:44,  8.38it/s]\n"
     ]
    },
    {
     "name": "stdout",
     "output_type": "stream",
     "text": [
      "file: SmallKitchenAppliances_TRAIN.tsv\n"
     ]
    },
    {
     "name": "stderr",
     "output_type": "stream",
     "text": [
      "375it [00:45,  8.20it/s]\n"
     ]
    },
    {
     "name": "stdout",
     "output_type": "stream",
     "text": [
      "file: MixedShapesSmallTrain_TEST.tsv\n"
     ]
    },
    {
     "name": "stderr",
     "output_type": "stream",
     "text": [
      "2425it [08:18,  4.86it/s]\n"
     ]
    },
    {
     "name": "stdout",
     "output_type": "stream",
     "text": [
      "file: MixedShapesSmallTrain_TRAIN.tsv\n"
     ]
    },
    {
     "name": "stderr",
     "output_type": "stream",
     "text": [
      "100it [00:19,  5.05it/s]\n"
     ]
    },
    {
     "name": "stdout",
     "output_type": "stream",
     "text": [
      "file: ACSF1_TEST.tsv\n"
     ]
    },
    {
     "name": "stderr",
     "output_type": "stream",
     "text": [
      "100it [00:01, 56.40it/s]\n"
     ]
    },
    {
     "name": "stdout",
     "output_type": "stream",
     "text": [
      "file: ACSF1_TRAIN.tsv\n"
     ]
    },
    {
     "name": "stderr",
     "output_type": "stream",
     "text": [
      "100it [00:01, 80.11it/s]\n"
     ]
    },
    {
     "name": "stdout",
     "output_type": "stream",
     "text": [
      "file: Trace_TEST.tsv\n"
     ]
    },
    {
     "name": "stderr",
     "output_type": "stream",
     "text": [
      "100it [00:03, 30.09it/s]\n"
     ]
    },
    {
     "name": "stdout",
     "output_type": "stream",
     "text": [
      "file: Trace_TRAIN.tsv\n"
     ]
    },
    {
     "name": "stderr",
     "output_type": "stream",
     "text": [
      "100it [00:03, 29.78it/s]\n"
     ]
    },
    {
     "name": "stdout",
     "output_type": "stream",
     "text": [
      "file: SyntheticControl_TRAIN.tsv\n"
     ]
    },
    {
     "name": "stderr",
     "output_type": "stream",
     "text": [
      "300it [00:00, 6685.39it/s]\n"
     ]
    },
    {
     "name": "stdout",
     "output_type": "stream",
     "text": [
      "file: SyntheticControl_TEST.tsv\n"
     ]
    },
    {
     "name": "stderr",
     "output_type": "stream",
     "text": [
      "300it [00:00, 12426.34it/s]\n"
     ]
    },
    {
     "name": "stdout",
     "output_type": "stream",
     "text": [
      "file: CBF_TRAIN.tsv\n"
     ]
    },
    {
     "name": "stderr",
     "output_type": "stream",
     "text": [
      "30it [00:00, 50.54it/s]\n"
     ]
    },
    {
     "name": "stdout",
     "output_type": "stream",
     "text": [
      "file: CBF_TEST.tsv\n"
     ]
    },
    {
     "name": "stderr",
     "output_type": "stream",
     "text": [
      "900it [00:16, 55.99it/s]\n"
     ]
    },
    {
     "name": "stdout",
     "output_type": "stream",
     "text": [
      "file: MedicalImages_TEST.tsv\n"
     ]
    },
    {
     "name": "stderr",
     "output_type": "stream",
     "text": [
      "760it [00:00, 10609.20it/s]\n"
     ]
    },
    {
     "name": "stdout",
     "output_type": "stream",
     "text": [
      "file: MedicalImages_TRAIN.tsv\n"
     ]
    },
    {
     "name": "stderr",
     "output_type": "stream",
     "text": [
      "381it [00:00, 10360.87it/s]\n"
     ]
    },
    {
     "name": "stdout",
     "output_type": "stream",
     "text": [
      "file: ElectricDevices_TEST.tsv\n"
     ]
    },
    {
     "name": "stderr",
     "output_type": "stream",
     "text": [
      "7711it [00:00, 8455.65it/s]\n"
     ]
    },
    {
     "name": "stdout",
     "output_type": "stream",
     "text": [
      "file: ElectricDevices_TRAIN.tsv\n"
     ]
    },
    {
     "name": "stderr",
     "output_type": "stream",
     "text": [
      "8926it [00:01, 8467.99it/s]\n"
     ]
    },
    {
     "name": "stdout",
     "output_type": "stream",
     "text": [
      "file: AllGestureWiimoteX_TEST.tsv\n"
     ]
    },
    {
     "name": "stderr",
     "output_type": "stream",
     "text": [
      "700it [00:11, 61.54it/s] \n"
     ]
    },
    {
     "name": "stdout",
     "output_type": "stream",
     "text": [
      "file: AllGestureWiimoteX_TRAIN.tsv\n"
     ]
    },
    {
     "name": "stderr",
     "output_type": "stream",
     "text": [
      "300it [00:04, 61.80it/s]\n"
     ]
    },
    {
     "name": "stdout",
     "output_type": "stream",
     "text": [
      "file: Lightning7_TRAIN.tsv\n"
     ]
    },
    {
     "name": "stderr",
     "output_type": "stream",
     "text": [
      "70it [00:03, 22.77it/s]\n"
     ]
    },
    {
     "name": "stdout",
     "output_type": "stream",
     "text": [
      "file: Lightning7_TEST.tsv\n"
     ]
    },
    {
     "name": "stderr",
     "output_type": "stream",
     "text": [
      "73it [00:03, 22.81it/s]\n"
     ]
    },
    {
     "name": "stdout",
     "output_type": "stream",
     "text": [
      "file: GunPoint_TRAIN.tsv\n"
     ]
    },
    {
     "name": "stderr",
     "output_type": "stream",
     "text": [
      "50it [00:01, 40.21it/s]\n"
     ]
    },
    {
     "name": "stdout",
     "output_type": "stream",
     "text": [
      "file: GunPoint_TEST.tsv\n"
     ]
    },
    {
     "name": "stderr",
     "output_type": "stream",
     "text": [
      "150it [00:03, 44.12it/s]\n"
     ]
    },
    {
     "name": "stdout",
     "output_type": "stream",
     "text": [
      "file: Fungi_TRAIN.tsv\n"
     ]
    },
    {
     "name": "stderr",
     "output_type": "stream",
     "text": [
      "18it [00:00, 31.63it/s]\n"
     ]
    },
    {
     "name": "stdout",
     "output_type": "stream",
     "text": [
      "file: Fungi_TEST.tsv\n"
     ]
    },
    {
     "name": "stderr",
     "output_type": "stream",
     "text": [
      "186it [00:05, 35.49it/s]\n"
     ]
    },
    {
     "name": "stdout",
     "output_type": "stream",
     "text": [
      "file: WordSynonyms_TRAIN.tsv\n"
     ]
    },
    {
     "name": "stderr",
     "output_type": "stream",
     "text": [
      "267it [00:09, 29.09it/s]\n"
     ]
    },
    {
     "name": "stdout",
     "output_type": "stream",
     "text": [
      "file: WordSynonyms_TEST.tsv\n"
     ]
    },
    {
     "name": "stderr",
     "output_type": "stream",
     "text": [
      "638it [00:21, 29.23it/s]\n"
     ]
    },
    {
     "name": "stdout",
     "output_type": "stream",
     "text": [
      "file: CricketX_TEST.tsv\n"
     ]
    },
    {
     "name": "stderr",
     "output_type": "stream",
     "text": [
      "390it [00:16, 23.01it/s]\n"
     ]
    },
    {
     "name": "stdout",
     "output_type": "stream",
     "text": [
      "file: CricketX_TRAIN.tsv\n"
     ]
    },
    {
     "name": "stderr",
     "output_type": "stream",
     "text": [
      "390it [00:16, 23.85it/s]\n"
     ]
    },
    {
     "name": "stdout",
     "output_type": "stream",
     "text": [
      "file: ArrowHead_TEST.tsv\n"
     ]
    },
    {
     "name": "stderr",
     "output_type": "stream",
     "text": [
      "175it [00:05, 31.23it/s]\n"
     ]
    },
    {
     "name": "stdout",
     "output_type": "stream",
     "text": [
      "file: ArrowHead_TRAIN.tsv\n"
     ]
    },
    {
     "name": "stderr",
     "output_type": "stream",
     "text": [
      "36it [00:01, 32.59it/s]\n"
     ]
    },
    {
     "name": "stdout",
     "output_type": "stream",
     "text": [
      "file: TwoLeadECG_TEST.tsv\n"
     ]
    },
    {
     "name": "stderr",
     "output_type": "stream",
     "text": [
      "1139it [00:00, 10790.67it/s]\n"
     ]
    },
    {
     "name": "stdout",
     "output_type": "stream",
     "text": [
      "file: TwoLeadECG_TRAIN.tsv\n"
     ]
    },
    {
     "name": "stderr",
     "output_type": "stream",
     "text": [
      "23it [00:00, 9619.00it/s]\n"
     ]
    },
    {
     "name": "stdout",
     "output_type": "stream",
     "text": [
      "file: FaceFour_TRAIN.tsv\n"
     ]
    },
    {
     "name": "stderr",
     "output_type": "stream",
     "text": [
      "24it [00:01, 20.18it/s]\n"
     ]
    },
    {
     "name": "stdout",
     "output_type": "stream",
     "text": [
      "file: FaceFour_TEST.tsv\n"
     ]
    },
    {
     "name": "stderr",
     "output_type": "stream",
     "text": [
      "88it [00:04, 20.16it/s]\n"
     ]
    },
    {
     "name": "stdout",
     "output_type": "stream",
     "text": [
      "file: FreezerRegularTrain_TRAIN.tsv\n"
     ]
    },
    {
     "name": "stderr",
     "output_type": "stream",
     "text": [
      "150it [00:05, 26.34it/s]\n"
     ]
    },
    {
     "name": "stdout",
     "output_type": "stream",
     "text": [
      "file: FreezerRegularTrain_TEST.tsv\n"
     ]
    },
    {
     "name": "stderr",
     "output_type": "stream",
     "text": [
      "2850it [01:49, 25.99it/s]\n"
     ]
    },
    {
     "name": "stdout",
     "output_type": "stream",
     "text": [
      "file: Ham_TEST.tsv\n"
     ]
    },
    {
     "name": "stderr",
     "output_type": "stream",
     "text": [
      "105it [00:06, 16.65it/s]\n"
     ]
    },
    {
     "name": "stdout",
     "output_type": "stream",
     "text": [
      "file: Ham_TRAIN.tsv\n"
     ]
    },
    {
     "name": "stderr",
     "output_type": "stream",
     "text": [
      "109it [00:06, 16.72it/s]\n"
     ]
    },
    {
     "name": "stdout",
     "output_type": "stream",
     "text": [
      "file: ScreenType_TEST.tsv\n"
     ]
    },
    {
     "name": "stderr",
     "output_type": "stream",
     "text": [
      "375it [00:46,  8.11it/s]\n"
     ]
    },
    {
     "name": "stdout",
     "output_type": "stream",
     "text": [
      "file: ScreenType_TRAIN.tsv\n"
     ]
    },
    {
     "name": "stderr",
     "output_type": "stream",
     "text": [
      "375it [00:40,  9.15it/s]\n"
     ]
    },
    {
     "name": "stdout",
     "output_type": "stream",
     "text": [
      "file: MelbournePedestrian_TRAIN.tsv\n"
     ]
    },
    {
     "name": "stderr",
     "output_type": "stream",
     "text": [
      "1194it [00:00, 16376.18it/s]\n"
     ]
    },
    {
     "name": "stdout",
     "output_type": "stream",
     "text": [
      "file: MelbournePedestrian_TEST.tsv\n"
     ]
    },
    {
     "name": "stderr",
     "output_type": "stream",
     "text": [
      "2439it [00:00, 16538.69it/s]\n"
     ]
    },
    {
     "name": "stdout",
     "output_type": "stream",
     "text": [
      "file: UWaveGestureLibraryZ_TEST.tsv\n"
     ]
    },
    {
     "name": "stderr",
     "output_type": "stream",
     "text": [
      "3582it [02:13, 26.78it/s]\n"
     ]
    },
    {
     "name": "stdout",
     "output_type": "stream",
     "text": [
      "file: UWaveGestureLibraryZ_TRAIN.tsv\n"
     ]
    },
    {
     "name": "stderr",
     "output_type": "stream",
     "text": [
      "896it [00:31, 28.13it/s]\n"
     ]
    },
    {
     "name": "stdout",
     "output_type": "stream",
     "text": [
      "file: InsectWingbeatSound_TEST.tsv\n"
     ]
    },
    {
     "name": "stderr",
     "output_type": "stream",
     "text": [
      "1980it [01:01, 32.45it/s]\n"
     ]
    },
    {
     "name": "stdout",
     "output_type": "stream",
     "text": [
      "file: InsectWingbeatSound_TRAIN.tsv\n"
     ]
    },
    {
     "name": "stderr",
     "output_type": "stream",
     "text": [
      "220it [00:06, 32.70it/s]\n"
     ]
    },
    {
     "name": "stdout",
     "output_type": "stream",
     "text": [
      "file: FreezerSmallTrain_TRAIN.tsv\n"
     ]
    },
    {
     "name": "stderr",
     "output_type": "stream",
     "text": [
      "28it [00:00, 28.82it/s]\n"
     ]
    },
    {
     "name": "stdout",
     "output_type": "stream",
     "text": [
      "file: FreezerSmallTrain_TEST.tsv\n"
     ]
    },
    {
     "name": "stderr",
     "output_type": "stream",
     "text": [
      "2850it [01:38, 28.89it/s]\n"
     ]
    },
    {
     "name": "stdout",
     "output_type": "stream",
     "text": [
      "file: Beef_TEST.tsv\n"
     ]
    },
    {
     "name": "stderr",
     "output_type": "stream",
     "text": [
      "30it [00:01, 17.98it/s]\n"
     ]
    },
    {
     "name": "stdout",
     "output_type": "stream",
     "text": [
      "file: Beef_TRAIN.tsv\n"
     ]
    },
    {
     "name": "stderr",
     "output_type": "stream",
     "text": [
      "30it [00:01, 17.67it/s]\n"
     ]
    },
    {
     "name": "stdout",
     "output_type": "stream",
     "text": [
      "file: NonInvasiveFetalECGThorax1_TEST.tsv\n"
     ]
    },
    {
     "name": "stderr",
     "output_type": "stream",
     "text": [
      "1965it [03:46,  8.67it/s]\n"
     ]
    },
    {
     "name": "stdout",
     "output_type": "stream",
     "text": [
      "file: NonInvasiveFetalECGThorax1_TRAIN.tsv\n"
     ]
    },
    {
     "name": "stderr",
     "output_type": "stream",
     "text": [
      "1800it [03:30,  8.54it/s]\n"
     ]
    },
    {
     "name": "stdout",
     "output_type": "stream",
     "text": [
      "file: Haptics_TEST.tsv\n"
     ]
    },
    {
     "name": "stderr",
     "output_type": "stream",
     "text": [
      "308it [01:10,  4.36it/s]\n"
     ]
    },
    {
     "name": "stdout",
     "output_type": "stream",
     "text": [
      "file: Haptics_TRAIN.tsv\n"
     ]
    },
    {
     "name": "stderr",
     "output_type": "stream",
     "text": [
      "155it [00:34,  4.45it/s]\n"
     ]
    },
    {
     "name": "stdout",
     "output_type": "stream",
     "text": [
      "file: SwedishLeaf_TRAIN.tsv\n"
     ]
    },
    {
     "name": "stderr",
     "output_type": "stream",
     "text": [
      "370it [08:00,  1.30s/it]\n"
     ]
    },
    {
     "name": "stdout",
     "output_type": "stream",
     "text": [
      "file: HandOutlines_TRAIN.tsv\n"
     ]
    },
    {
     "name": "stderr",
     "output_type": "stream",
     "text": [
      "1000it [20:59,  1.26s/it]\n"
     ]
    },
    {
     "name": "stdout",
     "output_type": "stream",
     "text": [
      "file: DistalPhalanxTW_TRAIN.tsv\n"
     ]
    },
    {
     "name": "stderr",
     "output_type": "stream",
     "text": [
      "400it [00:00, 12286.23it/s]\n"
     ]
    },
    {
     "name": "stdout",
     "output_type": "stream",
     "text": [
      "file: DistalPhalanxTW_TEST.tsv\n"
     ]
    },
    {
     "name": "stderr",
     "output_type": "stream",
     "text": [
      "139it [00:00, 11889.88it/s]\n"
     ]
    },
    {
     "name": "stdout",
     "output_type": "stream",
     "text": [
      "file: Rock_TEST.tsv\n"
     ]
    },
    {
     "name": "stderr",
     "output_type": "stream",
     "text": [
      "50it [01:09,  1.39s/it]\n"
     ]
    },
    {
     "name": "stdout",
     "output_type": "stream",
     "text": [
      "file: Rock_TRAIN.tsv\n"
     ]
    },
    {
     "name": "stderr",
     "output_type": "stream",
     "text": [
      "20it [00:27,  1.38s/it]\n"
     ]
    },
    {
     "name": "stdout",
     "output_type": "stream",
     "text": [
      "file: GesturePebbleZ2_TRAIN.tsv\n"
     ]
    },
    {
     "name": "stderr",
     "output_type": "stream",
     "text": [
      "146it [00:04, 34.23it/s]\n"
     ]
    },
    {
     "name": "stdout",
     "output_type": "stream",
     "text": [
      "file: GesturePebbleZ2_TEST.tsv\n"
     ]
    },
    {
     "name": "stderr",
     "output_type": "stream",
     "text": [
      "158it [00:04, 36.13it/s]\n"
     ]
    },
    {
     "name": "stdout",
     "output_type": "stream",
     "text": [
      "file: InsectEPGRegularTrain_TRAIN.tsv\n"
     ]
    },
    {
     "name": "stderr",
     "output_type": "stream",
     "text": [
      "62it [00:04, 12.80it/s]\n"
     ]
    },
    {
     "name": "stdout",
     "output_type": "stream",
     "text": [
      "file: InsectEPGRegularTrain_TEST.tsv\n"
     ]
    },
    {
     "name": "stderr",
     "output_type": "stream",
     "text": [
      "249it [00:19, 12.94it/s]\n"
     ]
    },
    {
     "name": "stdout",
     "output_type": "stream",
     "text": [
      "file: Earthquakes_TEST.tsv\n"
     ]
    },
    {
     "name": "stderr",
     "output_type": "stream",
     "text": [
      "139it [00:01, 116.34it/s]\n"
     ]
    },
    {
     "name": "stdout",
     "output_type": "stream",
     "text": [
      "file: Earthquakes_TRAIN.tsv\n"
     ]
    },
    {
     "name": "stderr",
     "output_type": "stream",
     "text": [
      "322it [00:03, 95.96it/s] \n"
     ]
    },
    {
     "name": "stdout",
     "output_type": "stream",
     "text": [
      "file: ToeSegmentation2_TRAIN.tsv\n"
     ]
    },
    {
     "name": "stderr",
     "output_type": "stream",
     "text": [
      "36it [00:01, 25.92it/s]\n"
     ]
    },
    {
     "name": "stdout",
     "output_type": "stream",
     "text": [
      "file: ToeSegmentation2_TEST.tsv\n"
     ]
    },
    {
     "name": "stderr",
     "output_type": "stream",
     "text": [
      "130it [00:05, 25.72it/s]\n"
     ]
    },
    {
     "name": "stdout",
     "output_type": "stream",
     "text": [
      "file: GestureMidAirD1_TRAIN.tsv\n"
     ]
    },
    {
     "name": "stderr",
     "output_type": "stream",
     "text": [
      "208it [00:03, 53.84it/s]\n"
     ]
    },
    {
     "name": "stdout",
     "output_type": "stream",
     "text": [
      "file: GestureMidAirD1_TEST.tsv\n"
     ]
    },
    {
     "name": "stderr",
     "output_type": "stream",
     "text": [
      "130it [00:02, 50.87it/s]\n"
     ]
    },
    {
     "name": "stdout",
     "output_type": "stream",
     "text": [
      "file: AllGestureWiimoteY_TEST.tsv\n"
     ]
    },
    {
     "name": "stderr",
     "output_type": "stream",
     "text": [
      "700it [00:09, 72.60it/s] \n"
     ]
    },
    {
     "name": "stdout",
     "output_type": "stream",
     "text": [
      "file: AllGestureWiimoteY_TRAIN.tsv\n"
     ]
    },
    {
     "name": "stderr",
     "output_type": "stream",
     "text": [
      "300it [00:04, 69.31it/s] \n"
     ]
    },
    {
     "name": "stdout",
     "output_type": "stream",
     "text": [
      "file: ECG5000_TRAIN.tsv\n"
     ]
    },
    {
     "name": "stderr",
     "output_type": "stream",
     "text": [
      "500it [00:10, 47.19it/s]\n"
     ]
    },
    {
     "name": "stdout",
     "output_type": "stream",
     "text": [
      "file: ECG5000_TEST.tsv\n"
     ]
    },
    {
     "name": "stderr",
     "output_type": "stream",
     "text": [
      "4500it [01:35, 47.23it/s]\n"
     ]
    },
    {
     "name": "stdout",
     "output_type": "stream",
     "text": [
      "file: ECG5000_TRAIN-checkpoint.tsv\n"
     ]
    },
    {
     "name": "stderr",
     "output_type": "stream",
     "text": [
      "60it [00:01, 46.65it/s]IOPub message rate exceeded.\n",
      "The Jupyter server will temporarily stop sending output\n",
      "to the client in order to avoid crashing it.\n",
      "To change this limit, set the config variable\n",
      "`--ServerApp.iopub_msg_rate_limit`.\n",
      "\n",
      "Current values:\n",
      "ServerApp.iopub_msg_rate_limit=1000.0 (msgs/sec)\n",
      "ServerApp.rate_limit_window=3.0 (secs)\n",
      "\n",
      "208it [00:03, 53.75it/s]\n"
     ]
    },
    {
     "name": "stdout",
     "output_type": "stream",
     "text": [
      "file: MixedShapesRegularTrain_TEST.tsv\n"
     ]
    },
    {
     "name": "stderr",
     "output_type": "stream",
     "text": [
      "2425it [07:33,  5.34it/s]\n"
     ]
    },
    {
     "name": "stdout",
     "output_type": "stream",
     "text": [
      "file: MixedShapesRegularTrain_TRAIN.tsv\n"
     ]
    },
    {
     "name": "stderr",
     "output_type": "stream",
     "text": [
      "500it [01:33,  5.35it/s]\n"
     ]
    },
    {
     "name": "stdout",
     "output_type": "stream",
     "text": [
      "file: DistalPhalanxOutlineAgeGroup_TRAIN.tsv\n"
     ]
    },
    {
     "name": "stderr",
     "output_type": "stream",
     "text": [
      "400it [00:00, 12785.47it/s]\n"
     ]
    },
    {
     "name": "stdout",
     "output_type": "stream",
     "text": [
      "file: DistalPhalanxOutlineAgeGroup_TEST.tsv\n"
     ]
    },
    {
     "name": "stderr",
     "output_type": "stream",
     "text": [
      "139it [00:00, 12290.94it/s]\n"
     ]
    },
    {
     "name": "stdout",
     "output_type": "stream",
     "text": [
      "file: PhalangesOutlinesCorrect_TRAIN.tsv\n"
     ]
    },
    {
     "name": "stderr",
     "output_type": "stream",
     "text": [
      "1800it [00:00, 12888.59it/s]\n"
     ]
    },
    {
     "name": "stdout",
     "output_type": "stream",
     "text": [
      "file: PhalangesOutlinesCorrect_TEST.tsv\n"
     ]
    },
    {
     "name": "stderr",
     "output_type": "stream",
     "text": [
      "858it [00:00, 12462.04it/s]\n"
     ]
    },
    {
     "name": "stdout",
     "output_type": "stream",
     "text": [
      "file: StarLightCurves_TRAIN.tsv\n"
     ]
    },
    {
     "name": "stderr",
     "output_type": "stream",
     "text": [
      "44it [00:08,  5.28it/s]IOPub message rate exceeded.\n",
      "The Jupyter server will temporarily stop sending output\n",
      "to the client in order to avoid crashing it.\n",
      "To change this limit, set the config variable\n",
      "`--ServerApp.iopub_msg_rate_limit`.\n",
      "\n",
      "Current values:\n",
      "ServerApp.iopub_msg_rate_limit=1000.0 (msgs/sec)\n",
      "ServerApp.rate_limit_window=3.0 (secs)\n",
      "\n",
      "4000it [01:20, 49.61it/s]\n"
     ]
    },
    {
     "name": "stdout",
     "output_type": "stream",
     "text": [
      "file: TwoPatterns_TRAIN.tsv\n"
     ]
    },
    {
     "name": "stderr",
     "output_type": "stream",
     "text": [
      "1000it [00:20, 49.74it/s]\n"
     ]
    },
    {
     "name": "stdout",
     "output_type": "stream",
     "text": [
      "file: Fish_TRAIN.tsv\n"
     ]
    },
    {
     "name": "stderr",
     "output_type": "stream",
     "text": [
      "175it [00:08, 20.70it/s]\n"
     ]
    },
    {
     "name": "stdout",
     "output_type": "stream",
     "text": [
      "file: Fish_TEST.tsv\n"
     ]
    },
    {
     "name": "stderr",
     "output_type": "stream",
     "text": [
      "175it [00:08, 20.65it/s]\n"
     ]
    },
    {
     "name": "stdout",
     "output_type": "stream",
     "text": [
      "file: Herring_TRAIN.tsv\n"
     ]
    },
    {
     "name": "stderr",
     "output_type": "stream",
     "text": [
      "64it [00:03, 18.54it/s]\n"
     ]
    },
    {
     "name": "stdout",
     "output_type": "stream",
     "text": [
      "file: Herring_TEST.tsv\n"
     ]
    },
    {
     "name": "stderr",
     "output_type": "stream",
     "text": [
      "64it [00:03, 18.37it/s]\n"
     ]
    },
    {
     "name": "stdout",
     "output_type": "stream",
     "text": [
      "file: BME_TEST.tsv\n"
     ]
    },
    {
     "name": "stderr",
     "output_type": "stream",
     "text": [
      "150it [00:02, 54.27it/s]\n"
     ]
    },
    {
     "name": "stdout",
     "output_type": "stream",
     "text": [
      "file: BME_TRAIN.tsv\n"
     ]
    },
    {
     "name": "stderr",
     "output_type": "stream",
     "text": [
      "30it [00:00, 54.32it/s]\n"
     ]
    },
    {
     "name": "stdout",
     "output_type": "stream",
     "text": [
      "file: Coffee_TRAIN.tsv\n"
     ]
    },
    {
     "name": "stderr",
     "output_type": "stream",
     "text": [
      "28it [00:00, 33.35it/s]\n"
     ]
    },
    {
     "name": "stdout",
     "output_type": "stream",
     "text": [
      "file: Coffee_TEST.tsv\n"
     ]
    },
    {
     "name": "stderr",
     "output_type": "stream",
     "text": [
      "28it [00:00, 33.14it/s]\n"
     ]
    },
    {
     "name": "stdout",
     "output_type": "stream",
     "text": [
      "file: PigArtPressure_TEST.tsv\n"
     ]
    },
    {
     "name": "stderr",
     "output_type": "stream",
     "text": [
      "208it [02:24,  1.44it/s]\n"
     ]
    },
    {
     "name": "stdout",
     "output_type": "stream",
     "text": [
      "file: PigArtPressure_TRAIN.tsv\n"
     ]
    },
    {
     "name": "stderr",
     "output_type": "stream",
     "text": [
      "104it [01:12,  1.44it/s]\n"
     ]
    },
    {
     "name": "stdout",
     "output_type": "stream",
     "text": [
      "file: GunPointOldVersusYoung_TRAIN.tsv\n"
     ]
    },
    {
     "name": "stderr",
     "output_type": "stream",
     "text": [
      "136it [00:02, 52.64it/s]\n"
     ]
    },
    {
     "name": "stdout",
     "output_type": "stream",
     "text": [
      "file: GunPointOldVersusYoung_TEST.tsv\n"
     ]
    },
    {
     "name": "stderr",
     "output_type": "stream",
     "text": [
      "315it [00:05, 52.54it/s]\n"
     ]
    },
    {
     "ename": "FileNotFoundError",
     "evalue": "[Errno 2] No such file or directory: 'results/bits/bitsINC0.1.p'",
     "output_type": "error",
     "traceback": [
      "\u001b[0;31m---------------------------------------------------------------------------\u001b[0m",
      "\u001b[0;31mFileNotFoundError\u001b[0m                         Traceback (most recent call last)",
      "Cell \u001b[0;32mIn [3], line 371\u001b[0m\n\u001b[1;32m    368\u001b[0m D[\u001b[38;5;124m'\u001b[39m\u001b[38;5;124mQABBA8_DTW_diff\u001b[39m\u001b[38;5;124m'\u001b[39m] \u001b[38;5;241m=\u001b[39m D_QABBA8_DTW_diff\n\u001b[1;32m    369\u001b[0m D[\u001b[38;5;124m'\u001b[39m\u001b[38;5;124mfABBA_DTW_diff\u001b[39m\u001b[38;5;124m'\u001b[39m] \u001b[38;5;241m=\u001b[39m D_fABBA_DTW_diff\n\u001b[0;32m--> 371\u001b[0m \u001b[38;5;28;01mwith\u001b[39;00m \u001b[38;5;28;43mopen\u001b[39;49m\u001b[43m(\u001b[49m\u001b[38;5;124;43m'\u001b[39;49m\u001b[38;5;124;43mresults/bits/bitsINC0.1\u001b[39;49m\u001b[38;5;124;43m'\u001b[39;49m\u001b[38;5;241;43m+\u001b[39;49m\u001b[38;5;124;43m'\u001b[39;49m\u001b[38;5;124;43m.p\u001b[39;49m\u001b[38;5;124;43m'\u001b[39;49m\u001b[43m,\u001b[49m\u001b[43m \u001b[49m\u001b[38;5;124;43m'\u001b[39;49m\u001b[38;5;124;43mwb\u001b[39;49m\u001b[38;5;124;43m'\u001b[39;49m\u001b[43m)\u001b[49m \u001b[38;5;28;01mas\u001b[39;00m handle:\n\u001b[1;32m    372\u001b[0m     pickle\u001b[38;5;241m.\u001b[39mdump(D, handle, protocol\u001b[38;5;241m=\u001b[39mpickle\u001b[38;5;241m.\u001b[39mHIGHEST_PROTOCOL)\n\u001b[1;32m    374\u001b[0m Datastore \u001b[38;5;241m=\u001b[39m pd\u001b[38;5;241m.\u001b[39mDataFrame(columns\u001b[38;5;241m=\u001b[39m[\u001b[38;5;124m\"\u001b[39m\u001b[38;5;124mts name\u001b[39m\u001b[38;5;124m\"\u001b[39m, \u001b[38;5;124m\"\u001b[39m\u001b[38;5;124mnumber of pieces\u001b[39m\u001b[38;5;124m\"\u001b[39m, \u001b[38;5;124m\"\u001b[39m\u001b[38;5;124mnumber of symbols\u001b[39m\u001b[38;5;124m\"\u001b[39m,\u001b[38;5;124m\"\u001b[39m\u001b[38;5;124mtol\u001b[39m\u001b[38;5;124m\"\u001b[39m])\n",
      "\u001b[0;31mFileNotFoundError\u001b[0m: [Errno 2] No such file or directory: 'results/bits/bitsINC0.1.p'"
     ]
    }
   ],
   "source": [
    "# Run through time series\n",
    "index = 0\n",
    "BIT_LEN = 32\n",
    "\n",
    "for root, dirs, files in os.walk(datadir):\n",
    "    for file in files:\n",
    "        if file.endswith('tsv'):\n",
    "            print('file:', file)\n",
    "\n",
    "            # bool to keep track of plots, one plot per classification.\n",
    "            need_to_plot = True\n",
    "\n",
    "            with open(os.path.join(root, file)) as tsvfile:\n",
    "                tsvfile = csv.reader(tsvfile, delimiter='\\t')\n",
    "\n",
    "                for ind, column in tqdm(enumerate(tsvfile)):\n",
    "                    ts_name[index] += str(file) + '_' + str(ind) # Save filename + index\n",
    "\n",
    "                    ts = [float(i) for i in column] # convert to list of floats\n",
    "                    ts = np.array(ts[1:]) # remove class information\n",
    "\n",
    "                    # remove NaN from time series\n",
    "                    ts = ts[~np.isnan(ts)]\n",
    "\n",
    "                    # Z Normalise the times series\n",
    "                    norm_ts = (ts -  np.mean(ts))\n",
    "                    std = np.std(norm_ts, ddof=1)\n",
    "                    std = std if std > np.finfo(float).eps else 1\n",
    "                    norm_ts /= std\n",
    "                    \n",
    "                    try:\n",
    "                        # Check length of time timeseries\n",
    "                        if len(norm_ts) < 100:\n",
    "                            raise(TimeSeriesTooShort)\n",
    "\n",
    "                        # Reset tolerance\n",
    "                        tol_index = 0\n",
    "\n",
    "                        # ABBA (Adjust tolerance so at least 20% compression is used)\n",
    "                        for tol_index in range(len(tol)):\n",
    "                            abba = fABBA(tol=tol[tol_index],verbose=0)\n",
    "                            pieces = abba.compress(norm_ts)\n",
    "                            ABBA_len = len(pieces)\n",
    "                            if ABBA_len <= len(norm_ts)/5:\n",
    "                                tol_used[index] = tol[tol_index]\n",
    "                                break\n",
    "                            elif tol_index == len(tol)-1:\n",
    "                                raise(CompressionTolHigh)\n",
    "                                \n",
    "                        pieces = np.array(pieces)\n",
    "                        try:\n",
    "                            fabba = fABBA(verbose=0, alpha=0.1, scl=1, sorting='2-norm') \n",
    "                            st = time.time()\n",
    "                            symbols_fabba, parameters_fabba = fabba.digitize(pieces[:,:2].astype(np.float32))\n",
    "                            ed = time.time()\n",
    "                            time_fabba = ed - st\n",
    "                        except:\n",
    "                            raise(fABBAError)\n",
    "                            \n",
    "                        symbolnum = len(set(symbols_fabba))\n",
    "                        try:\n",
    "                            qabba1 = fastQABBA(init='agg', sorting='2-norm', alpha=0.1, verbose=0,\n",
    "                                               bits_for_len=BIT_LEN, bits_for_inc=4)\n",
    "                            st = time.time()\n",
    "                            symbols_qabba1 = qabba1._digitize(pieces[:,:2].astype(np.float32))\n",
    "                            ed = time.time()\n",
    "                            time_qabba1 = ed - st\n",
    "                        except:\n",
    "                            raise(QABBA1Error)\n",
    "                         \n",
    "                        try:\n",
    "                            qabba2 = fastQABBA(init='agg', sorting='2-norm', alpha=0.1, verbose=0, \n",
    "                                               bits_for_len=BIT_LEN, bits_for_inc=8)\n",
    "                            st = time.time()\n",
    "                            symbols_qabba2 = qabba2._digitize(pieces[:,:2].astype(np.float32))\n",
    "                            ed = time.time()\n",
    "                            time_qabba2 = ed - st\n",
    "                        except:\n",
    "                            raise(QABBA2Error)\n",
    "                        \n",
    "                        try:\n",
    "                            qabba3 = fastQABBA(init='agg', sorting='2-norm', alpha=0.1, verbose=0,\n",
    "                                               bits_for_len=BIT_LEN, bits_for_inc=12)\n",
    "                            st = time.time()\n",
    "                            symbols_qabba3 = qabba3._digitize(pieces[:,:2].astype(np.float32))\n",
    "                            ed = time.time()\n",
    "                            time_qabba3 = ed - st\n",
    "                        except:\n",
    "                            raise(QABBA3Error)\n",
    "                            \n",
    "                        \n",
    "                        try:\n",
    "                            qabba4 = fastQABBA(init='agg', sorting='2-norm', alpha=0.1, verbose=0, \n",
    "                                               bits_for_len=BIT_LEN, bits_for_inc=16)\n",
    "                            st = time.time()\n",
    "                            symbols_qabba4 = qabba4._digitize(pieces[:,:2].astype(np.float32))\n",
    "                            ed = time.time()\n",
    "                            time_qabba4 = ed - st\n",
    "                        except:\n",
    "                            raise(QABBA4Error)\n",
    "\n",
    "                        try:\n",
    "                            qabba5 = fastQABBA(init='agg', sorting='2-norm', alpha=0.1, verbose=0, \n",
    "                                               bits_for_len=BIT_LEN, bits_for_inc=20)\n",
    "                            \n",
    "                            st = time.time()\n",
    "                            symbols_qabba5 = qabba5._digitize(pieces[:,:2].astype(np.float32))\n",
    "                            ed = time.time()\n",
    "                            time_qabba5 = ed - st\n",
    "                        except:\n",
    "                            raise(QABBA5Error)\n",
    "                            \n",
    "                        try:\n",
    "                            qabba6 = fastQABBA(init='agg', sorting='2-norm', alpha=0.1, verbose=0, \n",
    "                                               bits_for_len=BIT_LEN, bits_for_inc=24)\n",
    "                            \n",
    "                            st = time.time()\n",
    "                            symbols_qabba6 = qabba6._digitize(pieces[:,:2].astype(np.float32))\n",
    "                            ed = time.time()\n",
    "                            time_qabba6 = ed - st\n",
    "                        except:\n",
    "                            raise(QABBA6Error)\n",
    "                            \n",
    "                            \n",
    "                        try:\n",
    "                            qabba7 = fastQABBA(init='agg', sorting='2-norm', alpha=0.1, verbose=0, \n",
    "                                               bits_for_len=BIT_LEN, bits_for_inc=28)\n",
    "                            \n",
    "                            st = time.time()\n",
    "                            symbols_qabba7 = qabba7._digitize(pieces[:,:2].astype(np.float32))\n",
    "                            ed = time.time()\n",
    "                            time_qabba7 = ed - st\n",
    "                        except:\n",
    "                            raise(QABBA7Error)\n",
    "                            \n",
    "                        try:\n",
    "                            qabba8 = fastQABBA(init='agg', sorting='2-norm', alpha=0.1, verbose=0, \n",
    "                                               bits_for_len=BIT_LEN, bits_for_inc=32)\n",
    "                            \n",
    "                            st = time.time()\n",
    "                            symbols_qabba8 = qabba8._digitize(pieces[:,:2].astype(np.float32))\n",
    "                            ed = time.time()\n",
    "                            time_qabba8 = ed - st\n",
    "                        except:\n",
    "                            raise(QABBA8Error)\n",
    "                            \n",
    "                        csymbolicNum.append(symbolnum)\n",
    "                        cpiecesNum.append(len(pieces))\n",
    "                        ctsname.append(str(file) + '_' + str(ind))\n",
    "                        ctolist.append(tol[tol_index])\n",
    "                        \n",
    "                        ts_fABBA = inverse_compress(inverse_digitize(symbols_fabba, parameters_fabba), norm_ts[0])\n",
    "                        ts_QABBA1 = qabba1.inverse_transform(symbols_qabba1, norm_ts[0])\n",
    "                        ts_QABBA2 = qabba2.inverse_transform(symbols_qabba2, norm_ts[0])\n",
    "                        ts_QABBA3 = qabba3.inverse_transform(symbols_qabba3, norm_ts[0])\n",
    "                        ts_QABBA4 = qabba4.inverse_transform(symbols_qabba4, norm_ts[0])\n",
    "                        ts_QABBA5 = qabba5.inverse_transform(symbols_qabba5, norm_ts[0])\n",
    "                        ts_QABBA6 = qabba6.inverse_transform(symbols_qabba6, norm_ts[0])\n",
    "                        ts_QABBA7 = qabba7.inverse_transform(symbols_qabba7, norm_ts[0])\n",
    "                        ts_QABBA8 = qabba8.inverse_transform(symbols_qabba8, norm_ts[0])\n",
    "                        \n",
    "                        # Compute distances\n",
    "                        minlen1 = min(len(ts_QABBA1), len(norm_ts))\n",
    "                        minlen2 = min(len(ts_QABBA2), len(norm_ts))\n",
    "                        minlen3 = min(len(ts_QABBA3), len(norm_ts))\n",
    "                        minlen4 = min(len(ts_QABBA4), len(norm_ts))\n",
    "                        minlen5 = min(len(ts_QABBA5), len(norm_ts))\n",
    "                        minlen6 = min(len(ts_QABBA6), len(norm_ts))\n",
    "                        minlen7 = min(len(ts_QABBA7), len(norm_ts))\n",
    "                        minlen8 = min(len(ts_QABBA8), len(norm_ts))\n",
    "                        minlen9 = min(len(ts_fABBA), len(norm_ts))\n",
    "                        \n",
    "                        D_QABBA1_2[index] = mse(norm_ts[:minlen1],ts_QABBA1[:minlen1])\n",
    "                        D_QABBA2_2[index] = mse(norm_ts[:minlen2],ts_QABBA2[:minlen2])\n",
    "                        D_QABBA3_2[index] = mse(norm_ts[:minlen3],ts_QABBA3[:minlen3])\n",
    "                        D_QABBA4_2[index] = mse(norm_ts[:minlen4],ts_QABBA4[:minlen4])\n",
    "                        D_QABBA5_2[index] = mse(norm_ts[:minlen5],ts_QABBA5[:minlen5])\n",
    "                        D_QABBA6_2[index] = mse(norm_ts[:minlen6],ts_QABBA6[:minlen6])\n",
    "                        D_QABBA7_2[index] = mse(norm_ts[:minlen7],ts_QABBA7[:minlen7])\n",
    "                        D_QABBA8_2[index] = mse(norm_ts[:minlen8],ts_QABBA8[:minlen8])\n",
    "                        D_fABBA_2[index]  = mse(norm_ts[:minlen9],ts_fABBA[:minlen9])\n",
    "                        \n",
    "                        D_QABBA1_DTW[index]    = dtw(norm_ts[:minlen1], ts_QABBA1[:minlen1])\n",
    "                        D_QABBA2_DTW[index]    = dtw(norm_ts[:minlen2], ts_QABBA2[:minlen2])\n",
    "                        D_QABBA3_DTW[index]    = dtw(norm_ts[:minlen3], ts_QABBA3[:minlen3])\n",
    "                        D_QABBA4_DTW[index]    = dtw(norm_ts[:minlen4], ts_QABBA4[:minlen4])\n",
    "                        D_QABBA5_DTW[index]    = dtw(norm_ts[:minlen5], ts_QABBA5[:minlen5])\n",
    "                        D_QABBA6_DTW[index]    = dtw(norm_ts[:minlen6], ts_QABBA6[:minlen6])\n",
    "                        D_QABBA7_DTW[index]    = dtw(norm_ts[:minlen7], ts_QABBA7[:minlen7])\n",
    "                        D_QABBA8_DTW[index]    = dtw(norm_ts[:minlen8], ts_QABBA8[:minlen8])\n",
    "                        D_fABBA_DTW[index]     = dtw(norm_ts[:minlen9], ts_fABBA[:minlen9])\n",
    "                        \n",
    "                        D_QABBA1_2_diff[index]  = mse(np.diff(norm_ts[:minlen1]),np.diff(ts_QABBA1[:minlen1]))\n",
    "                        D_QABBA2_2_diff[index]  = mse(np.diff(norm_ts[:minlen2]),np.diff(ts_QABBA2[:minlen2]))\n",
    "                        D_QABBA3_2_diff[index]  = mse(np.diff(norm_ts[:minlen3]),np.diff(ts_QABBA3[:minlen3]))\n",
    "                        D_QABBA4_2_diff[index]  = mse(np.diff(norm_ts[:minlen4]),np.diff(ts_QABBA4[:minlen4]))\n",
    "                        D_QABBA5_2_diff[index]  = mse(np.diff(norm_ts[:minlen5]),np.diff(ts_QABBA5[:minlen5]))\n",
    "                        D_QABBA6_2_diff[index]  = mse(np.diff(norm_ts[:minlen6]),np.diff(ts_QABBA6[:minlen6]))\n",
    "                        D_QABBA7_2_diff[index]  = mse(np.diff(norm_ts[:minlen7]),np.diff(ts_QABBA7[:minlen7]))\n",
    "                        D_QABBA8_2_diff[index]  = mse(np.diff(norm_ts[:minlen8]),np.diff(ts_QABBA8[:minlen8]))\n",
    "                        D_fABBA_2_diff[index]   = mse(np.diff(norm_ts[:minlen9]),np.diff(ts_fABBA[:minlen9]))\n",
    "                        \n",
    "                        D_QABBA1_DTW_diff[index]   =  dtw(np.diff(norm_ts[:minlen1]), np.diff(ts_QABBA1[:minlen1]))\n",
    "                        D_QABBA2_DTW_diff[index]   =  dtw(np.diff(norm_ts[:minlen2]), np.diff(ts_QABBA2[:minlen2]))\n",
    "                        D_QABBA3_DTW_diff[index]   =  dtw(np.diff(norm_ts[:minlen3]), np.diff(ts_QABBA3[:minlen3]))\n",
    "                        D_QABBA4_DTW_diff[index]   =  dtw(np.diff(norm_ts[:minlen4]), np.diff(ts_QABBA4[:minlen4]))\n",
    "                        D_QABBA5_DTW_diff[index]   =  dtw(np.diff(norm_ts[:minlen5]), np.diff(ts_QABBA5[:minlen5]))\n",
    "                        D_QABBA6_DTW_diff[index]   =  dtw(np.diff(norm_ts[:minlen6]), np.diff(ts_QABBA6[:minlen6]))\n",
    "                        D_QABBA7_DTW_diff[index]   =  dtw(np.diff(norm_ts[:minlen7]), np.diff(ts_QABBA7[:minlen7]))\n",
    "                        D_QABBA8_DTW_diff[index]   =  dtw(np.diff(norm_ts[:minlen8]), np.diff(ts_QABBA8[:minlen8]))                                         \n",
    "                        D_fABBA_DTW_diff[index]    =  dtw(np.diff(norm_ts[:minlen9]), np.diff(ts_fABBA[:minlen9]))\n",
    "                        \n",
    "                        compression[index] = ABBA_len/len(norm_ts) # Store compression amount\n",
    "                        count[index] = len(norm_ts)\n",
    "                        index += 1\n",
    "                        \n",
    "                    except(TypeError):\n",
    "                        error[index] = 1\n",
    "                        compression[index] = np.NaN\n",
    "                        tol_used[index] = np.NaN\n",
    "                        index += 1\n",
    "                        pass\n",
    "                        \n",
    "                    except(TimeSeriesTooShort):\n",
    "                        error[index] = 2\n",
    "                        compression[index] = np.NaN\n",
    "                        tol_used[index] = np.NaN\n",
    "                        index += 1\n",
    "                        pass\n",
    "\n",
    "                    except(NotEnoughPieces):\n",
    "                        error[index] = 3\n",
    "                        compression[index] = np.NaN\n",
    "                        tol_used[index] = np.NaN\n",
    "                        index += 1\n",
    "                        pass\n",
    "\n",
    "                    except(CompressionTolHigh):\n",
    "                        error[index] = 4\n",
    "                        compression[index] = np.NaN\n",
    "                        tol_used[index] = np.NaN\n",
    "                        index += 1\n",
    "                        pass\n",
    "\n",
    "                    except(UnknownError):\n",
    "                        error[index] = 5\n",
    "                        compression[index] = np.NaN\n",
    "                        tol_used[index] = np.NaN\n",
    "                        index += 1\n",
    "                        pass\n",
    "                    \n",
    "                    except(ValueError):\n",
    "                        error[index] = 6\n",
    "                        compression[index] = np.NaN\n",
    "                        tol_used[index] = np.NaN\n",
    "                        index += 1\n",
    "                        pass\n",
    "\n",
    "                    \n",
    "                    except(fABBAError):\n",
    "                        error[index] = 8\n",
    "                        compression[index] = np.NaN\n",
    "                        tol_used[index] = np.NaN\n",
    "                        index += 1\n",
    "                        pass\n",
    "                    \n",
    "                    except(QABBA1Error):\n",
    "                        error[index] = 9\n",
    "                        compression[index] = np.NaN\n",
    "                        tol_used[index] = np.NaN\n",
    "                        index += 1\n",
    "                        pass\n",
    "                    \n",
    "                    except(QABBA2Error):\n",
    "                        error[index] = 10\n",
    "                        compression[index] = np.NaN\n",
    "                        tol_used[index] = np.NaN\n",
    "                        index += 1\n",
    "                        pass\n",
    "                    \n",
    "                    except(QABBA3Error):\n",
    "                        error[index] = 11\n",
    "                        compression[index] = np.NaN\n",
    "                        tol_used[index] = np.NaN\n",
    "                        index += 1\n",
    "                        pass\n",
    "                    \n",
    "                    except(QABBA4Error):\n",
    "                        error[index] = 12\n",
    "                        compression[index] = np.NaN\n",
    "                        tol_used[index] = np.NaN\n",
    "                        index += 1\n",
    "                        pass\n",
    "                    \n",
    "                    \n",
    "                    except(QABBA5Error):\n",
    "                        error[index] = 13\n",
    "                        compression[index] = np.NaN\n",
    "                        tol_used[index] = np.NaN\n",
    "                        index += 1\n",
    "                        pass\n",
    "                    \n",
    "                    except(QABBA6Error):\n",
    "                        error[index] = 14\n",
    "                        compression[index] = np.NaN\n",
    "                        tol_used[index] = np.NaN\n",
    "                        index += 1\n",
    "                        pass\n",
    "                    \n",
    "                    except(QABBA7Error):\n",
    "                        error[index] = 15\n",
    "                        compression[index] = np.NaN\n",
    "                        tol_used[index] = np.NaN\n",
    "                        index += 1\n",
    "                        pass\n",
    "                    \n",
    "                    except(QABBA8Error):\n",
    "                        error[index] = 16\n",
    "                        compression[index] = np.NaN\n",
    "                        tol_used[index] = np.NaN\n",
    "                        index += 1\n",
    "                        pass\n",
    "                    \n",
    "D = {}\n",
    "D['ts_name'] = ts_name\n",
    "D['compression'] = compression\n",
    "D['tol_used'] = tol_used\n",
    "D['error'] = error\n",
    "D['tol'] = tol\n",
    "\n",
    "D['QABBA1_MSE'] = D_QABBA1_2\n",
    "D['QABBA2_MSE'] = D_QABBA2_2\n",
    "D['QABBA3_MSE'] = D_QABBA3_2\n",
    "D['QABBA4_MSE'] = D_QABBA4_2\n",
    "D['QABBA5_MSE'] = D_QABBA5_2\n",
    "D['QABBA6_MSE'] = D_QABBA6_2\n",
    "D['QABBA7_MSE'] = D_QABBA7_2\n",
    "D['QABBA8_MSE'] = D_QABBA8_2\n",
    "D['fABBA_MSE'] = D_fABBA_2\n",
    "\n",
    "D['QABBA1_DTW'] = D_QABBA1_DTW\n",
    "D['QABBA2_DTW'] = D_QABBA2_DTW\n",
    "D['QABBA3_DTW'] = D_QABBA3_DTW\n",
    "D['QABBA4_DTW'] = D_QABBA4_DTW\n",
    "D['QABBA5_DTW'] = D_QABBA5_DTW\n",
    "D['QABBA6_DTW'] = D_QABBA6_DTW\n",
    "D['QABBA7_DTW'] = D_QABBA7_DTW\n",
    "D['QABBA8_DTW'] = D_QABBA8_DTW\n",
    "D['fABBA_DTW'] = D_fABBA_DTW\n",
    "\n",
    "D['QABBA1_MSE_diff'] = D_QABBA1_2_diff\n",
    "D['QABBA2_MSE_diff'] = D_QABBA2_2_diff\n",
    "D['QABBA3_MSE_diff'] = D_QABBA3_2_diff\n",
    "D['QABBA4_MSE_diff'] = D_QABBA4_2_diff\n",
    "D['QABBA5_MSE_diff'] = D_QABBA5_2_diff\n",
    "D['QABBA6_MSE_diff'] = D_QABBA6_2_diff\n",
    "D['QABBA7_MSE_diff'] = D_QABBA7_2_diff\n",
    "D['QABBA8_MSE_diff'] = D_QABBA8_2_diff\n",
    "D['fABBA_MSE_diff'] = D_fABBA_2_diff\n",
    "\n",
    "D['QABBA1_DTW_diff'] = D_QABBA1_DTW_diff\n",
    "D['QABBA2_DTW_diff'] = D_QABBA2_DTW_diff\n",
    "D['QABBA3_DTW_diff'] = D_QABBA3_DTW_diff\n",
    "D['QABBA4_DTW_diff'] = D_QABBA4_DTW_diff\n",
    "D['QABBA5_DTW_diff'] = D_QABBA5_DTW_diff\n",
    "D['QABBA6_DTW_diff'] = D_QABBA6_DTW_diff\n",
    "D['QABBA7_DTW_diff'] = D_QABBA7_DTW_diff\n",
    "D['QABBA8_DTW_diff'] = D_QABBA8_DTW_diff\n",
    "D['fABBA_DTW_diff'] = D_fABBA_DTW_diff\n",
    "\n",
    "with open('results/bits/bitsINC0.1'+'.p', 'wb') as handle:\n",
    "    pickle.dump(D, handle, protocol=pickle.HIGHEST_PROTOCOL)\n",
    "    \n",
    "Datastore = pd.DataFrame(columns=[\"ts name\", \"number of pieces\", \"number of symbols\",\"tol\"])\n",
    "Datastore[\"ts name\"] = ctsname\n",
    "Datastore[\"number of pieces\"] = cpiecesNum \n",
    "Datastore[\"number of symbols\"] = csymbolicNum  \n",
    "Datastore[\"tol\"] = ctolist \n",
    "Datastore.to_csv(\"results/bits/QABBAINC0.1sl.csv\",index=False)"
   ]
  }
 ],
 "metadata": {
  "kernelspec": {
   "display_name": "Python 3 (ipykernel)",
   "language": "python",
   "name": "python3"
  },
  "language_info": {
   "codemirror_mode": {
    "name": "ipython",
    "version": 3
   },
   "file_extension": ".py",
   "mimetype": "text/x-python",
   "name": "python",
   "nbconvert_exporter": "python",
   "pygments_lexer": "ipython3",
   "version": "3.11.2"
  }
 },
 "nbformat": 4,
 "nbformat_minor": 4
}
