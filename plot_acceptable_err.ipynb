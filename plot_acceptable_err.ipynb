{
 "cells": [
  {
   "cell_type": "code",
   "execution_count": 6,
   "id": "ecf58925-ca38-4883-bc5b-9f4e088526b8",
   "metadata": {},
   "outputs": [],
   "source": [
    "import os\n",
    "from scipy.io import arff\n",
    "from fABBA import JABBA\n",
    "from software.qabba import QABBA\n",
    "\n",
    "import matplotlib.pyplot as plt\n",
    "import numpy as np\n",
    "\n",
    "_dir = 'UEA2018' # your data file location\n",
    "tols = [0.05, 0.005]\n",
    "alphas = [0.005]\n",
    "\n",
    "def preprocess(data):\n",
    "    time_series = list()\n",
    "    for ii in data[0]:\n",
    "        database = list()\n",
    "        for i in ii[0]:\n",
    "            database.append(list(i))\n",
    "        time_series.append(database)\n",
    "    return np.nan_to_num(np.array(time_series))\n",
    "\n",
    "files = ['AtrialFibrillation', 'BasicMotions', 'CharacterTrajectories', \n",
    "         'Epilepsy', 'JapaneseVowels', 'NATOPS', 'UWaveGestureLibrary']\n",
    "\n",
    "\n"
   ]
  },
  {
   "cell_type": "code",
   "execution_count": 12,
   "id": "4e54068d-1bae-490d-957d-38652440fe01",
   "metadata": {},
   "outputs": [
    {
     "name": "stdout",
     "output_type": "stream",
     "text": [
      "Generate 249 symbols\n"
     ]
    },
    {
     "ename": "AttributeError",
     "evalue": "module 'os' has no attribute 'sched_getaffinity'",
     "output_type": "error",
     "traceback": [
      "\u001b[0;31m---------------------------------------------------------------------------\u001b[0m",
      "\u001b[0;31mAttributeError\u001b[0m                            Traceback (most recent call last)",
      "Cell \u001b[0;32mIn[12], line 12\u001b[0m\n\u001b[1;32m      9\u001b[0m reconstruction_JBBA \u001b[38;5;241m=\u001b[39m jabba\u001b[38;5;241m.\u001b[39minverse_transform(symbols_series)\n\u001b[1;32m     11\u001b[0m qabba \u001b[38;5;241m=\u001b[39m QABBA(tol\u001b[38;5;241m=\u001b[39m\u001b[38;5;241m0.05\u001b[39m, init\u001b[38;5;241m=\u001b[39m\u001b[38;5;124m\"\u001b[39m\u001b[38;5;124magg\u001b[39m\u001b[38;5;124m\"\u001b[39m, alpha\u001b[38;5;241m=\u001b[39m\u001b[38;5;241m0.005\u001b[39m, bits_for_len\u001b[38;5;241m=\u001b[39m\u001b[38;5;241m8\u001b[39m, bits_for_inc\u001b[38;5;241m=\u001b[39m\u001b[38;5;241m12\u001b[39m, verbose\u001b[38;5;241m=\u001b[39m\u001b[38;5;241m0\u001b[39m)\n\u001b[0;32m---> 12\u001b[0m symbols_series \u001b[38;5;241m=\u001b[39m qabba\u001b[38;5;241m.\u001b[39mfit_transform(mts)\n\u001b[1;32m     13\u001b[0m reconstruction_QBBA \u001b[38;5;241m=\u001b[39m qabba\u001b[38;5;241m.\u001b[39minverse_transform(symbols_series)\n\u001b[1;32m     15\u001b[0m fig, ax \u001b[38;5;241m=\u001b[39m plt\u001b[38;5;241m.\u001b[39msubplots(nrows\u001b[38;5;241m=\u001b[39m\u001b[38;5;241m2\u001b[39m, ncols\u001b[38;5;241m=\u001b[39m\u001b[38;5;241m3\u001b[39m, figsize\u001b[38;5;241m=\u001b[39m(\u001b[38;5;241m18\u001b[39m, \u001b[38;5;241m5\u001b[39m))\n",
      "File \u001b[0;32m~/qabba/software/qabba/qabba.py:277\u001b[0m, in \u001b[0;36mQABBA.fit_transform\u001b[0;34m(self, series, n_jobs, alphabet_set, return_start_set)\u001b[0m\n\u001b[1;32m    257\u001b[0m \u001b[38;5;28;01mdef\u001b[39;00m \u001b[38;5;21mfit_transform\u001b[39m(\u001b[38;5;28mself\u001b[39m, series, n_jobs\u001b[38;5;241m=\u001b[39m\u001b[38;5;241m-\u001b[39m\u001b[38;5;241m1\u001b[39m, alphabet_set\u001b[38;5;241m=\u001b[39m\u001b[38;5;241m0\u001b[39m, return_start_set\u001b[38;5;241m=\u001b[39m\u001b[38;5;28;01mFalse\u001b[39;00m):\n\u001b[1;32m    258\u001b[0m \u001b[38;5;250m    \u001b[39m\u001b[38;5;124;03m\"\"\"\u001b[39;00m\n\u001b[1;32m    259\u001b[0m \u001b[38;5;124;03m    Fitted the numerical series and transform them into symbolic representation.\u001b[39;00m\n\u001b[1;32m    260\u001b[0m \u001b[38;5;124;03m    \u001b[39;00m\n\u001b[0;32m   (...)\u001b[0m\n\u001b[1;32m    274\u001b[0m \u001b[38;5;124;03m        The list of alphabet letter. Here provide two different kinds of alphabet letters, namely 0 and 1.\u001b[39;00m\n\u001b[1;32m    275\u001b[0m \u001b[38;5;124;03m    \"\"\"\u001b[39;00m\n\u001b[0;32m--> 277\u001b[0m     \u001b[38;5;28mself\u001b[39m\u001b[38;5;241m.\u001b[39mfit(series, n_jobs\u001b[38;5;241m=\u001b[39mn_jobs, alphabet_set\u001b[38;5;241m=\u001b[39malphabet_set)\n\u001b[1;32m    278\u001b[0m     \u001b[38;5;28;01mif\u001b[39;00m return_start_set:\n\u001b[1;32m    279\u001b[0m         \u001b[38;5;28;01mreturn\u001b[39;00m \u001b[38;5;28mself\u001b[39m\u001b[38;5;241m.\u001b[39mstring_, \u001b[38;5;28mself\u001b[39m\u001b[38;5;241m.\u001b[39mstart_set\n",
      "File \u001b[0;32m~/qabba/software/qabba/qabba.py:304\u001b[0m, in \u001b[0;36mQABBA.fit\u001b[0;34m(self, series, n_jobs, alphabet_set)\u001b[0m\n\u001b[1;32m    284\u001b[0m \u001b[38;5;28;01mdef\u001b[39;00m \u001b[38;5;21mfit\u001b[39m(\u001b[38;5;28mself\u001b[39m, series, n_jobs\u001b[38;5;241m=\u001b[39m\u001b[38;5;241m-\u001b[39m\u001b[38;5;241m1\u001b[39m, alphabet_set\u001b[38;5;241m=\u001b[39m\u001b[38;5;241m0\u001b[39m):\n\u001b[1;32m    285\u001b[0m \u001b[38;5;250m    \u001b[39m\u001b[38;5;124;03m\"\"\"\u001b[39;00m\n\u001b[1;32m    286\u001b[0m \u001b[38;5;124;03m    Fitted the numerical series.\u001b[39;00m\n\u001b[1;32m    287\u001b[0m \u001b[38;5;124;03m    \u001b[39;00m\n\u001b[0;32m   (...)\u001b[0m\n\u001b[1;32m    301\u001b[0m \u001b[38;5;124;03m        The list of alphabet letter. Here provide two different kinds of alphabet letters, namely 0 and 1.\u001b[39;00m\n\u001b[1;32m    302\u001b[0m \u001b[38;5;124;03m    \"\"\"\u001b[39;00m\n\u001b[0;32m--> 304\u001b[0m     \u001b[38;5;28mself\u001b[39m\u001b[38;5;241m.\u001b[39mpieces \u001b[38;5;241m=\u001b[39m \u001b[38;5;28mself\u001b[39m\u001b[38;5;241m.\u001b[39mparallel_compress(series, n_jobs\u001b[38;5;241m=\u001b[39mn_jobs)\n\u001b[1;32m    305\u001b[0m     \u001b[38;5;28mself\u001b[39m\u001b[38;5;241m.\u001b[39mstring_ \u001b[38;5;241m=\u001b[39m \u001b[38;5;28mself\u001b[39m\u001b[38;5;241m.\u001b[39mdigitize(series, \u001b[38;5;28mself\u001b[39m\u001b[38;5;241m.\u001b[39mpieces, alphabet_set, n_jobs)    \n\u001b[1;32m    306\u001b[0m     \u001b[38;5;28;01mreturn\u001b[39;00m \u001b[38;5;28mself\u001b[39m\n",
      "File \u001b[0;32m~/qabba/software/qabba/qabba.py:329\u001b[0m, in \u001b[0;36mQABBA.parallel_compress\u001b[0;34m(self, series, n_jobs)\u001b[0m\n\u001b[1;32m    311\u001b[0m \u001b[38;5;250m\u001b[39m\u001b[38;5;124;03m\"\"\"\u001b[39;00m\n\u001b[1;32m    312\u001b[0m \u001b[38;5;124;03mCompress the numerical series in a parallel manner.\u001b[39;00m\n\u001b[1;32m    313\u001b[0m \u001b[38;5;124;03m\u001b[39;00m\n\u001b[0;32m   (...)\u001b[0m\n\u001b[1;32m    324\u001b[0m \u001b[38;5;124;03m    centers.\u001b[39;00m\n\u001b[1;32m    325\u001b[0m \u001b[38;5;124;03m\"\"\"\u001b[39;00m\n\u001b[1;32m    328\u001b[0m len_ts \u001b[38;5;241m=\u001b[39m \u001b[38;5;28mlen\u001b[39m(series)\n\u001b[0;32m--> 329\u001b[0m n_jobs \u001b[38;5;241m=\u001b[39m \u001b[38;5;28mself\u001b[39m\u001b[38;5;241m.\u001b[39mn_jobs_init(n_jobs, _max\u001b[38;5;241m=\u001b[39mlen_ts)     \n\u001b[1;32m    331\u001b[0m \u001b[38;5;28;01mif\u001b[39;00m \u001b[38;5;28misinstance\u001b[39m(series, np\u001b[38;5;241m.\u001b[39mndarray):\n\u001b[1;32m    332\u001b[0m     \u001b[38;5;28;01mif\u001b[39;00m \u001b[38;5;28mlen\u001b[39m(series\u001b[38;5;241m.\u001b[39mshape) \u001b[38;5;241m==\u001b[39m \u001b[38;5;241m1\u001b[39m:\n",
      "File \u001b[0;32m~/qabba/software/qabba/qabba.py:756\u001b[0m, in \u001b[0;36mQABBA.n_jobs_init\u001b[0;34m(self, n_jobs, _max)\u001b[0m\n\u001b[1;32m    752\u001b[0m     \u001b[38;5;28;01mraise\u001b[39;00m \u001b[38;5;167;01mValueError\u001b[39;00m(\n\u001b[1;32m    753\u001b[0m         \u001b[38;5;124m\"\u001b[39m\u001b[38;5;124mPlease feed an correct value for n_jobs.\u001b[39m\u001b[38;5;124m\"\u001b[39m)\n\u001b[1;32m    755\u001b[0m \u001b[38;5;28;01mif\u001b[39;00m n_jobs \u001b[38;5;241m==\u001b[39m \u001b[38;5;28;01mNone\u001b[39;00m \u001b[38;5;129;01mor\u001b[39;00m n_jobs \u001b[38;5;241m==\u001b[39m \u001b[38;5;241m-\u001b[39m\u001b[38;5;241m1\u001b[39m:\n\u001b[0;32m--> 756\u001b[0m     n_jobs \u001b[38;5;241m=\u001b[39m \u001b[38;5;28mlen\u001b[39m(os\u001b[38;5;241m.\u001b[39msched_getaffinity(\u001b[38;5;241m0\u001b[39m)) \n\u001b[1;32m    757\u001b[0m     \u001b[38;5;66;03m# int(mp.cpu_count()) , return the available usable CPUs\u001b[39;00m\n\u001b[1;32m    758\u001b[0m \u001b[38;5;28;01melse\u001b[39;00m:\n\u001b[1;32m    759\u001b[0m     n_jobs \u001b[38;5;241m=\u001b[39m n_jobs\n",
      "\u001b[0;31mAttributeError\u001b[0m: module 'os' has no attribute 'sched_getaffinity'"
     ]
    }
   ],
   "source": [
    "num= 0\n",
    "data = arff.loadarff(os.path.join(_dir, os.path.join(files[1], filename+'_TRAIN.arff')))\n",
    "multivariate_ts = preprocess(data)\n",
    "\n",
    "mts =((multivariate_ts[num].T - multivariate_ts[num].T.mean(axis=0)) /multivariate_ts[num].T.std(axis=0)).T\n",
    "\n",
    "jabba = JABBA(tol=0.05, init=\"agg\", alpha=0.005, verbose=1)\n",
    "symbols_series = jabba.fit_transform(mts)\n",
    "reconstruction_JBBA = jabba.inverse_transform(symbols_series)\n",
    "\n",
    "qabba = QABBA(tol=0.05, init=\"agg\", alpha=0.005, bits_for_len=8, bits_for_inc=12, verbose=0)\n",
    "symbols_series = qabba.fit_transform(mts)\n",
    "reconstruction_QBBA = qabba.inverse_transform(symbols_series)\n",
    "\n",
    "fig, ax = plt.subplots(nrows=2, ncols=3, figsize=(18, 5))\n",
    "\n",
    "for i in range(2):\n",
    "    for j in range(3):\n",
    "        ax[i,j].plot(mts[i*3 + j], c='yellowgreen', linewidth=5,label='time series')\n",
    "        ax[i,j].plot(reconstruction_JABBA[i*3 + j], c='blue', linewidth=5, alpha=0.3,label='JABBA')\n",
    "        ax[i,j].plot(reconstruction_QABBA[i*3 + j], c='purple', linewidth=5, alpha=0.3,label='QABBA')\n",
    "\n",
    "        ax[i,j].set_title('dimension '+str(i*3 + j))\n",
    "        ax[i,j].set_xticks([]);ax[i,j].set_yticks([])\n",
    "\n",
    "plt.legend(loc='lower right', bbox_to_anchor=[-0.1, -0.3], ncols=3, framealpha=0.45)\n",
    "plt.show()"
   ]
  },
  {
   "cell_type": "code",
   "execution_count": null,
   "id": "4afe3d3b-0d93-4286-a685-4e99c5ba6359",
   "metadata": {},
   "outputs": [],
   "source": [
    "AtrialFibrillation 30 2 640\n",
    "BasicMotions 80 6 100\n",
    "CharacterTrajectories 2,858 3 182\n",
    "Epilepsy 275 3 206\n",
    "JapaneseVowels 640 12 29\n",
    "NATOPS 360 24 51\n",
    "UWaveGestureLibrary 440 3 315"
   ]
  }
 ],
 "metadata": {
  "kernelspec": {
   "display_name": "Python 3 (ipykernel)",
   "language": "python",
   "name": "python3"
  },
  "language_info": {
   "codemirror_mode": {
    "name": "ipython",
    "version": 3
   },
   "file_extension": ".py",
   "mimetype": "text/x-python",
   "name": "python",
   "nbconvert_exporter": "python",
   "pygments_lexer": "ipython3",
   "version": "3.12.4"
  }
 },
 "nbformat": 4,
 "nbformat_minor": 5
}
