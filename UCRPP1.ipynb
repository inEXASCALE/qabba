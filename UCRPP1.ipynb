{
 "cells": [
  {
   "cell_type": "code",
   "execution_count": 1,
   "metadata": {
    "tags": []
   },
   "outputs": [],
   "source": [
    "import os\n",
    "import csv\n",
    "import time\n",
    "import pickle\n",
    "import numpy as np\n",
    "import pandas as pd\n",
    "from source import SAX\n",
    "from source import oneD_SAX\n",
    "from source.ABBA import ABBA\n",
    "from software.qabba import fastQABBA\n",
    "from fABBA import fABBA\n",
    "from tqdm import tqdm\n",
    "import matplotlib.pyplot as plt\n",
    "from source.figdefault import figdefault\n",
    "from tslearn.metrics import dtw as dtw\n",
    "from fABBA import inverse_compress\n",
    "from fABBA import inverse_digitize\n",
    "import warnings\n",
    "warnings.filterwarnings(\"ignore\")"
   ]
  },
  {
   "cell_type": "code",
   "execution_count": 2,
   "metadata": {},
   "outputs": [
    {
     "name": "stdout",
     "output_type": "stream",
     "text": [
      "Number of time series: 201761\n"
     ]
    }
   ],
   "source": [
    "class Error(Exception):\n",
    "    \"\"\"Base class for other exceptions\"\"\"\n",
    "    pass\n",
    "\n",
    "class TimeSeriesTooShort(Error):\n",
    "    \"\"\"Raised when time series is too short\"\"\"\n",
    "    pass\n",
    "\n",
    "class NotEnoughPieces(Error):\n",
    "    \"\"\"Raised when not enough pieces\"\"\"\n",
    "    pass\n",
    "\n",
    "class CompressionTolHigh(Error):\n",
    "    \"\"\"Raised when not enough pieces\"\"\"\n",
    "    pass\n",
    "\n",
    "class VariantsError(Error):\n",
    "    \"\"\"Raised when not enough unique pieces\"\"\"\n",
    "    # Making assumption Ckmeans is available and suitable tol and scl is given.\n",
    "    pass\n",
    "\n",
    "class UnknownError(Error):\n",
    "    \"\"\"Raised when not enough unique pieces\"\"\"\n",
    "    # Making assumption Ckmeans is available and suitable tol and scl is given.\n",
    "    pass\n",
    "\n",
    "class ABBAError(Error):\n",
    "   # Error arising from ABBA.\n",
    "    pass\n",
    "\n",
    "class fABBAError(Error):\n",
    "    # Error arising from fABBA\n",
    "    pass\n",
    "\n",
    "\n",
    "class QABBA1Error(Error):\n",
    "    # Error arising from QABBA\n",
    "    pass\n",
    "\n",
    "class QABBA2Error(Error):\n",
    "    # Error arising from QABBA\n",
    "    pass\n",
    "\n",
    "datadir = 'UCR2018/'\n",
    "# tolerances\n",
    "tol = [0.05*i for i in range(1,11)]\n",
    "\n",
    "# If pickle file does not exist, make it.\n",
    "# if not os.path.exists('scl'+str(scl)+'.pkl'):\n",
    "\n",
    "# Calculate number of time series, to provide progess information.\n",
    "ts_count = 0\n",
    "for root, dirs, files in os.walk(datadir):\n",
    "    for file in files:\n",
    "        if file.endswith('tsv'):\n",
    "            with open(os.path.join(root, file)) as f:\n",
    "                content = f.readlines()\n",
    "                ts_count += len(content)\n",
    "print('Number of time series:', ts_count)\n",
    "\n",
    "\n",
    "# Construct list of NaNs\n",
    "D_SAX_2 = ts_count*[np.NaN]\n",
    "D_oneD_SAX_2 = ts_count*[np.NaN]\n",
    "D_ABBA1_2 = ts_count*[np.NaN]\n",
    "D_fABBA_2 = ts_count*[np.NaN]\n",
    "D_QABBA1_2 = ts_count*[np.NaN]\n",
    "D_QABBA2_2 = ts_count*[np.NaN]\n",
    "\n",
    "D_SAX_DTW = ts_count*[np.NaN]\n",
    "D_oneD_SAX_DTW = ts_count*[np.NaN]\n",
    "D_ABBA1_DTW = ts_count*[np.NaN]\n",
    "D_fABBA_DTW = ts_count*[np.NaN]\n",
    "D_QABBA1_DTW = ts_count*[np.NaN]\n",
    "D_QABBA2_DTW = ts_count*[np.NaN]\n",
    "\n",
    "D_SAX_2_diff = ts_count*[np.NaN]\n",
    "D_oneD_SAX_2_diff = ts_count*[np.NaN]\n",
    "D_ABBA1_2_diff = ts_count*[np.NaN]\n",
    "D_fABBA_2_diff = ts_count*[np.NaN]\n",
    "D_QABBA1_2_diff = ts_count*[np.NaN]\n",
    "D_QABBA2_2_diff = ts_count*[np.NaN]\n",
    "\n",
    "D_SAX_DTW_diff = ts_count*[np.NaN]\n",
    "D_oneD_SAX_DTW_diff = ts_count*[np.NaN]\n",
    "D_ABBA1_DTW_diff = ts_count*[np.NaN]\n",
    "D_fABBA_DTW_diff = ts_count*[np.NaN]\n",
    "D_QABBA1_DTW_diff = ts_count*[np.NaN]\n",
    "D_QABBA2_DTW_diff = ts_count*[np.NaN]\n",
    "\n",
    "D_SAX_time = ts_count*[np.NaN]\n",
    "D_oneD_SAX_time = ts_count*[np.NaN]\n",
    "D_ABBA1_time = ts_count*[np.NaN]\n",
    "D_fABBA_time = ts_count*[np.NaN]\n",
    "D_QABBA1_time = ts_count*[np.NaN]\n",
    "D_QABBA2_time = ts_count*[np.NaN]\n",
    "\n",
    "ts_name = ts_count*[''] # time series name for debugging\n",
    "count = ts_count*[0]\n",
    "compression = ts_count*[np.NaN] # Store amount of compression\n",
    "tol_used = ts_count*[np.NaN] # Store tol used\n",
    "error = ts_count*[0] # track errors\n",
    "\n",
    "csymbolicNum = list()\n",
    "cpiecesNum = list()\n",
    "ctsname = list()\n",
    "ctolist = list()\n"
   ]
  },
  {
   "cell_type": "code",
   "execution_count": 3,
   "metadata": {},
   "outputs": [
    {
     "name": "stdout",
     "output_type": "stream",
     "text": [
      "file: DodgerLoopWeekend_TRAIN.tsv\n"
     ]
    },
    {
     "name": "stderr",
     "output_type": "stream",
     "text": [
      "20it [00:02,  7.49it/s]\n"
     ]
    },
    {
     "name": "stdout",
     "output_type": "stream",
     "text": [
      "file: DodgerLoopWeekend_TEST.tsv\n"
     ]
    },
    {
     "name": "stderr",
     "output_type": "stream",
     "text": [
      "138it [00:14,  9.55it/s]\n"
     ]
    },
    {
     "name": "stdout",
     "output_type": "stream",
     "text": [
      "file: Wine_TRAIN.tsv\n"
     ]
    },
    {
     "name": "stderr",
     "output_type": "stream",
     "text": [
      "57it [00:14,  4.04it/s]\n"
     ]
    },
    {
     "name": "stdout",
     "output_type": "stream",
     "text": [
      "file: Wine_TEST.tsv\n"
     ]
    },
    {
     "name": "stderr",
     "output_type": "stream",
     "text": [
      "54it [00:13,  4.06it/s]\n"
     ]
    },
    {
     "name": "stdout",
     "output_type": "stream",
     "text": [
      "file: Strawberry_TRAIN.tsv\n"
     ]
    },
    {
     "name": "stderr",
     "output_type": "stream",
     "text": [
      "613it [02:56,  3.47it/s]\n"
     ]
    },
    {
     "name": "stdout",
     "output_type": "stream",
     "text": [
      "file: Strawberry_TEST.tsv\n"
     ]
    },
    {
     "name": "stderr",
     "output_type": "stream",
     "text": [
      "370it [01:47,  3.44it/s]\n"
     ]
    },
    {
     "name": "stdout",
     "output_type": "stream",
     "text": [
      "file: ItalyPowerDemand_TRAIN.tsv\n"
     ]
    },
    {
     "name": "stderr",
     "output_type": "stream",
     "text": [
      "67it [00:00, 4738.77it/s]\n"
     ]
    },
    {
     "name": "stdout",
     "output_type": "stream",
     "text": [
      "file: ItalyPowerDemand_TEST.tsv\n"
     ]
    },
    {
     "name": "stderr",
     "output_type": "stream",
     "text": [
      "1029it [00:00, 3797.32it/s]\n"
     ]
    },
    {
     "name": "stdout",
     "output_type": "stream",
     "text": [
      "file: PLAID_TRAIN.tsv\n"
     ]
    },
    {
     "name": "stderr",
     "output_type": "stream",
     "text": [
      "537it [03:17,  2.72it/s]\n"
     ]
    },
    {
     "name": "stdout",
     "output_type": "stream",
     "text": [
      "file: PLAID_TEST.tsv\n"
     ]
    },
    {
     "name": "stderr",
     "output_type": "stream",
     "text": [
      "537it [02:50,  3.15it/s]\n"
     ]
    },
    {
     "name": "stdout",
     "output_type": "stream",
     "text": [
      "file: BirdChicken_TEST.tsv\n"
     ]
    },
    {
     "name": "stderr",
     "output_type": "stream",
     "text": [
      "20it [00:06,  2.99it/s]\n"
     ]
    },
    {
     "name": "stdout",
     "output_type": "stream",
     "text": [
      "file: BirdChicken_TRAIN.tsv\n"
     ]
    },
    {
     "name": "stderr",
     "output_type": "stream",
     "text": [
      "20it [00:05,  3.39it/s]\n"
     ]
    },
    {
     "name": "stdout",
     "output_type": "stream",
     "text": [
      "file: ProximalPhalanxTW_TEST.tsv\n"
     ]
    },
    {
     "name": "stderr",
     "output_type": "stream",
     "text": [
      "205it [00:00, 7578.69it/s]\n"
     ]
    },
    {
     "name": "stdout",
     "output_type": "stream",
     "text": [
      "file: ProximalPhalanxTW_TRAIN.tsv\n"
     ]
    },
    {
     "name": "stderr",
     "output_type": "stream",
     "text": [
      "400it [00:00, 3603.96it/s]\n"
     ]
    },
    {
     "name": "stdout",
     "output_type": "stream",
     "text": [
      "file: Symbols_TRAIN.tsv\n"
     ]
    },
    {
     "name": "stderr",
     "output_type": "stream",
     "text": [
      "25it [00:07,  3.38it/s]\n"
     ]
    },
    {
     "name": "stdout",
     "output_type": "stream",
     "text": [
      "file: Symbols_TEST.tsv\n"
     ]
    },
    {
     "name": "stderr",
     "output_type": "stream",
     "text": [
      "995it [04:55,  3.37it/s]\n"
     ]
    },
    {
     "name": "stdout",
     "output_type": "stream",
     "text": [
      "file: FiftyWords_TRAIN.tsv\n"
     ]
    },
    {
     "name": "stderr",
     "output_type": "stream",
     "text": [
      "450it [01:46,  4.24it/s]\n"
     ]
    },
    {
     "name": "stdout",
     "output_type": "stream",
     "text": [
      "file: FiftyWords_TEST.tsv\n"
     ]
    },
    {
     "name": "stderr",
     "output_type": "stream",
     "text": [
      "455it [00:57,  7.91it/s]\n"
     ]
    },
    {
     "name": "stdout",
     "output_type": "stream",
     "text": [
      "file: ChlorineConcentration_TEST.tsv\n"
     ]
    },
    {
     "name": "stderr",
     "output_type": "stream",
     "text": [
      "3840it [13:12,  4.84it/s]\n"
     ]
    },
    {
     "name": "stdout",
     "output_type": "stream",
     "text": [
      "file: ChlorineConcentration_TRAIN.tsv\n"
     ]
    },
    {
     "name": "stderr",
     "output_type": "stream",
     "text": [
      "467it [01:31,  5.10it/s]\n"
     ]
    },
    {
     "name": "stdout",
     "output_type": "stream",
     "text": [
      "file: Lightning2_TRAIN.tsv\n"
     ]
    },
    {
     "name": "stderr",
     "output_type": "stream",
     "text": [
      "60it [00:29,  2.05it/s]\n"
     ]
    },
    {
     "name": "stdout",
     "output_type": "stream",
     "text": [
      "file: Lightning2_TEST.tsv\n"
     ]
    },
    {
     "name": "stderr",
     "output_type": "stream",
     "text": [
      "61it [00:29,  2.09it/s]\n"
     ]
    },
    {
     "name": "stdout",
     "output_type": "stream",
     "text": [
      "file: UWaveGestureLibraryX_TEST.tsv\n"
     ]
    },
    {
     "name": "stderr",
     "output_type": "stream",
     "text": [
      "3582it [13:30,  4.42it/s]\n"
     ]
    },
    {
     "name": "stdout",
     "output_type": "stream",
     "text": [
      "file: UWaveGestureLibraryX_TRAIN.tsv\n"
     ]
    },
    {
     "name": "stderr",
     "output_type": "stream",
     "text": [
      "896it [01:37,  9.19it/s]\n"
     ]
    },
    {
     "name": "stdout",
     "output_type": "stream",
     "text": [
      "file: FacesUCR_TRAIN.tsv\n"
     ]
    },
    {
     "name": "stderr",
     "output_type": "stream",
     "text": [
      "200it [00:10, 19.91it/s]\n"
     ]
    },
    {
     "name": "stdout",
     "output_type": "stream",
     "text": [
      "file: FacesUCR_TEST.tsv\n"
     ]
    },
    {
     "name": "stderr",
     "output_type": "stream",
     "text": [
      "2050it [07:14,  4.72it/s]\n"
     ]
    },
    {
     "name": "stdout",
     "output_type": "stream",
     "text": [
      "file: Plane_TEST.tsv\n"
     ]
    },
    {
     "name": "stderr",
     "output_type": "stream",
     "text": [
      "105it [00:27,  3.79it/s]\n"
     ]
    },
    {
     "name": "stdout",
     "output_type": "stream",
     "text": [
      "file: Plane_TRAIN.tsv\n"
     ]
    },
    {
     "name": "stderr",
     "output_type": "stream",
     "text": [
      "105it [00:26,  3.90it/s]\n"
     ]
    },
    {
     "name": "stdout",
     "output_type": "stream",
     "text": [
      "file: RefrigerationDevices_TRAIN.tsv\n"
     ]
    },
    {
     "name": "stderr",
     "output_type": "stream",
     "text": [
      "375it [03:06,  2.01it/s]\n"
     ]
    },
    {
     "name": "stdout",
     "output_type": "stream",
     "text": [
      "file: RefrigerationDevices_TEST.tsv\n"
     ]
    },
    {
     "name": "stderr",
     "output_type": "stream",
     "text": [
      "375it [02:46,  2.25it/s]\n"
     ]
    },
    {
     "name": "stdout",
     "output_type": "stream",
     "text": [
      "file: DodgerLoopWeekend_TRAIN.tsv\n"
     ]
    },
    {
     "name": "stderr",
     "output_type": "stream",
     "text": [
      "20it [00:03,  5.60it/s]\n"
     ]
    },
    {
     "name": "stdout",
     "output_type": "stream",
     "text": [
      "file: DodgerLoopWeekend_TEST.tsv\n"
     ]
    },
    {
     "name": "stderr",
     "output_type": "stream",
     "text": [
      "138it [00:25,  5.39it/s]\n"
     ]
    },
    {
     "name": "stdout",
     "output_type": "stream",
     "text": [
      "file: PLAID_TRAIN.tsv\n"
     ]
    },
    {
     "name": "stderr",
     "output_type": "stream",
     "text": [
      "537it [02:41,  3.33it/s]\n"
     ]
    },
    {
     "name": "stdout",
     "output_type": "stream",
     "text": [
      "file: PLAID_TEST.tsv\n"
     ]
    },
    {
     "name": "stderr",
     "output_type": "stream",
     "text": [
      "537it [04:50,  1.85it/s]\n"
     ]
    },
    {
     "name": "stdout",
     "output_type": "stream",
     "text": [
      "file: AllGestureWiimoteZ_TRAIN.tsv\n"
     ]
    },
    {
     "name": "stderr",
     "output_type": "stream",
     "text": [
      "300it [00:52,  5.74it/s]\n"
     ]
    },
    {
     "name": "stdout",
     "output_type": "stream",
     "text": [
      "file: AllGestureWiimoteZ_TEST.tsv\n"
     ]
    },
    {
     "name": "stderr",
     "output_type": "stream",
     "text": [
      "700it [01:59,  5.86it/s]\n"
     ]
    },
    {
     "name": "stdout",
     "output_type": "stream",
     "text": [
      "file: ShakeGestureWiimoteZ_TEST.tsv\n"
     ]
    },
    {
     "name": "stderr",
     "output_type": "stream",
     "text": [
      "50it [00:08,  5.72it/s]\n"
     ]
    },
    {
     "name": "stdout",
     "output_type": "stream",
     "text": [
      "file: ShakeGestureWiimoteZ_TRAIN.tsv\n"
     ]
    },
    {
     "name": "stderr",
     "output_type": "stream",
     "text": [
      "50it [00:08,  5.97it/s]\n"
     ]
    },
    {
     "name": "stdout",
     "output_type": "stream",
     "text": [
      "file: AllGestureWiimoteX_TEST.tsv\n"
     ]
    },
    {
     "name": "stderr",
     "output_type": "stream",
     "text": [
      "700it [02:04,  5.63it/s]\n"
     ]
    },
    {
     "name": "stdout",
     "output_type": "stream",
     "text": [
      "file: AllGestureWiimoteX_TRAIN.tsv\n"
     ]
    },
    {
     "name": "stderr",
     "output_type": "stream",
     "text": [
      "300it [00:56,  5.30it/s]\n"
     ]
    },
    {
     "name": "stdout",
     "output_type": "stream",
     "text": [
      "file: MelbournePedestrian_TRAIN.tsv\n"
     ]
    },
    {
     "name": "stderr",
     "output_type": "stream",
     "text": [
      "1194it [00:00, 16633.89it/s]\n"
     ]
    },
    {
     "name": "stdout",
     "output_type": "stream",
     "text": [
      "file: MelbournePedestrian_TEST.tsv\n"
     ]
    },
    {
     "name": "stderr",
     "output_type": "stream",
     "text": [
      "2439it [00:00, 14269.64it/s]\n"
     ]
    },
    {
     "name": "stdout",
     "output_type": "stream",
     "text": [
      "file: GestureMidAirD3_TRAIN.tsv\n"
     ]
    },
    {
     "name": "stderr",
     "output_type": "stream",
     "text": [
      "208it [00:09, 21.67it/s]\n"
     ]
    },
    {
     "name": "stdout",
     "output_type": "stream",
     "text": [
      "file: GestureMidAirD3_TEST.tsv\n"
     ]
    },
    {
     "name": "stderr",
     "output_type": "stream",
     "text": [
      "130it [00:05, 22.51it/s]\n"
     ]
    },
    {
     "name": "stdout",
     "output_type": "stream",
     "text": [
      "file: GesturePebbleZ2_TRAIN.tsv\n"
     ]
    },
    {
     "name": "stderr",
     "output_type": "stream",
     "text": [
      "146it [00:09, 15.49it/s]\n"
     ]
    },
    {
     "name": "stdout",
     "output_type": "stream",
     "text": [
      "file: GesturePebbleZ2_TEST.tsv\n"
     ]
    },
    {
     "name": "stderr",
     "output_type": "stream",
     "text": [
      "158it [00:10, 15.74it/s]\n"
     ]
    },
    {
     "name": "stdout",
     "output_type": "stream",
     "text": [
      "file: GestureMidAirD1_TRAIN.tsv\n"
     ]
    },
    {
     "name": "stderr",
     "output_type": "stream",
     "text": [
      "208it [00:09, 22.52it/s]\n"
     ]
    },
    {
     "name": "stdout",
     "output_type": "stream",
     "text": [
      "file: GestureMidAirD1_TEST.tsv\n"
     ]
    },
    {
     "name": "stderr",
     "output_type": "stream",
     "text": [
      "130it [00:06, 20.85it/s]\n"
     ]
    },
    {
     "name": "stdout",
     "output_type": "stream",
     "text": [
      "file: AllGestureWiimoteY_TEST.tsv\n"
     ]
    },
    {
     "name": "stderr",
     "output_type": "stream",
     "text": [
      "700it [00:48, 14.58it/s]\n"
     ]
    },
    {
     "name": "stdout",
     "output_type": "stream",
     "text": [
      "file: AllGestureWiimoteY_TRAIN.tsv\n"
     ]
    },
    {
     "name": "stderr",
     "output_type": "stream",
     "text": [
      "300it [01:39,  3.02it/s]\n"
     ]
    },
    {
     "name": "stdout",
     "output_type": "stream",
     "text": [
      "file: PickupGestureWiimoteZ_TEST.tsv\n"
     ]
    },
    {
     "name": "stderr",
     "output_type": "stream",
     "text": [
      "50it [00:13,  3.60it/s]\n"
     ]
    },
    {
     "name": "stdout",
     "output_type": "stream",
     "text": [
      "file: PickupGestureWiimoteZ_TRAIN.tsv\n"
     ]
    },
    {
     "name": "stderr",
     "output_type": "stream",
     "text": [
      "50it [00:14,  3.34it/s]\n"
     ]
    },
    {
     "name": "stdout",
     "output_type": "stream",
     "text": [
      "file: DodgerLoopGame_TEST.tsv\n"
     ]
    },
    {
     "name": "stderr",
     "output_type": "stream",
     "text": [
      "138it [00:51,  2.71it/s]\n"
     ]
    },
    {
     "name": "stdout",
     "output_type": "stream",
     "text": [
      "file: DodgerLoopGame_TRAIN.tsv\n"
     ]
    },
    {
     "name": "stderr",
     "output_type": "stream",
     "text": [
      "20it [00:07,  2.70it/s]\n"
     ]
    },
    {
     "name": "stdout",
     "output_type": "stream",
     "text": [
      "file: DodgerLoopDay_TEST.tsv\n"
     ]
    },
    {
     "name": "stderr",
     "output_type": "stream",
     "text": [
      "80it [00:28,  2.76it/s]\n"
     ]
    },
    {
     "name": "stdout",
     "output_type": "stream",
     "text": [
      "file: DodgerLoopDay_TRAIN.tsv\n"
     ]
    },
    {
     "name": "stderr",
     "output_type": "stream",
     "text": [
      "78it [00:25,  3.00it/s]\n"
     ]
    },
    {
     "name": "stdout",
     "output_type": "stream",
     "text": [
      "file: GestureMidAirD2_TEST.tsv\n"
     ]
    },
    {
     "name": "stderr",
     "output_type": "stream",
     "text": [
      "130it [00:32,  3.95it/s]\n"
     ]
    },
    {
     "name": "stdout",
     "output_type": "stream",
     "text": [
      "file: GestureMidAirD2_TRAIN.tsv\n"
     ]
    },
    {
     "name": "stderr",
     "output_type": "stream",
     "text": [
      "208it [00:52,  3.98it/s]\n"
     ]
    },
    {
     "name": "stdout",
     "output_type": "stream",
     "text": [
      "file: GesturePebbleZ1_TRAIN.tsv\n"
     ]
    },
    {
     "name": "stderr",
     "output_type": "stream",
     "text": [
      "132it [00:39,  3.31it/s]\n"
     ]
    },
    {
     "name": "stdout",
     "output_type": "stream",
     "text": [
      "file: GesturePebbleZ1_TEST.tsv\n"
     ]
    },
    {
     "name": "stderr",
     "output_type": "stream",
     "text": [
      "172it [00:19,  9.03it/s]\n"
     ]
    },
    {
     "name": "stdout",
     "output_type": "stream",
     "text": [
      "file: ProximalPhalanxOutlineAgeGroup_TEST.tsv\n"
     ]
    },
    {
     "name": "stderr",
     "output_type": "stream",
     "text": [
      "205it [00:00, 8868.64it/s]\n"
     ]
    },
    {
     "name": "stdout",
     "output_type": "stream",
     "text": [
      "file: ProximalPhalanxOutlineAgeGroup_TRAIN.tsv\n"
     ]
    },
    {
     "name": "stderr",
     "output_type": "stream",
     "text": [
      "400it [00:00, 10838.98it/s]\n"
     ]
    },
    {
     "name": "stdout",
     "output_type": "stream",
     "text": [
      "file: FordB_TEST.tsv\n"
     ]
    },
    {
     "name": "stderr",
     "output_type": "stream",
     "text": [
      "810it [04:59,  2.70it/s]\n"
     ]
    },
    {
     "name": "stdout",
     "output_type": "stream",
     "text": [
      "file: FordB_TRAIN.tsv\n"
     ]
    },
    {
     "name": "stderr",
     "output_type": "stream",
     "text": [
      "3636it [13:41,  4.42it/s]\n"
     ]
    },
    {
     "name": "stdout",
     "output_type": "stream",
     "text": [
      "file: Mallat_TRAIN.tsv\n"
     ]
    },
    {
     "name": "stderr",
     "output_type": "stream",
     "text": [
      "55it [00:09,  5.92it/s]\n"
     ]
    },
    {
     "name": "stdout",
     "output_type": "stream",
     "text": [
      "file: Mallat_TEST.tsv\n"
     ]
    },
    {
     "name": "stderr",
     "output_type": "stream",
     "text": [
      "1254it [02:59,  6.99it/s]IOPub message rate exceeded.\n",
      "The Jupyter server will temporarily stop sending output\n",
      "to the client in order to avoid crashing it.\n",
      "To change this limit, set the config variable\n",
      "`--ServerApp.iopub_msg_rate_limit`.\n",
      "\n",
      "Current values:\n",
      "ServerApp.iopub_msg_rate_limit=1000.0 (msgs/sec)\n",
      "ServerApp.rate_limit_window=3.0 (secs)\n",
      "\n",
      "1380it [07:29,  3.07it/s]\n"
     ]
    },
    {
     "name": "stdout",
     "output_type": "stream",
     "text": [
      "file: CinCECGTorso_TRAIN.tsv\n"
     ]
    },
    {
     "name": "stderr",
     "output_type": "stream",
     "text": [
      "40it [00:13,  3.02it/s]\n"
     ]
    },
    {
     "name": "stdout",
     "output_type": "stream",
     "text": [
      "file: MoteStrain_TRAIN.tsv\n"
     ]
    },
    {
     "name": "stderr",
     "output_type": "stream",
     "text": [
      "20it [00:00, 9072.69it/s]\n"
     ]
    },
    {
     "name": "stdout",
     "output_type": "stream",
     "text": [
      "file: MoteStrain_TEST.tsv\n"
     ]
    },
    {
     "name": "stderr",
     "output_type": "stream",
     "text": [
      "1252it [00:00, 10437.30it/s]\n"
     ]
    },
    {
     "name": "stdout",
     "output_type": "stream",
     "text": [
      "file: MiddlePhalanxOutlineCorrect_TEST.tsv\n"
     ]
    },
    {
     "name": "stderr",
     "output_type": "stream",
     "text": [
      "291it [00:00, 11364.67it/s]\n"
     ]
    },
    {
     "name": "stdout",
     "output_type": "stream",
     "text": [
      "file: MiddlePhalanxOutlineCorrect_TRAIN.tsv\n"
     ]
    },
    {
     "name": "stderr",
     "output_type": "stream",
     "text": [
      "600it [00:00, 10984.21it/s]\n"
     ]
    },
    {
     "name": "stdout",
     "output_type": "stream",
     "text": [
      "file: InsectEPGSmallTrain_TEST.tsv\n"
     ]
    },
    {
     "name": "stderr",
     "output_type": "stream",
     "text": [
      "249it [00:18, 13.23it/s]\n"
     ]
    },
    {
     "name": "stdout",
     "output_type": "stream",
     "text": [
      "file: InsectEPGSmallTrain_TRAIN.tsv\n"
     ]
    },
    {
     "name": "stderr",
     "output_type": "stream",
     "text": [
      "17it [00:01, 11.30it/s]\n"
     ]
    },
    {
     "name": "stdout",
     "output_type": "stream",
     "text": [
      "file: ShakeGestureWiimoteZ_TEST.tsv\n"
     ]
    },
    {
     "name": "stderr",
     "output_type": "stream",
     "text": [
      "50it [00:01, 25.95it/s]\n"
     ]
    },
    {
     "name": "stdout",
     "output_type": "stream",
     "text": [
      "file: ShakeGestureWiimoteZ_TRAIN.tsv\n"
     ]
    },
    {
     "name": "stderr",
     "output_type": "stream",
     "text": [
      "50it [00:02, 20.91it/s]\n"
     ]
    },
    {
     "name": "stdout",
     "output_type": "stream",
     "text": [
      "file: SmallKitchenAppliances_TEST.tsv\n"
     ]
    },
    {
     "name": "stderr",
     "output_type": "stream",
     "text": [
      "375it [00:30, 12.27it/s]\n"
     ]
    },
    {
     "name": "stdout",
     "output_type": "stream",
     "text": [
      "file: SmallKitchenAppliances_TRAIN.tsv\n"
     ]
    },
    {
     "name": "stderr",
     "output_type": "stream",
     "text": [
      "375it [00:30, 12.20it/s]\n"
     ]
    },
    {
     "name": "stdout",
     "output_type": "stream",
     "text": [
      "file: MixedShapesSmallTrain_TEST.tsv\n"
     ]
    },
    {
     "name": "stderr",
     "output_type": "stream",
     "text": [
      "97it [00:13,  7.60it/s]IOPub message rate exceeded.\n",
      "The Jupyter server will temporarily stop sending output\n",
      "to the client in order to avoid crashing it.\n",
      "To change this limit, set the config variable\n",
      "`--ServerApp.iopub_msg_rate_limit`.\n",
      "\n",
      "Current values:\n",
      "ServerApp.iopub_msg_rate_limit=1000.0 (msgs/sec)\n",
      "ServerApp.rate_limit_window=3.0 (secs)\n",
      "\n",
      "2115it [05:17,  7.37it/s]IOPub message rate exceeded.\n",
      "The Jupyter server will temporarily stop sending output\n",
      "to the client in order to avoid crashing it.\n",
      "To change this limit, set the config variable\n",
      "`--ServerApp.iopub_msg_rate_limit`.\n",
      "\n",
      "Current values:\n",
      "ServerApp.iopub_msg_rate_limit=1000.0 (msgs/sec)\n",
      "ServerApp.rate_limit_window=3.0 (secs)\n",
      "\n",
      "146it [00:07, 19.37it/s]\n"
     ]
    },
    {
     "name": "stdout",
     "output_type": "stream",
     "text": [
      "file: GesturePebbleZ2_TEST.tsv\n"
     ]
    },
    {
     "name": "stderr",
     "output_type": "stream",
     "text": [
      "158it [00:08, 19.28it/s]\n"
     ]
    },
    {
     "name": "stdout",
     "output_type": "stream",
     "text": [
      "file: InsectEPGRegularTrain_TRAIN.tsv\n"
     ]
    },
    {
     "name": "stderr",
     "output_type": "stream",
     "text": [
      "62it [00:05, 11.69it/s]\n"
     ]
    },
    {
     "name": "stdout",
     "output_type": "stream",
     "text": [
      "file: InsectEPGRegularTrain_TEST.tsv\n"
     ]
    },
    {
     "name": "stderr",
     "output_type": "stream",
     "text": [
      "249it [00:20, 12.32it/s]\n"
     ]
    },
    {
     "name": "stdout",
     "output_type": "stream",
     "text": [
      "file: Earthquakes_TEST.tsv\n"
     ]
    },
    {
     "name": "stderr",
     "output_type": "stream",
     "text": [
      "139it [00:08, 16.99it/s]\n"
     ]
    },
    {
     "name": "stdout",
     "output_type": "stream",
     "text": [
      "file: Earthquakes_TRAIN.tsv\n"
     ]
    },
    {
     "name": "stderr",
     "output_type": "stream",
     "text": [
      "322it [00:19, 16.36it/s]\n"
     ]
    },
    {
     "name": "stdout",
     "output_type": "stream",
     "text": [
      "file: ToeSegmentation2_TRAIN.tsv\n"
     ]
    },
    {
     "name": "stderr",
     "output_type": "stream",
     "text": [
      "36it [00:02, 17.57it/s]\n"
     ]
    },
    {
     "name": "stdout",
     "output_type": "stream",
     "text": [
      "file: ToeSegmentation2_TEST.tsv\n"
     ]
    },
    {
     "name": "stderr",
     "output_type": "stream",
     "text": [
      "130it [00:07, 18.02it/s]\n"
     ]
    },
    {
     "name": "stdout",
     "output_type": "stream",
     "text": [
      "file: GestureMidAirD1_TRAIN.tsv\n"
     ]
    },
    {
     "name": "stderr",
     "output_type": "stream",
     "text": [
      "208it [00:05, 39.09it/s]\n"
     ]
    },
    {
     "name": "stdout",
     "output_type": "stream",
     "text": [
      "file: GestureMidAirD1_TEST.tsv\n"
     ]
    },
    {
     "name": "stderr",
     "output_type": "stream",
     "text": [
      "130it [00:03, 40.08it/s]\n"
     ]
    },
    {
     "name": "stdout",
     "output_type": "stream",
     "text": [
      "file: AllGestureWiimoteY_TEST.tsv\n"
     ]
    },
    {
     "name": "stderr",
     "output_type": "stream",
     "text": [
      "700it [00:17, 40.17it/s]\n"
     ]
    },
    {
     "name": "stdout",
     "output_type": "stream",
     "text": [
      "file: AllGestureWiimoteY_TRAIN.tsv\n"
     ]
    },
    {
     "name": "stderr",
     "output_type": "stream",
     "text": [
      "300it [00:07, 42.36it/s]\n"
     ]
    },
    {
     "name": "stdout",
     "output_type": "stream",
     "text": [
      "file: ECG5000_TRAIN.tsv\n"
     ]
    },
    {
     "name": "stderr",
     "output_type": "stream",
     "text": [
      "500it [00:17, 28.34it/s]\n"
     ]
    },
    {
     "name": "stdout",
     "output_type": "stream",
     "text": [
      "file: ECG5000_TEST.tsv\n"
     ]
    },
    {
     "name": "stderr",
     "output_type": "stream",
     "text": [
      "3230it [02:01, 32.29it/s]IOPub message rate exceeded.\n",
      "The Jupyter server will temporarily stop sending output\n",
      "to the client in order to avoid crashing it.\n",
      "To change this limit, set the config variable\n",
      "`--ServerApp.iopub_msg_rate_limit`.\n",
      "\n",
      "Current values:\n",
      "ServerApp.iopub_msg_rate_limit=1000.0 (msgs/sec)\n",
      "ServerApp.rate_limit_window=3.0 (secs)\n",
      "\n",
      "450it [01:40,  4.46it/s]\n"
     ]
    },
    {
     "name": "stdout",
     "output_type": "stream",
     "text": [
      "file: SemgHandSubjectCh2_TEST.tsv\n"
     ]
    },
    {
     "name": "stderr",
     "output_type": "stream",
     "text": [
      "450it [01:36,  4.65it/s]\n"
     ]
    },
    {
     "name": "stdout",
     "output_type": "stream",
     "text": [
      "file: FordA_TEST.tsv\n"
     ]
    },
    {
     "name": "stderr",
     "output_type": "stream",
     "text": [
      "1238it [01:59, 10.38it/s]IOPub message rate exceeded.\n",
      "The Jupyter server will temporarily stop sending output\n",
      "to the client in order to avoid crashing it.\n",
      "To change this limit, set the config variable\n",
      "`--ServerApp.iopub_msg_rate_limit`.\n",
      "\n",
      "Current values:\n",
      "ServerApp.iopub_msg_rate_limit=1000.0 (msgs/sec)\n",
      "ServerApp.rate_limit_window=3.0 (secs)\n",
      "\n",
      "1800it [02:27, 12.17it/s]\n"
     ]
    },
    {
     "name": "stdout",
     "output_type": "stream",
     "text": [
      "file: NonInvasiveFetalECGThorax2_TEST.tsv\n"
     ]
    },
    {
     "name": "stderr",
     "output_type": "stream",
     "text": [
      "1965it [02:49, 11.62it/s]\n"
     ]
    },
    {
     "name": "stdout",
     "output_type": "stream",
     "text": [
      "file: GunPointMaleVersusFemale_TRAIN.tsv\n"
     ]
    },
    {
     "name": "stderr",
     "output_type": "stream",
     "text": [
      "135it [00:02, 48.02it/s]\n"
     ]
    },
    {
     "name": "stdout",
     "output_type": "stream",
     "text": [
      "file: GunPointMaleVersusFemale_TEST.tsv\n"
     ]
    },
    {
     "name": "stderr",
     "output_type": "stream",
     "text": [
      "316it [00:06, 47.57it/s]\n"
     ]
    },
    {
     "name": "stdout",
     "output_type": "stream",
     "text": [
      "file: OSULeaf_TRAIN.tsv\n"
     ]
    },
    {
     "name": "stderr",
     "output_type": "stream",
     "text": [
      "200it [00:09, 21.00it/s]\n"
     ]
    },
    {
     "name": "stdout",
     "output_type": "stream",
     "text": [
      "file: OSULeaf_TEST.tsv\n"
     ]
    },
    {
     "name": "stderr",
     "output_type": "stream",
     "text": [
      "242it [00:11, 20.94it/s]\n"
     ]
    },
    {
     "name": "stdout",
     "output_type": "stream",
     "text": [
      "file: UMD_TEST.tsv\n"
     ]
    },
    {
     "name": "stderr",
     "output_type": "stream",
     "text": [
      "144it [00:03, 41.54it/s]\n"
     ]
    },
    {
     "name": "stdout",
     "output_type": "stream",
     "text": [
      "file: UMD_TRAIN.tsv\n"
     ]
    },
    {
     "name": "stderr",
     "output_type": "stream",
     "text": [
      "36it [00:01, 35.49it/s]\n"
     ]
    },
    {
     "name": "stdout",
     "output_type": "stream",
     "text": [
      "file: GestureMidAirD2_TEST.tsv\n"
     ]
    },
    {
     "name": "stderr",
     "output_type": "stream",
     "text": [
      "130it [00:02, 47.82it/s]\n"
     ]
    },
    {
     "name": "stdout",
     "output_type": "stream",
     "text": [
      "file: GestureMidAirD2_TRAIN.tsv\n"
     ]
    },
    {
     "name": "stderr",
     "output_type": "stream",
     "text": [
      "208it [00:03, 53.41it/s]\n"
     ]
    },
    {
     "name": "stdout",
     "output_type": "stream",
     "text": [
      "file: MixedShapesRegularTrain_TEST.tsv\n"
     ]
    },
    {
     "name": "stderr",
     "output_type": "stream",
     "text": [
      "234it [00:32,  7.14it/s]IOPub message rate exceeded.\n",
      "The Jupyter server will temporarily stop sending output\n",
      "to the client in order to avoid crashing it.\n",
      "To change this limit, set the config variable\n",
      "`--ServerApp.iopub_msg_rate_limit`.\n",
      "\n",
      "Current values:\n",
      "ServerApp.iopub_msg_rate_limit=1000.0 (msgs/sec)\n",
      "ServerApp.rate_limit_window=3.0 (secs)\n",
      "\n",
      "172it [00:06, 28.63it/s]\n"
     ]
    },
    {
     "name": "stdout",
     "output_type": "stream",
     "text": [
      "file: InlineSkate_TEST.tsv\n"
     ]
    },
    {
     "name": "stderr",
     "output_type": "stream",
     "text": [
      "550it [04:01,  2.28it/s]\n"
     ]
    },
    {
     "name": "stdout",
     "output_type": "stream",
     "text": [
      "file: InlineSkate_TRAIN.tsv\n"
     ]
    },
    {
     "name": "stderr",
     "output_type": "stream",
     "text": [
      "100it [00:41,  2.43it/s]\n"
     ]
    },
    {
     "name": "stdout",
     "output_type": "stream",
     "text": [
      "file: CricketZ_TEST.tsv\n"
     ]
    },
    {
     "name": "stderr",
     "output_type": "stream",
     "text": [
      "390it [00:21, 18.51it/s]\n"
     ]
    },
    {
     "name": "stdout",
     "output_type": "stream",
     "text": [
      "file: CricketZ_TRAIN.tsv\n"
     ]
    },
    {
     "name": "stderr",
     "output_type": "stream",
     "text": [
      "390it [00:19, 20.18it/s]\n"
     ]
    },
    {
     "name": "stdout",
     "output_type": "stream",
     "text": [
      "file: SonyAIBORobotSurface2_TRAIN.tsv\n"
     ]
    },
    {
     "name": "stderr",
     "output_type": "stream",
     "text": [
      "27it [00:00, 12200.63it/s]\n"
     ]
    },
    {
     "name": "stdout",
     "output_type": "stream",
     "text": [
      "file: SonyAIBORobotSurface2_TEST.tsv\n"
     ]
    },
    {
     "name": "stderr",
     "output_type": "stream",
     "text": [
      "953it [00:00, 13766.74it/s]\n"
     ]
    },
    {
     "name": "stdout",
     "output_type": "stream",
     "text": [
      "file: Car_TEST.tsv\n"
     ]
    },
    {
     "name": "stderr",
     "output_type": "stream",
     "text": [
      "60it [00:03, 17.67it/s]\n"
     ]
    },
    {
     "name": "stdout",
     "output_type": "stream",
     "text": [
      "file: Car_TRAIN.tsv\n"
     ]
    },
    {
     "name": "stderr",
     "output_type": "stream",
     "text": [
      "60it [00:03, 17.90it/s]\n"
     ]
    },
    {
     "name": "stdout",
     "output_type": "stream",
     "text": [
      "file: CricketY_TEST.tsv\n"
     ]
    },
    {
     "name": "stderr",
     "output_type": "stream",
     "text": [
      "390it [00:20, 18.97it/s]\n"
     ]
    },
    {
     "name": "stdout",
     "output_type": "stream",
     "text": [
      "file: CricketY_TRAIN.tsv\n"
     ]
    },
    {
     "name": "stderr",
     "output_type": "stream",
     "text": [
      "390it [00:20, 18.81it/s]\n"
     ]
    },
    {
     "name": "stdout",
     "output_type": "stream",
     "text": [
      "file: Meat_TRAIN.tsv\n"
     ]
    },
    {
     "name": "stderr",
     "output_type": "stream",
     "text": [
      "60it [00:02, 20.97it/s]\n"
     ]
    },
    {
     "name": "stdout",
     "output_type": "stream",
     "text": [
      "file: Meat_TEST.tsv\n"
     ]
    },
    {
     "name": "stderr",
     "output_type": "stream",
     "text": [
      "60it [00:02, 21.15it/s]\n"
     ]
    },
    {
     "name": "stdout",
     "output_type": "stream",
     "text": [
      "file: EthanolLevel_TEST.tsv\n"
     ]
    },
    {
     "name": "stderr",
     "output_type": "stream",
     "text": [
      "500it [02:58,  2.80it/s]\n"
     ]
    },
    {
     "name": "stdout",
     "output_type": "stream",
     "text": [
      "file: EthanolLevel_TRAIN.tsv\n"
     ]
    },
    {
     "name": "stderr",
     "output_type": "stream",
     "text": [
      "504it [02:56,  2.85it/s]\n"
     ]
    },
    {
     "name": "stdout",
     "output_type": "stream",
     "text": [
      "file: TwoPatterns_TEST.tsv\n"
     ]
    },
    {
     "name": "stderr",
     "output_type": "stream",
     "text": [
      "2055it [01:02, 36.74it/s]IOPub message rate exceeded.\n",
      "The Jupyter server will temporarily stop sending output\n",
      "to the client in order to avoid crashing it.\n",
      "To change this limit, set the config variable\n",
      "`--ServerApp.iopub_msg_rate_limit`.\n",
      "\n",
      "Current values:\n",
      "ServerApp.iopub_msg_rate_limit=1000.0 (msgs/sec)\n",
      "ServerApp.rate_limit_window=3.0 (secs)\n",
      "\n"
     ]
    }
   ],
   "source": [
    "\n",
    "# Run through time series\n",
    "index = 0\n",
    "for root, dirs, files in os.walk(datadir):\n",
    "    for file in files:\n",
    "        if file.endswith('tsv'):\n",
    "            print('file:', file)\n",
    "\n",
    "            # bool to keep track of plots, one plot per classification.\n",
    "            need_to_plot = True\n",
    "\n",
    "            with open(os.path.join(root, file)) as tsvfile:\n",
    "                tsvfile = csv.reader(tsvfile, delimiter='\\t')\n",
    "\n",
    "                for ind, column in tqdm(enumerate(tsvfile)):\n",
    "                    ts_name[index] += str(file) + '_' + str(ind) # Save filename + index\n",
    "\n",
    "                    ts = [float(i) for i in column] # convert to list of floats\n",
    "                    ts = np.array(ts[1:]) # remove class information\n",
    "\n",
    "                    # remove NaN from time series\n",
    "                    ts = ts[~np.isnan(ts)]\n",
    "\n",
    "                    # Z Normalise the times series\n",
    "                    norm_ts = (ts -  np.mean(ts))\n",
    "                    std = np.std(norm_ts, ddof=1)\n",
    "                    std = std if std > np.finfo(float).eps else 1\n",
    "                    norm_ts /= std\n",
    "                    \n",
    "                    try:\n",
    "                        # Check length of time timeseries\n",
    "                        if len(norm_ts) < 100:\n",
    "                            raise(TimeSeriesTooShort)\n",
    "\n",
    "                        # Reset tolerance\n",
    "                        tol_index = 0\n",
    "\n",
    "                        # ABBA (Adjust tolerance so at least 20% compression is used)\n",
    "                        for tol_index in range(len(tol)):\n",
    "                            abba = ABBA(tol=tol[tol_index], verbose=0)\n",
    "                            pieces = abba.compress(norm_ts)\n",
    "                            ABBA_len = len(pieces)\n",
    "                            if ABBA_len <= len(norm_ts)/5:\n",
    "                                tol_used[index] = tol[tol_index]\n",
    "                                break\n",
    "                            elif tol_index == len(tol)-1:\n",
    "                                raise(CompressionTolHigh)\n",
    "                        \n",
    "                        try:\n",
    "                            fabba = fABBA(verbose=0, alpha=0.1, scl=1, sorting='2-norm') \n",
    "                            st = time.time()\n",
    "                            symbols_fabba, parameters_fabba = fabba.digitize(pieces[:,:2])\n",
    "                            ed = time.time()\n",
    "                            time_fabba = ed - st\n",
    "                        except:\n",
    "                            raise(fABBAError)\n",
    "                            \n",
    "                        try:\n",
    "                            symbolnum = len(set(symbols_fabba))\n",
    "                            abba1 = ABBA(scl=1, verbose=0, min_k=symbolnum, max_k=symbolnum)\n",
    "\n",
    "                            st = time.time()\n",
    "                            symbolic_ts1, centers1 = abba1.digitize(pieces)\n",
    "                            ed = time.time()\n",
    "                            time_abba1 = ed - st\n",
    "                        except:\n",
    "                            raise(ABBAError)\n",
    "                            \n",
    "                        try:\n",
    "                            symbolnum = len(set(symbols_fabba))\n",
    "                            qabba1 = fastQABBA(tol=0.1, init='kmeans', k=symbolnum, verbose=0, bits_for_len=8, bits_for_inc=12)\n",
    "                            \n",
    "                            st = time.time()\n",
    "                            symbols_qabba1 = qabba1._digitize(pieces[:,:2])\n",
    "                            ed = time.time()\n",
    "                            time_qabba1 = ed - st\n",
    "                        except:\n",
    "                            raise(QABBA1Error)\n",
    "                         \n",
    "                        \n",
    "                        try:\n",
    "                            symbolnum = len(set(symbols_fabba))\n",
    "                            qabba2 = fastQABBA(tol=0.1, init='agg', sorting='2-norm', alpha=0.1, verbose=0, bits_for_len=8, bits_for_inc=12)\n",
    "                            \n",
    "                            st = time.time()\n",
    "                            symbols_qabba2 = qabba2._digitize(pieces[:,:2])\n",
    "                            ed = time.time()\n",
    "                            time_qabba2 = ed - st\n",
    "                        except:\n",
    "                            raise(QABBA2Error)\n",
    "                            \n",
    "                        csymbolicNum.append(symbolnum)\n",
    "                        cpiecesNum.append(len(pieces))\n",
    "                        ctsname.append(str(file) + '_' + str(ind))\n",
    "                        ctolist.append(tol[tol_index])\n",
    "                        \n",
    "                        ts_ABBA1 = abba1.inverse_transform(symbolic_ts1, centers1, norm_ts[0])\n",
    "                        ts_fABBA = inverse_compress(inverse_digitize(symbols_fabba, parameters_fabba), norm_ts[0])\n",
    "                        ts_QABBA1 = qabba1.inverse_transform(symbols_qabba1, norm_ts[0])\n",
    "                        ts_QABBA2 = qabba2.inverse_transform(symbols_qabba2, norm_ts[0])\n",
    "\n",
    "                        # SAX\n",
    "                        width = len(norm_ts) // ABBA_len # crop to equal number of segments as ABBA.\n",
    "                        reduced_ts = SAX.compress(norm_ts[0:width*ABBA_len], width = width)\n",
    "                        st = time.time()\n",
    "                        symbolic_ts = SAX.digitize(reduced_ts, number_of_symbols = symbolnum)\n",
    "                        ed = time.time()\n",
    "                        SAX_len = len(symbolic_ts)\n",
    "                        reduced_ts = SAX.reverse_digitize(symbolic_ts, number_of_symbols = symbolnum)\n",
    "                        ts_SAX = SAX.reconstruct(reduced_ts, width = width)\n",
    "                        time_sax = ed - st\n",
    "                        \n",
    "                        # oneD_SAX\n",
    "                        width = max(len(norm_ts) // ABBA_len, 2) # crop to equal number of segments as ABBA.\n",
    "                        slope = int(np.ceil(np.sqrt(symbolnum)))\n",
    "                        intercept = int(np.ceil(np.sqrt(symbolnum)))\n",
    "                        reduced_ts = oneD_SAX.compress(norm_ts[0:width*ABBA_len], width = width)\n",
    "                        st = time.time()\n",
    "                        symbolic_ts = oneD_SAX.digitize(reduced_ts, width, slope, intercept)\n",
    "                        ed = time.time()\n",
    "                        oneD_SAX_len = len(symbolic_ts)\n",
    "                        reduced_ts = oneD_SAX.reverse_digitize(symbolic_ts, width, slope, intercept)\n",
    "                        ts_oneD_SAX = oneD_SAX.reconstruct(reduced_ts, width = width)\n",
    "                        time_oneD_sax = ed - st\n",
    "\n",
    "                        # Compute distances\n",
    "                        minlen1 = min(len(ts_SAX), len(norm_ts))\n",
    "                        minlen2 = min(len(ts_oneD_SAX), len(norm_ts))\n",
    "                        minlen3 = min(len(ts_ABBA1), len(norm_ts))\n",
    "                        minlen4 = min(len(ts_fABBA), len(norm_ts))\n",
    "                        minlen5 = min(len(ts_QABBA1), len(norm_ts))\n",
    "                        minlen6 = min(len(ts_QABBA2), len(norm_ts))\n",
    "                        \n",
    "                        D_SAX_2[index]      = np.linalg.norm(norm_ts[:minlen1] - ts_SAX[:minlen1])\n",
    "                        D_oneD_SAX_2[index] = np.linalg.norm(norm_ts[:minlen2] - ts_oneD_SAX[:minlen2])\n",
    "                        D_ABBA1_2[index]    = np.linalg.norm(norm_ts[:minlen3] - ts_ABBA1[:minlen3])\n",
    "                        D_fABBA_2[index]    = np.linalg.norm(norm_ts[:minlen4] - ts_fABBA[:minlen4])\n",
    "                        D_QABBA1_2[index]    = np.linalg.norm(norm_ts[:minlen5] - ts_QABBA1[:minlen5])\n",
    "                        D_QABBA2_2[index]    = np.linalg.norm(norm_ts[:minlen6] - ts_QABBA2[:minlen6])\n",
    "                        \n",
    "                        D_SAX_DTW[index]      = dtw(norm_ts[:minlen1], ts_SAX[:minlen1])\n",
    "                        D_oneD_SAX_DTW[index] = dtw(norm_ts[:minlen2], ts_oneD_SAX[:minlen2])\n",
    "                        D_ABBA1_DTW[index]    = dtw(norm_ts[:minlen3], ts_ABBA1[:minlen3])\n",
    "                        D_fABBA_DTW[index]    = dtw(norm_ts[:minlen4], ts_fABBA[:minlen4])\n",
    "                        D_QABBA1_DTW[index]    = dtw(norm_ts[:minlen5], ts_QABBA1[:minlen5])\n",
    "                        D_QABBA2_DTW[index]    = dtw(norm_ts[:minlen6], ts_QABBA2[:minlen6])\n",
    "                        \n",
    "                        D_SAX_2_diff[index]       = np.linalg.norm(np.diff(norm_ts[:minlen1]) - np.diff(ts_SAX[:minlen1]))\n",
    "                        D_oneD_SAX_2_diff[index]  = np.linalg.norm(np.diff(norm_ts[:minlen2]) - np.diff(ts_oneD_SAX[:minlen2]))\n",
    "                        D_ABBA1_2_diff[index]     = np.linalg.norm(np.diff(norm_ts[:minlen3]) - np.diff(ts_ABBA1[:minlen3]))\n",
    "                        D_fABBA_2_diff[index]     = np.linalg.norm(np.diff(norm_ts[:minlen4]) - np.diff(ts_fABBA[:minlen4]))\n",
    "                        D_QABBA1_2_diff[index]     = np.linalg.norm(np.diff(norm_ts[:minlen5]) - np.diff(ts_QABBA1[:minlen5]))\n",
    "                        D_QABBA2_2_diff[index]     = np.linalg.norm(np.diff(norm_ts[:minlen6]) - np.diff(ts_QABBA2[:minlen6]))\n",
    "                        \n",
    "                        D_SAX_DTW_diff[index]      =   dtw(np.diff(norm_ts[:minlen1]), np.diff(ts_SAX[:minlen1]))\n",
    "                        D_oneD_SAX_DTW_diff[index] =   dtw(np.diff(norm_ts[:minlen2]), np.diff(ts_oneD_SAX[:minlen2]))\n",
    "                        D_ABBA1_DTW_diff[index]     =  dtw(np.diff(norm_ts[:minlen3]), np.diff(ts_ABBA1[:minlen3]))\n",
    "                        D_fABBA_DTW_diff[index]     =  dtw(np.diff(norm_ts[:minlen4]), np.diff(ts_fABBA[:minlen4]))\n",
    "                        D_QABBA1_DTW_diff[index]     =  dtw(np.diff(norm_ts[:minlen5]), np.diff(ts_QABBA1[:minlen5]))\n",
    "                        D_QABBA2_DTW_diff[index]     =  dtw(np.diff(norm_ts[:minlen6]), np.diff(ts_QABBA2[:minlen6]))\n",
    "                        \n",
    "                        # Compute time\n",
    "                        D_SAX_time[index] = time_sax\n",
    "                        D_oneD_SAX_time[index] = time_oneD_sax\n",
    "                        D_ABBA1_time[index] = time_abba1\n",
    "                        D_fABBA_time[index] = time_fabba\n",
    "                        D_QABBA1_time[index] = time_qabba1\n",
    "                        D_QABBA2_time[index] = time_qabba2\n",
    "                        \n",
    "                        compression[index] = ABBA_len/len(norm_ts) # Store compression amount\n",
    "                        count[index] = len(norm_ts)\n",
    "                        index += 1\n",
    "                        \n",
    "                        if need_to_plot:\n",
    "                            fig, ax = plt.subplots(1, 1)\n",
    "                            fig, ax = figdefault(fig, ax, r=0.7)\n",
    "                            plt.plot(norm_ts, c='k', label='Original')\n",
    "                            plt.plot(ts_SAX, '--',  label='SAX')\n",
    "                            plt.plot(ts_oneD_SAX, '-.', label='1D-SAX')\n",
    "                            plt.plot(ts_ABBA1, marker='2', c='darkorange', label='ABBA')\n",
    "                            plt.plot(ts_fABBA , marker='p', markersize=3, c='yellowgreen', label='fABBA')\n",
    "                            plt.plot(ts_QABBA1, marker='P', markersize=3, c='violet', label='QABBA (VQ)')\n",
    "                            plt.plot(ts_QABBA2 , marker='*', markersize=3, c='cornflowerblue', label='QABBA (GA)')\n",
    "                            plt.legend(fontsize=14, loc='best')\n",
    "                            plt.grid(False) # axis='y'\n",
    "                            plt.tick_params(axis='both', labelsize=14)\n",
    "                            plt.savefig('results/pp'+'/fig0.1/'+file[0:-4]+'.pdf')\n",
    "                            need_to_plot = False\n",
    "\n",
    "                    except(TypeError):\n",
    "                        error[index] = 1\n",
    "                        compression[index] = np.NaN\n",
    "                        tol_used[index] = np.NaN\n",
    "                        index += 1\n",
    "                        pass\n",
    "                        \n",
    "                    except(TimeSeriesTooShort):\n",
    "                        error[index] = 2\n",
    "                        compression[index] = np.NaN\n",
    "                        tol_used[index] = np.NaN\n",
    "                        index += 1\n",
    "                        pass\n",
    "\n",
    "                    except(NotEnoughPieces):\n",
    "                        error[index] = 3\n",
    "                        compression[index] = np.NaN\n",
    "                        tol_used[index] = np.NaN\n",
    "                        index += 1\n",
    "                        pass\n",
    "\n",
    "                    except(CompressionTolHigh):\n",
    "                        error[index] = 4\n",
    "                        compression[index] = np.NaN\n",
    "                        tol_used[index] = np.NaN\n",
    "                        index += 1\n",
    "                        pass\n",
    "\n",
    "                    except(UnknownError):\n",
    "                        error[index] = 5\n",
    "                        compression[index] = np.NaN\n",
    "                        tol_used[index] = np.NaN\n",
    "                        index += 1\n",
    "                        pass\n",
    "                    \n",
    "                    except(ValueError):\n",
    "                        error[index] = 6\n",
    "                        compression[index] = np.NaN\n",
    "                        tol_used[index] = np.NaN\n",
    "                        index += 1\n",
    "                        pass\n",
    "                    \n",
    "                    except(ABBAError):\n",
    "                        error[index] = 7\n",
    "                        compression[index] = np.NaN\n",
    "                        tol_used[index] = np.NaN\n",
    "                        index += 1\n",
    "                        pass\n",
    "                    \n",
    "                    except(fABBAError):\n",
    "                        error[index] = 8\n",
    "                        compression[index] = np.NaN\n",
    "                        tol_used[index] = np.NaN\n",
    "                        index += 1\n",
    "                        pass\n",
    "                    \n",
    "                    except(QABBA1Error):\n",
    "                        error[index] = 9\n",
    "                        compression[index] = np.NaN\n",
    "                        tol_used[index] = np.NaN\n",
    "                        index += 1\n",
    "                        pass\n",
    "                    \n",
    "                    except(QABBA2Error):\n",
    "                        error[index] = 10\n",
    "                        compression[index] = np.NaN\n",
    "                        tol_used[index] = np.NaN\n",
    "                        index += 1\n",
    "                        pass\n",
    "D = {}\n",
    "D['ts_name'] = ts_name\n",
    "D['compression'] = compression\n",
    "D['tol_used'] = tol_used\n",
    "D['error'] = error\n",
    "D['tol'] = tol\n",
    "\n",
    "D['SAX_2'] = D_SAX_2\n",
    "D['oneD_SAX_2'] = D_oneD_SAX_2\n",
    "D['ABBA_2'] = D_ABBA1_2\n",
    "D['fABBA_2'] = D_fABBA_2\n",
    "D['QABBA1_2'] = D_QABBA1_2\n",
    "D['QABBA2_2'] = D_QABBA2_2\n",
    "\n",
    "D['SAX_DTW'] = D_SAX_DTW\n",
    "D['oneD_SAX_DTW'] = D_oneD_SAX_DTW\n",
    "D['ABBA_DTW'] = D_ABBA1_DTW\n",
    "D['fABBA_DTW'] = D_fABBA_DTW\n",
    "D['QABBA1_DTW'] = D_QABBA1_DTW\n",
    "D['QABBA2_DTW'] = D_QABBA2_DTW\n",
    "\n",
    "D['SAX_2_diff'] = D_SAX_2_diff\n",
    "D['oneD_SAX_2_diff'] = D_oneD_SAX_2_diff\n",
    "D['ABBA_2_diff'] = D_ABBA1_2_diff\n",
    "D['fABBA_2_diff'] = D_fABBA_2_diff\n",
    "D['QABBA1_2_diff'] = D_QABBA1_2_diff\n",
    "D['QABBA2_2_diff'] = D_QABBA2_2_diff\n",
    "\n",
    "D['SAX_DTW_diff'] = D_SAX_DTW_diff\n",
    "D['oneD_SAX_DTW_diff'] = D_oneD_SAX_DTW_diff\n",
    "D['ABBA_DTW_diff'] = D_ABBA1_DTW_diff\n",
    "D['fABBA_DTW_diff'] = D_fABBA_DTW_diff\n",
    "D['QABBA1_DTW_diff'] = D_QABBA1_DTW_diff\n",
    "D['QABBA2_DTW_diff'] = D_QABBA2_DTW_diff\n",
    "\n",
    "D['SAX_time'] =  D_SAX_time\n",
    "D['oneD_SAX_time'] = D_oneD_SAX_time\n",
    "D['ABBA_time'] = D_ABBA1_time\n",
    "D['fABBA_time'] = D_fABBA_time\n",
    "D['QABBA1_time'] = D_QABBA1_time\n",
    "D['QABBA2_time'] = D_QABBA2_time\n",
    "\n",
    "with open('results/QABBA0.1'+'.p', 'wb') as handle:\n",
    "    pickle.dump(D, handle, protocol=pickle.HIGHEST_PROTOCOL)\n",
    "    \n",
    "Datastore = pd.DataFrame(columns=[\"ts name\", \"number of pieces\", \"number of symbols\",\"tol\"])\n",
    "Datastore[\"ts name\"] = ctsname\n",
    "Datastore[\"number of pieces\"] = cpiecesNum \n",
    "Datastore[\"number of symbols\"] = csymbolicNum  \n",
    "Datastore[\"tol\"] = ctolist \n",
    "Datastore.to_csv(\"results/QABBA0.1sl.csv\",index=False)"
   ]
  },
  {
   "cell_type": "code",
   "execution_count": null,
   "metadata": {},
   "outputs": [],
   "source": []
  }
 ],
 "metadata": {
  "kernelspec": {
   "display_name": "Python 3 (ipykernel)",
   "language": "python",
   "name": "python3"
  },
  "language_info": {
   "codemirror_mode": {
    "name": "ipython",
    "version": 3
   },
   "file_extension": ".py",
   "mimetype": "text/x-python",
   "name": "python",
   "nbconvert_exporter": "python",
   "pygments_lexer": "ipython3",
   "version": "3.11.2"
  }
 },
 "nbformat": 4,
 "nbformat_minor": 4
}
